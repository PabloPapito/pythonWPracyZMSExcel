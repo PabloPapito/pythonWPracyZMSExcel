{
 "cells": [
  {
   "cell_type": "markdown",
   "id": "20d1df8f-07c2-4750-9521-9bafc6cae3c2",
   "metadata": {},
   "source": [
    "# Ćwiczenie 1: Tworzenie i modyfikowanie pliku Excel za pomocą openpyxl"
   ]
  },
  {
   "cell_type": "code",
   "execution_count": null,
   "id": "3375afc8-3107-4f28-9267-756d40224e42",
   "metadata": {},
   "outputs": [],
   "source": [
    "# Zaimportuj moduły:\n",
    "    # Skorzystaj z pakietu openpyxl do pracy z plikami Excel. \n",
    "    # Użyj modułów takich jak Workbook, load_workbook, Font, PatternFill oraz BarChart, aby tworzyć pliki, modyfikować je, formatować komórki i dodawać wykresy.\n",
    "\n",
    "# Utwórz nowy plik Excel:\n",
    "    # Skorzystaj z klasy Workbook(), aby utworzyć nowy skoroszyt Excel.\n",
    "    # Dodaj nagłówki do komórek i wprowadź dane w kolumnach A, B i C.\n",
    "    # Zapisz plik pod nazwą 'openpyxl_cw1.xlsx'.\n",
    "\n",
    "# Otwórz istniejący plik Excel i zmodyfikuj dane:\n",
    "    # Użyj funkcji load_workbook(), aby otworzyć istniejący plik Excel.\n",
    "    # Zmień wartość w komórce C2 (zmień wiek Alice na 31).\n",
    "    # Zapisz zmodyfikowany plik pod nową nazwą 'openpyxl_cw1_modified.xlsx'.\n",
    "\n",
    "# Zastosuj formatowanie nagłówków:\n",
    "    # Użyj klasy Font do pogrubienia tekstu i zmiany koloru czcionki na biały.\n",
    "    # Skorzystaj z klasy PatternFill, aby ustawić tło nagłówków na czarne.\n",
    "    # Zastosuj formatowanie do wszystkich komórek w pierwszym wierszu.\n",
    "\n",
    "# Sprawdź zapisane zmiany:\n",
    "    # Użyj biblioteki pandas, aby odczytać dane z pliku Excel i wyświetlić wynik.\n",
    "\n",
    "# Dodaj wykres do arkusza:\n",
    "    # Skorzystaj z klasy BarChart, aby utworzyć wykres słupkowy.\n",
    "    # Użyj klasy Reference, aby zdefiniować dane i kategorie dla wykresu.\n",
    "    # Dodaj wykres do arkusza i zapisz plik jako 'openpyxl_cw1_with_chart.xlsx'.\n",
    "\n",
    "# Wynik:\n",
    "# Po wykonaniu wszystkich powyższych kroków:\n",
    "    # Plik Excel: openpyxl_cw1.xlsx zawiera dane o ID, imionach i wieku osób.\n",
    "    # Zmodyfikowany plik: openpyxl_cw1_modified.xlsx ma zmienioną wartość wieku Alice.\n",
    "    # Sformatowany plik: openpyxl_cw1_styled.xlsx zawiera stylizowane nagłówki.\n",
    "    # Plik z wykresem: openpyxl_cw1_with_chart.xlsx zawiera dodany wykres przedstawiający wiek osób w kolumnie \"Age\".\n",
    "\n",
    "# Wyniki mogą być dodatkowo zweryfikowane przez otwarcie plików Excel i sprawdzenie zapisanych danych oraz wykresu."
   ]
  },
  {
   "cell_type": "code",
   "execution_count": null,
   "id": "740c132b-455a-4b6a-abe0-e402ddb45f61",
   "metadata": {},
   "outputs": [],
   "source": []
  },
  {
   "cell_type": "markdown",
   "id": "01f6f12f-95c6-48cf-b819-79aa0af6e88e",
   "metadata": {},
   "source": [
    "#### Import"
   ]
  },
  {
   "cell_type": "code",
   "execution_count": null,
   "id": "e9a80c83-b967-43c1-abf9-22ebd0eac4d9",
   "metadata": {},
   "outputs": [],
   "source": []
  },
  {
   "cell_type": "markdown",
   "id": "c37399a5-4ebf-4b1d-ae3c-cb5911765127",
   "metadata": {},
   "source": [
    "#### Tworzenie nowego pliku Excel"
   ]
  },
  {
   "cell_type": "code",
   "execution_count": null,
   "id": "3fea6c9b-702f-477a-974f-fda2185e4c8f",
   "metadata": {},
   "outputs": [],
   "source": []
  },
  {
   "cell_type": "markdown",
   "id": "d022abdd-e4a8-4da4-9ab9-50fe76573185",
   "metadata": {},
   "source": [
    "#### Odczyt i modyfikacja istniejącego pliku Excel:"
   ]
  },
  {
   "cell_type": "code",
   "execution_count": null,
   "id": "25aa5bfb-d5e3-4cf8-8ff3-4ab76eaab4ff",
   "metadata": {},
   "outputs": [],
   "source": []
  },
  {
   "cell_type": "markdown",
   "id": "bfcb612b-8323-4577-afc4-ccb8b3f78e18",
   "metadata": {},
   "source": [
    "#### Stylizacja komórek:"
   ]
  },
  {
   "cell_type": "code",
   "execution_count": null,
   "id": "1ca90d08-017f-4681-9f3f-fb0451043e64",
   "metadata": {},
   "outputs": [],
   "source": []
  },
  {
   "cell_type": "markdown",
   "id": "032d452d-7f24-44c3-ae55-c72ca5bf1a12",
   "metadata": {},
   "source": [
    "#### Dodawanie wykresów:"
   ]
  },
  {
   "cell_type": "code",
   "execution_count": null,
   "id": "bbbef661-2615-400c-9fff-f133d9bf4495",
   "metadata": {},
   "outputs": [],
   "source": []
  },
  {
   "cell_type": "code",
   "execution_count": null,
   "id": "2a910104-c88d-48a5-a37e-9d5666a6d174",
   "metadata": {},
   "outputs": [],
   "source": []
  },
  {
   "cell_type": "code",
   "execution_count": null,
   "id": "1c650bfd-ede2-4529-9e8a-b648ffe37b0c",
   "metadata": {},
   "outputs": [],
   "source": []
  },
  {
   "cell_type": "code",
   "execution_count": null,
   "id": "13473e75-cdb2-4f2f-9edd-bd979408148f",
   "metadata": {},
   "outputs": [],
   "source": []
  }
 ],
 "metadata": {
  "kernelspec": {
   "display_name": "Python 3 (ipykernel)",
   "language": "python",
   "name": "python3"
  },
  "language_info": {
   "codemirror_mode": {
    "name": "ipython",
    "version": 3
   },
   "file_extension": ".py",
   "mimetype": "text/x-python",
   "name": "python",
   "nbconvert_exporter": "python",
   "pygments_lexer": "ipython3",
   "version": "3.11.5"
  }
 },
 "nbformat": 4,
 "nbformat_minor": 5
}
