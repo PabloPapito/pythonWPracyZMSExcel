{
 "cells": [
  {
   "attachments": {},
   "cell_type": "markdown",
   "id": "5cbc35b9-1cc9-4a22-a566-dc998eaad4c5",
   "metadata": {},
   "source": [
    "# Praca z pakietami openpyxl, xlsxwriter, xlrd i xlwt"
   ]
  },
  {
   "cell_type": "code",
   "execution_count": 31,
   "id": "9eb804b6-16e2-4d28-9091-86279542dccd",
   "metadata": {},
   "outputs": [
    {
     "name": "stdout",
     "output_type": "stream",
     "text": [
      "Requirement already satisfied: openpyxl in c:\\users\\pablopapito\\anaconda3\\lib\\site-packages (3.0.10)\n",
      "Requirement already satisfied: xlsxwriter in c:\\users\\pablopapito\\anaconda3\\lib\\site-packages (3.2.0)\n",
      "Requirement already satisfied: xlrd in c:\\users\\pablopapito\\anaconda3\\lib\\site-packages (2.0.1)\n",
      "Requirement already satisfied: xlwt in c:\\users\\pablopapito\\anaconda3\\lib\\site-packages (1.3.0)\n",
      "Requirement already satisfied: et_xmlfile in c:\\users\\pablopapito\\anaconda3\\lib\\site-packages (from openpyxl) (1.1.0)\n",
      "Note: you may need to restart the kernel to use updated packages.\n"
     ]
    }
   ],
   "source": [
    "pip install openpyxl xlsxwriter xlrd xlwt"
   ]
  },
  {
   "cell_type": "markdown",
   "id": "740e7a59-a95e-42fa-b222-2355fba0c893",
   "metadata": {},
   "source": [
    "#### Ćwiczenie 1"
   ]
  },
  {
   "cell_type": "code",
   "execution_count": 2,
   "id": "dae9905b-66d5-4403-bfa5-ecbb233ee6cd",
   "metadata": {},
   "outputs": [],
   "source": [
    "# openpyxl: Tworzenie nowego pliku Excel, odczyt danych\n",
    "\n",
    "from openpyxl import Workbook\n",
    "wb = Workbook()\n",
    "ws = wb.active\n",
    "ws['A1'] = \"Hello, Openpyxl!\"\n",
    "wb.save('openpyxl_example_reminder.xlsx')"
   ]
  },
  {
   "cell_type": "code",
   "execution_count": 5,
   "id": "380d5cdc-afe4-4a89-93e6-d7f184407576",
   "metadata": {},
   "outputs": [
    {
     "name": "stdout",
     "output_type": "stream",
     "text": [
      "Hello, Openpyxl!\n"
     ]
    }
   ],
   "source": [
    "# odczyt danych\n",
    "\n",
    "from openpyxl import load_workbook\n",
    "wb = load_workbook('openpyxl_example_reminder.xlsx')\n",
    "ws = wb.active\n",
    "print(ws['A1'].value)\n"
   ]
  },
  {
   "cell_type": "markdown",
   "id": "e5abb1db-9d00-449d-b4ae-c37bf1e84583",
   "metadata": {},
   "source": [
    "#### Ćwiczenie 2"
   ]
  },
  {
   "cell_type": "code",
   "execution_count": 9,
   "id": "b972801c-68e2-415f-b354-f11fea52e6d2",
   "metadata": {},
   "outputs": [],
   "source": [
    "# xlsxwriter: Tworzenie nowego pliku Excel z formatowaniem\n",
    "\n",
    "import xlsxwriter\n",
    "workbook = xlsxwriter.Workbook('xlsxwriter_example_reminder.xlsx')\n",
    "worksheet = workbook.add_worksheet()\n",
    "worksheet.write('A1', 'Hello, XlsxWriter!')\n",
    "format = workbook.add_format({'bold': True, 'font_color': 'red'})\n",
    "worksheet.write('A2', 'Formatted text', format)\n",
    "workbook.close()\n"
   ]
  },
  {
   "cell_type": "markdown",
   "id": "48286195-4d36-44f6-ab16-cf90196714aa",
   "metadata": {},
   "source": [
    "#### Ćwiczenie 3"
   ]
  },
  {
   "cell_type": "code",
   "execution_count": 13,
   "id": "360b41a6-0685-4d1b-905e-c993bd9f3843",
   "metadata": {},
   "outputs": [
    {
     "name": "stdout",
     "output_type": "stream",
     "text": [
      "work_year\n"
     ]
    }
   ],
   "source": [
    "# xlrd: Odczyt danych z pliku Excel\n",
    "\n",
    "import xlrd\n",
    "workbook = xlrd.open_workbook(r'C:\\Users\\PabloPapito\\Downloads\\jobsInData\\jobsInDataXLS.xls')\n",
    "sheet = workbook.sheet_by_index(0)\n",
    "print(sheet.cell_value(0, 0))\n"
   ]
  },
  {
   "cell_type": "markdown",
   "id": "465ff0b8-5340-47f3-ae1c-a07b821024bc",
   "metadata": {},
   "source": [
    "#### Ćwiczenie 4"
   ]
  },
  {
   "cell_type": "code",
   "execution_count": 17,
   "id": "479878ab-0cda-4c80-922c-9c97aba29195",
   "metadata": {},
   "outputs": [],
   "source": [
    "# xlwt: Tworzenie nowego pliku Excel\n",
    "\n",
    "import xlwt\n",
    "workbook = xlwt.Workbook()\n",
    "sheet = workbook.add_sheet('Sheet 1')\n",
    "sheet.write(0, 0, 'Hello, Xlwt!')\n",
    "workbook.save('xlwt_example_reminder.xls')\n"
   ]
  },
  {
   "cell_type": "markdown",
   "id": "3001c3a8-ae9f-4a0e-a1fe-1e356a723fba",
   "metadata": {},
   "source": [
    "#### Ćwiczenie 5"
   ]
  },
  {
   "cell_type": "code",
   "execution_count": 20,
   "id": "59c1fbc7-2448-4680-8655-c752b8bea7b6",
   "metadata": {},
   "outputs": [
    {
     "name": "stdout",
     "output_type": "stream",
     "text": [
      "Hello, Openpyxl!\n",
      "This is a test.\n"
     ]
    }
   ],
   "source": [
    "# Tworzenie nowego pliku Excel za pomocą openpyxl\n",
    "\n",
    "from openpyxl import Workbook\n",
    "\n",
    "wb = Workbook()\n",
    "ws = wb.active\n",
    "ws['A1'] = \"Hello, Openpyxl!\"\n",
    "ws['A2'] = \"This is a test.\"\n",
    "wb.save('openpyxl_example_3rd.xlsx')\n",
    "\n",
    "from openpyxl import load_workbook\n",
    "wb = load_workbook('openpyxl_example_3rd.xlsx')\n",
    "ws = wb.active\n",
    "print(ws['A1'].value)\n",
    "print(ws['A2'].value)\n"
   ]
  }
 ],
 "metadata": {
  "kernelspec": {
   "display_name": "Python 3 (ipykernel)",
   "language": "python",
   "name": "python3"
  },
  "language_info": {
   "codemirror_mode": {
    "name": "ipython",
    "version": 3
   },
   "file_extension": ".py",
   "mimetype": "text/x-python",
   "name": "python",
   "nbconvert_exporter": "python",
   "pygments_lexer": "ipython3",
   "version": "3.11.5"
  }
 },
 "nbformat": 4,
 "nbformat_minor": 5
}
