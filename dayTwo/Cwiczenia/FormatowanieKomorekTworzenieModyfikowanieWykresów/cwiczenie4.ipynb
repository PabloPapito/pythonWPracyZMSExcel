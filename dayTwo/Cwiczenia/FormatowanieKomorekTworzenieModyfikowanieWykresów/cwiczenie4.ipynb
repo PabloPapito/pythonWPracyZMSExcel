{
 "cells": [
  {
   "cell_type": "markdown",
   "id": "651adae0-188d-4ae6-8e8b-64a174e52d12",
   "metadata": {},
   "source": [
    "# Ćwiczenie 4 - w zależności od zasobów czasowych można wybrać ile wykresów tworzyć. - szacowany czas 50-60 minut"
   ]
  },
  {
   "cell_type": "markdown",
   "id": "621f1edd-806d-4ee8-ba35-273bc770ab61",
   "metadata": {},
   "source": [
    "#### Zapisywanie danych w arkuszu, formatowanie i modyfikowanie wykresów"
   ]
  },
  {
   "cell_type": "code",
   "execution_count": null,
   "id": "964f7cb4-90ad-4bd8-a655-7d113436f4da",
   "metadata": {},
   "outputs": [],
   "source": [
    "# Tworzenie pliku Excel i arkusza:\n",
    "    # Importuj moduł xlsxwriter: Użyj tego modułu do stworzenia nowego pliku Excel. Moduł ten pozwala na tworzenie, zapisywanie i formatowanie danych w arkuszach kalkulacyjnych w formacie .xlsx.\n",
    "    # Stwórz nowy plik Excel i arkusz: Po utworzeniu pliku musisz dodać arkusz, w którym będą przechowywane dane. Arkusz nazwij na przykład 'DataSheet'.\n",
    "\n",
    "# Dodawanie nagłówków i formatowanie:\n",
    "    # Dodaj nagłówki kolumn: Wprowadź do arkusza nagłówki takie jak \"ID\", \"Name\", \"Age\", \"Department\" i \"Salary\". Każdy nagłówek będzie odpowiadał jednej kolumnie w arkuszu.\n",
    "    # Zastosuj styl do nagłówków: Skonfiguruj styl, który zmieni wygląd nagłówków. W tym przypadku możesz ustawić pogrubienie tekstu, biały kolor czcionki oraz tło w kolorze niebieskim. To sprawi, że nagłówki będą wyraźnie oddzielone od danych.\n",
    "\n",
    "# Dodawanie danych do arkusza:\n",
    "    # Wprowadź dane pracowników: Utwórz listę z danymi pracowników, gdzie każda kolumna reprezentuje wartości odpowiadające nagłówkom (ID, Name, Age, Department, Salary).\n",
    "    # Zastosuj różne style do komórek: W trakcie zapisu danych, użyj różnych formatów:\n",
    "        # Dla zwykłych tekstowych wartości (ID, Name, Department) zastosuj styl z zawijaniem tekstu i wyrównaniem do góry.\n",
    "        # Dla kolumny Salary (wynagrodzenie) zastosuj formatowanie liczby z dwoma miejscami po przecinku. To zapewni czytelność wartości finansowych.\n",
    "\n",
    "# Zamykanie pliku Excel:\n",
    "    # Zapisz i zamknij plik: Po wprowadzeniu danych i zastosowaniu formatowania musisz zapisać plik na dysku. Bez tej operacji wszystkie wprowadzone zmiany zostaną utracone. Po zapisaniu, zamknij plik, aby upewnić się, że wszystkie operacje zostały zakończone poprawnie.\n",
    "\n",
    "# Odczyt danych z pliku Excel za pomocą pandas:\n",
    "    # Importuj pandas: Użyj modułu pandas, aby otworzyć i odczytać dane zapisane w pliku Excel. To pozwoli Ci załadować dane do obiektu DataFrame.\n",
    "    # Wyświetl dane: Po wczytaniu danych wyświetl je, aby upewnić się, że zostały poprawnie załadowane. Dzięki temu zobaczysz, jak dane wyglądają po odczycie.\n"
   ]
  },
  {
   "cell_type": "code",
   "execution_count": null,
   "id": "918487ec-b66e-4dde-bc2f-4776be354e13",
   "metadata": {},
   "outputs": [],
   "source": [
    "# Tworzenie różnych typów wykresów za pomocą openpyxl:\n",
    "    # Importuj moduł openpyxl: Skorzystaj z openpyxl, który pozwoli Ci na dodanie różnych typów wykresów do już istniejącego pliku Excel.\n",
    "    # Wczytaj istniejący plik: Otwórz plik, który wcześniej stworzyłeś i załadowałeś do niego dane. Będziesz pracować na arkuszu o nazwie 'DataSheet'.\n",
    "\n",
    "# Wykres kolumnowy:\n",
    "    # Cel wykresu: Wykres kolumnowy pozwoli Ci porównać wynagrodzenia pracowników. Każda kolumna będzie odpowiadała jednemu pracownikowi, a wysokość kolumny pokaże wysokość jego wynagrodzenia.\n",
    "    # Dodawanie danych do wykresu: Skonfiguruj dane dla wykresu kolumnowego, wybierając odpowiednie zakresy dla wartości i kategorii (pracownicy i wynagrodzenia).\n",
    "    # Opis osi: Dodaj tytuły do osi wykresu, aby było jasne, co przedstawiają poszczególne kolumny (osie x - pracownicy, oś y - wynagrodzenie).\n",
    "\n",
    "# Wykres liniowy:\n",
    "    # Cel wykresu: Wykres liniowy pozwala zobaczyć trend lub zmianę wynagrodzeń dla pracowników w czasie. Choć dane w tym przykładzie są statyczne, wykres liniowy może być użyteczny, gdy dane dotyczą np. zmian wynagrodzeń w kolejnych latach.\n",
    "    # Zastosowanie wykresu: Skonfiguruj dane i kategorie podobnie jak dla wykresu kolumnowego, ale tym razem wykres przedstawi dane w postaci linii.\n",
    "\n",
    "# Wykres kołowy:\n",
    "    # Cel wykresu: Wykres kołowy dobrze nadaje się do przedstawienia udziałów wynagrodzeń w poszczególnych działach. Każdy wycinek wykresu reprezentuje dział, a jego wielkość odpowiada wynagrodzeniom pracowników z danego działu.\n",
    "    # Wybór danych: Użyj kolumny Salary dla wartości i kolumny Department dla kategorii, co pozwoli stworzyć wykres ilustrujący, który dział ma największy udział w całkowitych wynagrodzeniach.\n",
    "\n",
    "# Wykres obszarowy:\n",
    "    # Cel wykresu: Wykres obszarowy jest używany do pokazania jak wartości akumulują się w czasie. Może przedstawiać wynagrodzenia pracowników jako nakładające się obszary.\n",
    "    # Zastosowanie wykresu: Podobnie jak w przypadku wykresu liniowego, skonfiguruj dane i kategorie. Wykres obszarowy pozwala zobaczyć jak wartości rosną lub spadają na tle innych danych.\n",
    "\n",
    "# Wykres punktowy (scatter):\n",
    "    # Cel wykresu: Wykres scatter pozwala zobaczyć zależność między dwoma zmiennymi. W tym przypadku możesz zobaczyć, jak wynagrodzenie jest powiązane z poszczególnymi pracownikami.\n",
    "    # Skonfiguruj dane: Wybierz kolumnę Name jako wartości dla osi x i Salary dla osi y, aby uzyskać wykres punktowy, który pokazuje rozkład wynagrodzeń pracowników.\n",
    "\n",
    "# Wykres radarowy:\n",
    "    # Cel wykresu: Wykres radarowy przedstawia wielowymiarowe dane na siatce. W tym przypadku możesz zobaczyć wynagrodzenia pracowników w odniesieniu do siebie na radialnym układzie.\n",
    "    # Zastosowanie wykresu: Wybierz odpowiednie dane i utwórz wykres radarowy, aby wizualizować, jak wynagrodzenia różnią się między pracownikami w stosunku do wybranej skali.\n",
    "\n",
    "# Wykres słupkowy poziomy:\n",
    "    # Cel wykresu: Wykres słupkowy poziomy jest podobny do kolumnowego, ale zamiast pionowych kolumn, wynagrodzenia będą przedstawione jako poziome słupki. Może to być bardziej przejrzyste, gdy masz długie etykiety na osi y.\n",
    "    # Skonfiguruj dane: Wybierz dane dotyczące wynagrodzeń i przypisz je do słupków poziomych. Dostosuj tytuły osi, aby jasno określić, co przedstawia wykres.\n",
    "\n",
    "# Zapisz zmodyfikowany plik Excel:\n",
    "    # Zapisz wykresy: Po dodaniu wykresów do arkusza pamiętaj, aby zapisać plik, aby zmiany zostały zachowane. W przeciwnym razie wszystkie dodane wykresy znikną."
   ]
  },
  {
   "cell_type": "code",
   "execution_count": null,
   "id": "97573608-4150-4d44-90e2-b329f8e4d188",
   "metadata": {},
   "outputs": [],
   "source": [
    "# Wynik:\n",
    "    # Plik xlsxwriter_example_with_multiple_charts.xlsx będzie zawierał arkusz z danymi pracowników oraz różnymi wykresami, które wizualizują te dane w różnorodny sposób.\n",
    "    # Możesz teraz otworzyć plik Excel, aby zobaczyć dane oraz wykresy."
   ]
  },
  {
   "cell_type": "markdown",
   "id": "11b8ddcd-e9fb-46c0-9c50-92995dab7e7f",
   "metadata": {},
   "source": [
    "#### Tworzenie pliku"
   ]
  },
  {
   "cell_type": "code",
   "execution_count": null,
   "id": "dfc7d5ab-1ad4-4ddc-b575-de26048c2b94",
   "metadata": {},
   "outputs": [],
   "source": [
    "# Tworzenie nowego pliku Excel\n"
   ]
  },
  {
   "cell_type": "code",
   "execution_count": null,
   "id": "e435f533-ac03-4296-9831-8d305558f823",
   "metadata": {},
   "outputs": [],
   "source": [
    "# Dodawanie nagłówków do arkusza\n"
   ]
  },
  {
   "cell_type": "code",
   "execution_count": null,
   "id": "4f545c62-ee46-44b2-969a-1b23da0d06db",
   "metadata": {},
   "outputs": [],
   "source": [
    "# Dodawanie danych do arkusza\n",
    "data = [\n",
    "    [1, 'Alice', 30, 'HR', 50000],\n",
    "    [2, 'Bob', 24, 'Engineering', 55000],\n",
    "    [3, 'Charlie', 29, 'Marketing', 60000],\n",
    "    [4, 'David', 35, 'Finance', 70000],\n",
    "    [5, 'Eva', 28, 'IT', 65000],\n",
    "    [6, 'Frank', 33, 'HR', 52000],\n",
    "    [7, 'Grace', 26, 'Engineering', 58000],\n",
    "    [8, 'Hank', 31, 'Marketing', 61000],\n",
    "    [9, 'Ivy', 38, 'Finance', 72000],\n",
    "    [10, 'Jack', 27, 'IT', 66000]\n",
    "]"
   ]
  },
  {
   "cell_type": "markdown",
   "id": "334aa270-cde3-4b1f-9d23-895cbaf2c64a",
   "metadata": {},
   "source": [
    "#### Wczytanie danych z istniejącego pliku Excel za pomocą pandas"
   ]
  },
  {
   "cell_type": "code",
   "execution_count": null,
   "id": "c958ec3c-10ce-4931-bab2-d626ae973b8c",
   "metadata": {},
   "outputs": [],
   "source": [
    "# Wczytanie danych z istniejącego pliku Excel za pomocą pandas\n"
   ]
  },
  {
   "cell_type": "markdown",
   "id": "1cc0180e-35a2-417a-84cd-ba0f076768bb",
   "metadata": {},
   "source": [
    "#### Tworzenie różnych typów wykresów"
   ]
  },
  {
   "cell_type": "markdown",
   "id": "1c0da751-2fb6-4aa4-8bae-8b21c903c004",
   "metadata": {},
   "source": [
    "#### Wykres kolumnowy"
   ]
  },
  {
   "cell_type": "code",
   "execution_count": null,
   "id": "64475b7c-5b6c-4ce4-8c75-3442c6e021e5",
   "metadata": {},
   "outputs": [],
   "source": [
    "# Wczytanie istniejącego pliku Excel za pomocą openpyxl\n",
    "\n",
    "# Tworzenie wykresu\n",
    "\n",
    "# Dodanie wykresu do arkusza\n",
    "\n",
    "# Zapisanie pliku\n"
   ]
  },
  {
   "cell_type": "markdown",
   "id": "f75e1ea3-ca52-4655-b899-e90fac089b08",
   "metadata": {},
   "source": [
    "#### Wykres liniowy"
   ]
  },
  {
   "cell_type": "code",
   "execution_count": null,
   "id": "25e88b75-e489-4547-89fa-002c162bac00",
   "metadata": {},
   "outputs": [],
   "source": [
    "# Wczytanie istniejącego pliku Excel za pomocą openpyxl\n",
    "\n",
    "# Tworzenie wykresu\n",
    "\n",
    "# Dodanie wykresu do arkusza\n",
    "\n",
    "# Zapisanie pliku\n"
   ]
  },
  {
   "cell_type": "markdown",
   "id": "0bae523f-b780-4ae1-96c6-cbf9499ddb0c",
   "metadata": {},
   "source": [
    "#### Wykres kołowy"
   ]
  },
  {
   "cell_type": "code",
   "execution_count": null,
   "id": "7ed9eb7b-06c2-43d8-b492-0e71ffd1624f",
   "metadata": {},
   "outputs": [],
   "source": [
    "# Wczytanie istniejącego pliku Excel za pomocą openpyxl\n",
    "\n",
    "# Tworzenie wykresu\n",
    "\n",
    "# Dodanie wykresu do arkusza\n",
    "\n",
    "# Zapisanie pliku\n"
   ]
  },
  {
   "cell_type": "markdown",
   "id": "eece3ab7-336a-4a90-9f97-f7078e434bb3",
   "metadata": {},
   "source": [
    "#### Wykres obszarowy"
   ]
  },
  {
   "cell_type": "code",
   "execution_count": null,
   "id": "30fbae5e-b7d5-4e36-8186-a7e72fe71feb",
   "metadata": {},
   "outputs": [],
   "source": [
    "# Wczytanie istniejącego pliku Excel za pomocą openpyxl\n",
    "\n",
    "# Tworzenie wykresu\n",
    "\n",
    "# Dodanie wykresu do arkusza\n",
    "\n",
    "# Zapisanie pliku\n"
   ]
  },
  {
   "cell_type": "markdown",
   "id": "8bc34c50-f68c-4b8e-bfdb-930216d179f9",
   "metadata": {},
   "source": [
    "#### Wykres scatter (punktowy)"
   ]
  },
  {
   "cell_type": "code",
   "execution_count": null,
   "id": "77abf1d5-9814-4615-a516-3e0a406b0e5c",
   "metadata": {},
   "outputs": [],
   "source": [
    "# Wczytanie istniejącego pliku Excel za pomocą openpyxl\n",
    "\n",
    "# Tworzenie wykresu\n",
    "\n",
    "# Dodanie wykresu do arkusza\n",
    "\n",
    "# Zapisanie pliku\n"
   ]
  },
  {
   "cell_type": "markdown",
   "id": "0c28d3fe-80cc-4916-b897-ae14e88efb60",
   "metadata": {},
   "source": [
    "#### Wykres radarowy"
   ]
  },
  {
   "cell_type": "code",
   "execution_count": null,
   "id": "126cb237-4ef0-4548-9833-9cb4bfe7e753",
   "metadata": {},
   "outputs": [],
   "source": [
    "# Wczytanie istniejącego pliku Excel za pomocą openpyxl\n",
    "\n",
    "# Tworzenie wykresu\n",
    "\n",
    "# Dodanie wykresu do arkusza\n",
    "\n",
    "# Zapisanie pliku\n"
   ]
  },
  {
   "cell_type": "markdown",
   "id": "f8b3f15f-6bda-4e55-b712-da52e26ec3f1",
   "metadata": {},
   "source": [
    "#### Wykres słupkowy poziomy"
   ]
  },
  {
   "cell_type": "code",
   "execution_count": null,
   "id": "8bfb552b-10dc-4d65-8019-44b71aefe45d",
   "metadata": {},
   "outputs": [],
   "source": [
    "# Wczytanie istniejącego pliku Excel za pomocą openpyxl\n",
    "\n",
    "# Tworzenie wykresu\n",
    "\n",
    "# Dodanie wykresu do arkusza\n",
    "\n",
    "# Zmiana szerokości kolumn i wysokości wierszy w nowym arkuszu\n",
    "\n",
    "# Zapisanie pliku\n"
   ]
  }
 ],
 "metadata": {
  "kernelspec": {
   "display_name": "Python 3 (ipykernel)",
   "language": "python",
   "name": "python3"
  },
  "language_info": {
   "codemirror_mode": {
    "name": "ipython",
    "version": 3
   },
   "file_extension": ".py",
   "mimetype": "text/x-python",
   "name": "python",
   "nbconvert_exporter": "python",
   "pygments_lexer": "ipython3",
   "version": "3.11.5"
  }
 },
 "nbformat": 4,
 "nbformat_minor": 5
}
