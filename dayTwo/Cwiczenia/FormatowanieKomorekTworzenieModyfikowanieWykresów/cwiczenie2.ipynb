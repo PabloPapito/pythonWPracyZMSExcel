{
 "cells": [
  {
   "cell_type": "markdown",
   "id": "5a750cb6-5de0-4935-993f-07aac4260934",
   "metadata": {},
   "source": [
    "# Ćwiczenie 2: Tworzenie zaawansowanego pliku Excel za pomocą xlsxwriter"
   ]
  },
  {
   "cell_type": "code",
   "execution_count": null,
   "id": "e6199a52-9d90-4256-8223-4f426bbc30ee",
   "metadata": {},
   "outputs": [],
   "source": [
    "# Zaimportuj moduł xlsxwriter:\n",
    "    # Skorzystaj z modułu xlsxwriter, aby utworzyć nowy plik Excel i dodawać dane do różnych arkuszy.\n",
    "\n",
    "# Utwórz nowy plik Excel z wieloma arkuszami:\n",
    "    # Skorzystaj z klasy Workbook() z pakietu xlsxwriter, aby utworzyć nowy plik Excel.\n",
    "    # Dodaj dwa arkusze o nazwach 'Sheet1' i 'Sheet2' do skoroszytu za pomocą add_worksheet().\n",
    "\n",
    "# Dodaj nagłówki do arkusza Sheet1:\n",
    "    # Skorzystaj z funkcji write() do wprowadzenia nagłówków takich jak 'ID', 'Name', 'Age', 'Department', 'Salary' w komórkach od A1 do E1.\n",
    "\n",
    "# Wprowadź dane do arkusza Sheet1:\n",
    "    # Stwórz listę z danymi pracowników, która zawiera informacje takie jak ID, imię, wiek, dział oraz wynagrodzenie.\n",
    "    # Skorzystaj z pętli for oraz funkcji write_row(), aby zapisać dane w arkuszu od wiersza 2.\n",
    "\n",
    "# Dodaj nagłówki do arkusza Sheet2:\n",
    "    # Skorzystaj z funkcji write() oraz opcji formatowania (np. pogrubiona czcionka) do dodania nagłówków 'Product', 'Price', 'Quantity', 'Category'.\n",
    "\n",
    "# Wprowadź dane do arkusza Sheet2:\n",
    "    # Stwórz listę z danymi produktów zawierającą informacje takie jak produkt, cena, ilość oraz kategoria.\n",
    "    # Skorzystaj z pętli for oraz funkcji write_row(), aby zapisać dane w arkuszu od wiersza 2.\n",
    "\n",
    "# Zamknij i zapisz plik Excel:\n",
    "    # Skorzystaj z metody close(), aby zapisać wszystkie zmiany w pliku 'xlsxwriter_cw2.xlsx'.\n",
    "\n",
    "# Odczytaj dane z pliku Excel za pomocą pandas:\n",
    "    # Użyj pandas do odczytania zawartości pliku Excel i wyświetlenia danych z obu arkuszy.\n",
    "\n",
    "# Zaimportuj moduły openpyxl i dodaj wykresy:\n",
    "    # Użyj modułu openpyxl, aby ponownie otworzyć plik i dodać wykresy słupkowe do obu arkuszy. Skorzystaj z klasy BarChart do stworzenia wykresów.\n",
    "\n",
    "# Wynik:\n",
    "# Po wykonaniu wszystkich powyższych kroków:\n",
    "    # Plik Excel: 'xlsxwriter_cw2.xlsx' zawiera dane o pracownikach w arkuszu Sheet1 oraz dane o produktach w arkuszu Sheet2.\n",
    "    # Plik Excel z wykresami: 'xlsxwriter_cw2_with_charts.xlsx' zawiera dodatkowo wykresy słupkowe w obu arkuszach, prezentujące wynagrodzenia pracowników oraz ceny produktów.\n",
    "\n",
    "# Wyniki mogą być sprawdzone przez otwarcie plików Excel w odpowiednim programie."
   ]
  },
  {
   "cell_type": "markdown",
   "id": "495af20d-8763-4ae7-a7c0-da0d6130c08f",
   "metadata": {},
   "source": [
    "#### Tworzenie nowego pliku z wieloma arkuszami"
   ]
  },
  {
   "cell_type": "code",
   "execution_count": null,
   "id": "7babec0a-4668-4dd2-99ed-a2acc582eb1a",
   "metadata": {},
   "outputs": [],
   "source": [
    "# Tworzenie nowego pliku Excel\n"
   ]
  },
  {
   "cell_type": "code",
   "execution_count": null,
   "id": "95bd0389-0434-475a-8dd2-99f850d3d606",
   "metadata": {},
   "outputs": [],
   "source": [
    "# Dodawanie nagłówków do Sheet1\n"
   ]
  },
  {
   "cell_type": "code",
   "execution_count": null,
   "id": "f2d667ae-7c70-45f8-b83a-78144d4a2e26",
   "metadata": {},
   "outputs": [],
   "source": [
    "# Dodawanie większej ilości danych do Sheet1\n",
    "\n",
    "data_sheet1 = [\n",
    "    [1, 'Alice', 30, 'HR', 50000],\n",
    "    [2, 'Bob', 24, 'Engineering', 55000],\n",
    "    [3, 'Charlie', 29, 'Marketing', 60000],\n",
    "    [4, 'David', 35, 'Finance', 70000],\n",
    "    [5, 'Eva', 28, 'IT', 65000],\n",
    "    [6, 'Frank', 33, 'HR', 52000],\n",
    "    [7, 'Grace', 26, 'Engineering', 58000],\n",
    "    [8, 'Hank', 31, 'Marketing', 61000],\n",
    "    [9, 'Ivy', 38, 'Finance', 72000],\n",
    "    [10, 'Jack', 27, 'IT', 66000],\n",
    "    [11, 'Kim', 34, 'HR', 53000],\n",
    "    [12, 'Leo', 25, 'Engineering', 59000],\n",
    "    [13, 'Mia', 32, 'Marketing', 62000],\n",
    "    [14, 'Nina', 39, 'Finance', 73000],\n",
    "    [15, 'Oscar', 29, 'IT', 67000],\n",
    "    [16, 'Paul', 36, 'HR', 54000],\n",
    "    [17, 'Quinn', 28, 'Engineering', 60000],\n",
    "    [18, 'Rose', 37, 'Marketing', 63000],\n",
    "    [19, 'Sam', 40, 'Finance', 74000],\n",
    "    [20, 'Tina', 26, 'IT', 68000]\n",
    "]"
   ]
  },
  {
   "cell_type": "code",
   "execution_count": null,
   "id": "53518217-817c-42d8-9bc4-44d6040ff496",
   "metadata": {},
   "outputs": [],
   "source": [
    "# Pętla for do zapisu danych do Sheet1\n"
   ]
  },
  {
   "cell_type": "code",
   "execution_count": null,
   "id": "c779c95c-ff49-4a24-bbd6-712b205ae266",
   "metadata": {},
   "outputs": [],
   "source": [
    "# Dodawanie nagłówków do Sheet2\n"
   ]
  },
  {
   "cell_type": "code",
   "execution_count": null,
   "id": "f7739046-f8f5-48b9-a0e5-db92f8735f89",
   "metadata": {},
   "outputs": [],
   "source": [
    "# Dodawanie większej ilości danych do Sheet2\n",
    "\n",
    "data_sheet2 = [\n",
    "    ['Apple', 0.5, 150, 'Fruit'],\n",
    "    ['Banana', 0.3, 200, 'Fruit'],\n",
    "    ['Carrot', 0.4, 100, 'Vegetable'],\n",
    "    ['Dairy Milk', 1.5, 50, 'Dairy'],\n",
    "    ['Eggs', 2.0, 75, 'Dairy'],\n",
    "    ['Fish', 5.0, 40, 'Meat'],\n",
    "    ['Grapes', 2.5, 60, 'Fruit'],\n",
    "    ['Honey', 3.0, 30, 'Dairy'],\n",
    "    ['Ice Cream', 4.0, 80, 'Dairy'],\n",
    "    ['Juice', 2.2, 90, 'Beverage'],\n",
    "    ['Kiwi', 1.2, 100, 'Fruit'],\n",
    "    ['Lettuce', 0.8, 120, 'Vegetable'],\n",
    "    ['Mango', 1.5, 85, 'Fruit'],\n",
    "    ['Nuts', 3.5, 45, 'Snack'],\n",
    "    ['Orange', 0.6, 160, 'Fruit'],\n",
    "    ['Papaya', 1.8, 70, 'Fruit'],\n",
    "    ['Quinoa', 4.0, 40, 'Grain'],\n",
    "    ['Rice', 1.0, 200, 'Grain'],\n",
    "    ['Spinach', 0.9, 110, 'Vegetable'],\n",
    "    ['Tomato', 0.7, 140, 'Vegetable']\n",
    "]"
   ]
  },
  {
   "cell_type": "code",
   "execution_count": null,
   "id": "37e5e89f-cc8c-41f0-bcb3-23e52ce8002f",
   "metadata": {},
   "outputs": [],
   "source": [
    "# Pętla for do zapisu danych do Sheet2\n"
   ]
  },
  {
   "cell_type": "code",
   "execution_count": null,
   "id": "0575ad4a-f05a-4a91-81cf-fbaa4fce83d0",
   "metadata": {},
   "outputs": [],
   "source": [
    "# Zamknięcie pliku\n"
   ]
  },
  {
   "cell_type": "code",
   "execution_count": null,
   "id": "dc544371-1a8d-4a1b-b444-c08abcf11cb3",
   "metadata": {},
   "outputs": [],
   "source": [
    "# Podgląd pliku z pomocą Pandas.\n"
   ]
  },
  {
   "cell_type": "markdown",
   "id": "c4539030-aa24-4dae-b106-9fc9a131d36d",
   "metadata": {},
   "source": [
    "#### Dodaj wykresy do arkusza, aby wizualizować dane."
   ]
  },
  {
   "cell_type": "code",
   "execution_count": null,
   "id": "8804efa1-99cf-4b52-8050-2666bc9ed58c",
   "metadata": {},
   "outputs": [],
   "source": [
    "# Ponowne otwarcie pliku za pomocą openpyxl\n"
   ]
  },
  {
   "cell_type": "code",
   "execution_count": null,
   "id": "28e4b8ee-7595-4cd3-b56d-ccf60348413b",
   "metadata": {},
   "outputs": [],
   "source": [
    "# Dodawanie wykresu do Sheet1\n",
    "\n",
    "# Dodawanie wykresu do Sheet2\n"
   ]
  },
  {
   "cell_type": "code",
   "execution_count": null,
   "id": "3a598ae7-1cb8-4fa0-8e0d-76f93a55a429",
   "metadata": {},
   "outputs": [],
   "source": [
    "# Zapisanie pliku z wykresami\n"
   ]
  }
 ],
 "metadata": {
  "kernelspec": {
   "display_name": "Python 3 (ipykernel)",
   "language": "python",
   "name": "python3"
  },
  "language_info": {
   "codemirror_mode": {
    "name": "ipython",
    "version": 3
   },
   "file_extension": ".py",
   "mimetype": "text/x-python",
   "name": "python",
   "nbconvert_exporter": "python",
   "pygments_lexer": "ipython3",
   "version": "3.11.5"
  }
 },
 "nbformat": 4,
 "nbformat_minor": 5
}
