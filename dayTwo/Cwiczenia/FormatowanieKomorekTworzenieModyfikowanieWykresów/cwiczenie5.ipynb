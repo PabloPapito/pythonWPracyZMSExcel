{
 "cells": [
  {
   "cell_type": "markdown",
   "id": "ec698cd5-c2d3-43a6-839e-628926e138e7",
   "metadata": {},
   "source": [
    "# Ćwiczenie 5"
   ]
  },
  {
   "cell_type": "markdown",
   "id": "2fcc005d-20e8-4da6-8210-9204fdeedad6",
   "metadata": {},
   "source": [
    "#### Zaawansowane operacje na danych"
   ]
  },
  {
   "cell_type": "markdown",
   "id": "eb6ddf94-2323-4459-8e40-9f4679064525",
   "metadata": {},
   "source": [
    "#### Tworzenie danych"
   ]
  },
  {
   "cell_type": "code",
   "execution_count": null,
   "id": "bb5e6a36-fc54-4cba-9c6a-7e0c782bc3b4",
   "metadata": {},
   "outputs": [],
   "source": [
    "# Dane do pliku Excel 1\n"
   ]
  },
  {
   "cell_type": "code",
   "execution_count": null,
   "id": "6303c0aa-5446-471c-9706-0bf7ac6979e4",
   "metadata": {},
   "outputs": [],
   "source": [
    "# Dane do pliku Excel 2\n"
   ]
  },
  {
   "cell_type": "code",
   "execution_count": null,
   "id": "31831386-497c-40fe-a0c2-080c90829559",
   "metadata": {},
   "outputs": [],
   "source": [
    "# Dane do pliku csv\n"
   ]
  },
  {
   "cell_type": "code",
   "execution_count": null,
   "id": "c0f8b739-7f23-4f70-a2c5-e53118cb1cc0",
   "metadata": {},
   "outputs": [],
   "source": [
    "# Wczytywanie danych z plików Excel\n"
   ]
  },
  {
   "cell_type": "code",
   "execution_count": null,
   "id": "1cd3acce-4dfa-45a7-a5ed-e5b04825a21d",
   "metadata": {},
   "outputs": [],
   "source": [
    "# Wczytywanie danych z pliku CSV\n"
   ]
  },
  {
   "cell_type": "code",
   "execution_count": null,
   "id": "1724d48f-2a05-46ef-8775-45bd9cce9fcb",
   "metadata": {},
   "outputs": [],
   "source": [
    "# Łączenie danych z różnych arkuszy i plików w jeden DataFrame\n"
   ]
  },
  {
   "cell_type": "code",
   "execution_count": null,
   "id": "5a24b439-b2ae-4f9c-a0c9-1c6a6e16f75e",
   "metadata": {},
   "outputs": [],
   "source": [
    "# Przekształcanie danych\n",
    "pivot_hours = df_hours.pivot_table(index='ID', columns='Date', values='Hours Worked', aggfunc='sum', fill_value=0)\n",
    "pivot_hours"
   ]
  },
  {
   "cell_type": "code",
   "execution_count": null,
   "id": "ac8dca65-534b-4e8e-87af-c2f0cceb0f23",
   "metadata": {},
   "outputs": [],
   "source": [
    "# Grupowanie danych według działu i obliczanie średniego wynagrodzenia, mediany i odchylenia standardowego\n"
   ]
  },
  {
   "cell_type": "code",
   "execution_count": null,
   "id": "9e7f826e-46e4-45ee-87ee-e1f6049f744c",
   "metadata": {},
   "outputs": [],
   "source": [
    "# Filtrowanie danych według złożonych kryteriów\n"
   ]
  },
  {
   "cell_type": "code",
   "execution_count": null,
   "id": "e9d20b92-6de1-499a-b066-f4e977c2150e",
   "metadata": {},
   "outputs": [],
   "source": [
    "# Uzupełnianie brakujących danych\n",
    "df_employees.fillna({'Salary': df_employees['Salary'].mean()}, inplace=True)"
   ]
  },
  {
   "cell_type": "code",
   "execution_count": null,
   "id": "599fdd21-3272-4ff6-b918-e58ab0c8faba",
   "metadata": {},
   "outputs": [],
   "source": [
    "# Łączenie przekształconych danych w jeden DataFrame\n",
    "merged_df = pd.merge(df_employees, pivot_hours, on='ID', how='left')\n",
    "merged_df"
   ]
  },
  {
   "cell_type": "code",
   "execution_count": null,
   "id": "52308c1f-0793-439b-b07d-fd61809218d5",
   "metadata": {},
   "outputs": [],
   "source": [
    "# Usuwanie duplikatów\n",
    "merged_df = merged_df.drop_duplicates()\n",
    "merged_df"
   ]
  },
  {
   "cell_type": "code",
   "execution_count": null,
   "id": "1d98d9d9-f132-42ad-a228-9ed6dd7c651b",
   "metadata": {},
   "outputs": [],
   "source": [
    "# Sortowanie danych według wynagrodzenia\n"
   ]
  },
  {
   "cell_type": "code",
   "execution_count": null,
   "id": "24abe537-c280-47f5-b6be-3defa20ad662",
   "metadata": {},
   "outputs": [],
   "source": [
    "# Zapisanie przetworzonych danych do nowego pliku Excel\n"
   ]
  },
  {
   "cell_type": "code",
   "execution_count": null,
   "id": "1fb5af05-3399-4d82-b890-6d596f331fe5",
   "metadata": {},
   "outputs": [],
   "source": [
    "# Tworzenie wykresów\n"
   ]
  },
  {
   "cell_type": "code",
   "execution_count": null,
   "id": "364eaff3-88ed-4b8e-9770-ef7efbf5c1af",
   "metadata": {},
   "outputs": [],
   "source": [
    "# Dodanie wykresu słupkowego dla średnich wynagrodzeń\n"
   ]
  },
  {
   "cell_type": "code",
   "execution_count": null,
   "id": "f9ef4d41-34e7-4b2e-af22-a9eba56cb44d",
   "metadata": {},
   "outputs": [],
   "source": [
    "# Dodanie wykresu liniowego dla wynagrodzeń\n"
   ]
  },
  {
   "cell_type": "code",
   "execution_count": null,
   "id": "3b688a5b-1248-4701-bf3e-4dab9be4959a",
   "metadata": {},
   "outputs": [],
   "source": [
    "# Dodanie wykresu kołowego dla rozkładu wynagrodzeń\n"
   ]
  },
  {
   "cell_type": "code",
   "execution_count": null,
   "id": "8c3098bc-14b6-46bf-bde8-15b79a3c722d",
   "metadata": {},
   "outputs": [],
   "source": [
    "# Dodanie wykresu punktowego dla wynagrodzeń\n"
   ]
  },
  {
   "cell_type": "code",
   "execution_count": null,
   "id": "5742e3c4-40b6-4b59-aad1-3a26d1906284",
   "metadata": {},
   "outputs": [],
   "source": [
    "# Zapis pliku\n"
   ]
  }
 ],
 "metadata": {
  "kernelspec": {
   "display_name": "Python 3 (ipykernel)",
   "language": "python",
   "name": "python3"
  },
  "language_info": {
   "codemirror_mode": {
    "name": "ipython",
    "version": 3
   },
   "file_extension": ".py",
   "mimetype": "text/x-python",
   "name": "python",
   "nbconvert_exporter": "python",
   "pygments_lexer": "ipython3",
   "version": "3.11.5"
  }
 },
 "nbformat": 4,
 "nbformat_minor": 5
}
