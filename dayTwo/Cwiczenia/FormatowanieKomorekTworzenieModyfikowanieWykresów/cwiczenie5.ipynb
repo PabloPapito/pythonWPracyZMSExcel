{
 "cells": [
  {
   "cell_type": "markdown",
   "id": "ec698cd5-c2d3-43a6-839e-628926e138e7",
   "metadata": {},
   "source": [
    "# Ćwiczenie 5 Zaawansowane operacje na danych - szacowany czas 60-70 minut"
   ]
  },
  {
   "cell_type": "markdown",
   "id": "2fcc005d-20e8-4da6-8210-9204fdeedad6",
   "metadata": {},
   "source": [
    "#### Zaawansowane operacje na danych"
   ]
  },
  {
   "cell_type": "code",
   "execution_count": 26,
   "id": "f9e5fb72-8a23-45e0-9099-afd99e601e64",
   "metadata": {},
   "outputs": [],
   "source": [
    "# Tworzenie plików Excel z danymi\n",
    "    # Zaimportuj moduł pandas: Użyj modułu pandas, aby stworzyć dane i zapisać je w dwóch osobnych plikach Excel. Każdy plik będzie miał dwa arkusze:\n",
    "        # Sheet1 zawiera dane pracowników, takie jak: ID, Name, Department, Salary.\n",
    "        # Sheet2 zawiera dane dotyczące godzin pracy (ID, Date, Hours Worked).\n",
    "    # Utwórz pliki Excel: Przygotuj dane dla dwóch plików Excel (data1.xlsx i data2.xlsx) w formie dwóch arkuszy w każdym pliku. Skorzystaj z obiektu DataFrame i zapisz go za pomocą metody to_excel().\n",
    "\n",
    "# Tworzenie pliku CSV z danymi projektu\n",
    "    # Utwórz dane CSV: Stwórz dane dla projektu (ID, Project, Hours) i zapisz je do pliku CSV przy użyciu funkcji to_csv().\n",
    "\n",
    "# Ładowanie danych z plików Excel i CSV\n",
    "    # Załaduj dane z plików Excel: Skorzystaj z funkcji read_excel() z modułu pandas, aby załadować dane z obu plików Excel (data1.xlsx i data2.xlsx). Wczytaj dane z obu arkuszy w każdym pliku.\n",
    "    # Załaduj dane z pliku CSV: Użyj funkcji read_csv() z pandas, aby załadować dane dotyczące projektu z pliku CSV.\n",
    "\n",
    "# Łączenie danych z różnych źródeł\n",
    "    # Połącz dane z arkuszy: Użyj funkcji concat(), aby połączyć dane pracowników z obu plików Excel. W ten sposób utworzysz jeden spójny zestaw danych dotyczący pracowników oraz ich godzin pracy.\n",
    "\n",
    "# Przekształcanie danych\n",
    "    # Stwórz tabelę przestawną: Użyj funkcji pivot_table(), aby przekształcić dane godzin pracy na tabelę przestawną. W tej tabeli wartości w kolumnach będą reprezentowały liczby przepracowanych godzin w poszczególnych dniach dla każdego pracownika.\n",
    "\n",
    "# Grupowanie danych\n",
    "    # Grupuj dane według działu: Skorzystaj z funkcji groupby() z modułu pandas, aby pogrupować dane według działu pracowników (Department) i obliczyć różne statystyki dla wynagrodzeń, takie jak średnia (mean), mediana (median) i odchylenie standardowe (std).\n",
    "\n",
    "# Filtrowanie danych\n",
    "    # Filtruj dane: Skorzystaj z operacji logicznych, aby przefiltrować dane pracowników, na przykład wyświetlając tylko tych z działu Engineering, którzy zarabiają więcej niż 50,000.\n",
    "\n",
    "# Uzupełnianie brakujących danych\n",
    "    # Wypełnianie braków: Skorzystaj z metody fillna(), aby uzupełnić brakujące dane wynagrodzeń średnią wartością wynagrodzenia.\n",
    "\n",
    "# Łączenie przekształconych danych\n",
    "    # Scal dane: Użyj funkcji merge() z pandas, aby połączyć dane o pracownikach z tabelą przestawną dotyczącą godzin pracy na podstawie wspólnego klucza, jakim jest kolumna ID.\n",
    "\n",
    "# Usuwanie duplikatów\n",
    "    # Usuń zduplikowane wiersze: Skorzystaj z metody drop_duplicates(), aby pozbyć się ewentualnych zduplikowanych wierszy w wynikowym DataFrame.\n",
    "\n",
    "# Sortowanie danych\n",
    "    # Posortuj dane: Skorzystaj z metody sort_values(), aby posortować dane według kolumny Salary (od najwyższego do najniższego wynagrodzenia).\n",
    "\n",
    "# Zapisanie przetworzonych danych do nowego pliku Excel\n",
    "    # Zapisz dane: Użyj funkcji to_excel(), aby zapisać przetworzone dane do nowego pliku Excel (processed_data.xlsx). Zapisz różne arkusze, takie jak:\n",
    "        # Dane przekształcone (Merged Data)\n",
    "        # Grupowanie wynagrodzeń (Grouped Salary)\n",
    "        # Tabela przestawna godzin pracy (Pivot Hours)\n",
    "        # Przefiltrowani pracownicy (Filtered Employees)\n",
    "\n",
    "# Tworzenie wykresów w Excelu za pomocą openpyxl\n",
    "    # Zaimportuj moduł openpyxl: Użyj openpyxl, aby dodać wykresy do pliku Excel, na podstawie wcześniej zapisanych danych.\n",
    "# Tworzenie wykresów:\n",
    "    # Wykres słupkowy: Tworzy wykres słupkowy (BarChart) dla średnich wynagrodzeń w poszczególnych działach.\n",
    "    # Wykres liniowy: Tworzy wykres liniowy (LineChart) przedstawiający zmiany wynagrodzeń w czasie dla pracowników.\n",
    "    # Wykres kołowy: Tworzy wykres kołowy (PieChart) przedstawiający rozkład wynagrodzeń w różnych działach.\n",
    "    # Wykres punktowy: Tworzy wykres punktowy (ScatterChart) pokazujący rozkład wynagrodzeń w odniesieniu do działu.\n",
    "\n",
    "# Zapisanie zmian w pliku Excel\n",
    "    # Zapisz plik z wykresami: Po dodaniu wykresów, zapisz plik Excel, aby zmiany zostały zachowane.\n",
    "\n",
    "# Wynik:\n",
    "    # Plik processed_data.xlsx zawiera przetworzone dane o pracownikach, ich godzinach pracy oraz różne analizy.\n",
    "    # W pliku znajdują się również różne wykresy, które wizualizują wynagrodzenia pracowników w różnych układach."
   ]
  },
  {
   "cell_type": "markdown",
   "id": "eb6ddf94-2323-4459-8e40-9f4679064525",
   "metadata": {},
   "source": [
    "#### Tworzenie danych"
   ]
  },
  {
   "cell_type": "code",
   "execution_count": null,
   "id": "bb5e6a36-fc54-4cba-9c6a-7e0c782bc3b4",
   "metadata": {},
   "outputs": [],
   "source": [
    "# Dane do pliku Excel 1\n",
    "# Dane do pliku Excel 1\n",
    "data1_sheet1 = {\n",
    "    'ID': [1, 2, 3, 4, 5],\n",
    "    'Name': ['Alice', 'Bob', 'Charlie', 'David', 'Eva'],\n",
    "    'Department': ['HR', 'Engineering', 'Marketing', 'Finance', 'IT'],\n",
    "    'Salary': [50000, 55000, 60000, 70000, 65000]\n",
    "}\n",
    "\n",
    "data1_sheet2 = {\n",
    "    'ID': [1, 2, 3, 4, 5],\n",
    "    'Date': ['2024-01-01', '2024-01-02', '2024-01-03', '2024-01-04', '2024-01-05'],\n",
    "    'Hours Worked': [8, 7.5, 8, 6, 8]\n",
    "}\n",
    "\n",
    "\n"
   ]
  },
  {
   "cell_type": "code",
   "execution_count": null,
   "id": "6303c0aa-5446-471c-9706-0bf7ac6979e4",
   "metadata": {},
   "outputs": [],
   "source": [
    "# Dane do pliku Excel 2\n",
    "data2_sheet1 = {\n",
    "    'ID': [6, 7, 8, 9, 10],\n",
    "    'Name': ['Frank', 'Grace', 'Hank', 'Ivy', 'Jack'],\n",
    "    'Department': ['HR', 'Engineering', 'Marketing', 'Finance', 'IT'],\n",
    "    'Salary': [52000, 58000, 61000, 72000, 66000]\n",
    "}\n",
    "\n",
    "data2_sheet2 = {\n",
    "    'ID': [6, 7, 8, 9, 10],\n",
    "    'Date': ['2024-01-01', '2024-01-02', '2024-01-03', '2024-01-04', '2024-01-05'],\n",
    "    'Hours Worked': [8, 7, 8, 6.5, 8]\n",
    "}\n",
    "\n",
    "\n"
   ]
  },
  {
   "cell_type": "code",
   "execution_count": null,
   "id": "31831386-497c-40fe-a0c2-080c90829559",
   "metadata": {},
   "outputs": [],
   "source": [
    "# Dane do pliku csv\n",
    "data_csv = {\n",
    "    'ID': [1, 2, 3, 4, 5, 6, 7, 8, 9, 10],\n",
    "    'Project': ['Project A', 'Project B', 'Project C', 'Project D', 'Project E', 'Project F', 'Project G', 'Project H', 'Project I', 'Project J'],\n",
    "    'Hours': [10, 12, 8, 15, 10, 14, 11, 9, 16, 13]\n",
    "}\n",
    "\n",
    "\n"
   ]
  },
  {
   "cell_type": "code",
   "execution_count": null,
   "id": "c0f8b739-7f23-4f70-a2c5-e53118cb1cc0",
   "metadata": {},
   "outputs": [],
   "source": [
    "# Wczytywanie danych z plików Excel\n"
   ]
  },
  {
   "cell_type": "code",
   "execution_count": null,
   "id": "1cd3acce-4dfa-45a7-a5ed-e5b04825a21d",
   "metadata": {},
   "outputs": [],
   "source": [
    "# Wczytywanie danych z pliku CSV\n"
   ]
  },
  {
   "cell_type": "code",
   "execution_count": null,
   "id": "1724d48f-2a05-46ef-8775-45bd9cce9fcb",
   "metadata": {},
   "outputs": [],
   "source": [
    "# Łączenie danych z różnych arkuszy i plików w jeden DataFrame\n"
   ]
  },
  {
   "cell_type": "code",
   "execution_count": null,
   "id": "5a24b439-b2ae-4f9c-a0c9-1c6a6e16f75e",
   "metadata": {},
   "outputs": [],
   "source": [
    "# Przekształcanie danych\n",
    "pivot_hours = df_hours.pivot_table(index='ID', columns='Date', values='Hours Worked', aggfunc='sum', fill_value=0)\n",
    "pivot_hours"
   ]
  },
  {
   "cell_type": "code",
   "execution_count": null,
   "id": "ac8dca65-534b-4e8e-87af-c2f0cceb0f23",
   "metadata": {},
   "outputs": [],
   "source": [
    "# Grupowanie danych według działu i obliczanie średniego wynagrodzenia, mediany i odchylenia standardowego\n"
   ]
  },
  {
   "cell_type": "code",
   "execution_count": null,
   "id": "9e7f826e-46e4-45ee-87ee-e1f6049f744c",
   "metadata": {},
   "outputs": [],
   "source": [
    "# Filtrowanie danych według złożonych kryteriów\n"
   ]
  },
  {
   "cell_type": "code",
   "execution_count": null,
   "id": "e9d20b92-6de1-499a-b066-f4e977c2150e",
   "metadata": {},
   "outputs": [],
   "source": [
    "# Uzupełnianie brakujących danych\n",
    "df_employees.fillna({'Salary': df_employees['Salary'].mean()}, inplace=True)"
   ]
  },
  {
   "cell_type": "code",
   "execution_count": null,
   "id": "599fdd21-3272-4ff6-b918-e58ab0c8faba",
   "metadata": {},
   "outputs": [],
   "source": [
    "# Łączenie przekształconych danych w jeden DataFrame\n",
    "merged_df = pd.merge(df_employees, pivot_hours, on='ID', how='left')\n",
    "merged_df"
   ]
  },
  {
   "cell_type": "code",
   "execution_count": null,
   "id": "52308c1f-0793-439b-b07d-fd61809218d5",
   "metadata": {},
   "outputs": [],
   "source": [
    "# Usuwanie duplikatów\n",
    "merged_df = merged_df.drop_duplicates()\n",
    "merged_df"
   ]
  },
  {
   "cell_type": "code",
   "execution_count": null,
   "id": "1d98d9d9-f132-42ad-a228-9ed6dd7c651b",
   "metadata": {},
   "outputs": [],
   "source": [
    "# Sortowanie danych według wynagrodzenia\n"
   ]
  },
  {
   "cell_type": "code",
   "execution_count": null,
   "id": "24abe537-c280-47f5-b6be-3defa20ad662",
   "metadata": {},
   "outputs": [],
   "source": [
    "# Zapisanie przetworzonych danych do nowego pliku Excel\n"
   ]
  },
  {
   "cell_type": "code",
   "execution_count": null,
   "id": "1fb5af05-3399-4d82-b890-6d596f331fe5",
   "metadata": {},
   "outputs": [],
   "source": [
    "# Tworzenie wykresów\n"
   ]
  },
  {
   "cell_type": "code",
   "execution_count": null,
   "id": "364eaff3-88ed-4b8e-9770-ef7efbf5c1af",
   "metadata": {},
   "outputs": [],
   "source": [
    "# Dodanie wykresu słupkowego dla średnich wynagrodzeń\n"
   ]
  },
  {
   "cell_type": "code",
   "execution_count": null,
   "id": "f9ef4d41-34e7-4b2e-af22-a9eba56cb44d",
   "metadata": {},
   "outputs": [],
   "source": [
    "# Dodanie wykresu liniowego dla wynagrodzeń\n"
   ]
  },
  {
   "cell_type": "code",
   "execution_count": null,
   "id": "3b688a5b-1248-4701-bf3e-4dab9be4959a",
   "metadata": {},
   "outputs": [],
   "source": [
    "# Dodanie wykresu kołowego dla rozkładu wynagrodzeń\n"
   ]
  },
  {
   "cell_type": "code",
   "execution_count": null,
   "id": "8c3098bc-14b6-46bf-bde8-15b79a3c722d",
   "metadata": {},
   "outputs": [],
   "source": [
    "# Dodanie wykresu punktowego dla wynagrodzeń\n"
   ]
  },
  {
   "cell_type": "code",
   "execution_count": null,
   "id": "5742e3c4-40b6-4b59-aad1-3a26d1906284",
   "metadata": {},
   "outputs": [],
   "source": [
    "# Zapis pliku\n"
   ]
  }
 ],
 "metadata": {
  "kernelspec": {
   "display_name": "Python 3 (ipykernel)",
   "language": "python",
   "name": "python3"
  },
  "language_info": {
   "codemirror_mode": {
    "name": "ipython",
    "version": 3
   },
   "file_extension": ".py",
   "mimetype": "text/x-python",
   "name": "python",
   "nbconvert_exporter": "python",
   "pygments_lexer": "ipython3",
   "version": "3.11.5"
  }
 },
 "nbformat": 4,
 "nbformat_minor": 5
}
