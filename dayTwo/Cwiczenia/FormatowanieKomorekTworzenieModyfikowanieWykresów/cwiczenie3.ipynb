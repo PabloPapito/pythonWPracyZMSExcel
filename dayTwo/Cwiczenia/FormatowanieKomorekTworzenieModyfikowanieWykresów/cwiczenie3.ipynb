{
 "cells": [
  {
   "cell_type": "markdown",
   "id": "e85860db-b076-4224-a09f-127d7e34c3e7",
   "metadata": {},
   "source": [
    "# Ćwiczenie 3: Odczyt danych z pliku Excel i podstawowa analiza danych"
   ]
  },
  {
   "cell_type": "code",
   "execution_count": null,
   "id": "c0e1fc4e-3e87-434c-9489-bc4b2ad3613a",
   "metadata": {},
   "outputs": [],
   "source": [
    "# Zaimportuj potrzebne moduły:\n",
    "    # Skorzystaj z modułu xlsxwriter do tworzenia pliku Excel oraz modułu pandas do odczytu i analizy danych z plików Excel.\n",
    "\n",
    "# Utwórz nowy plik Excel:\n",
    "    # Skorzystaj z klasy Workbook() z modułu xlsxwriter, aby utworzyć nowy plik Excel o nazwie 'large_data_example.xlsx'.\n",
    "    # Dodaj arkusz o nazwie 'DataSheet' do skoroszytu za pomocą metody add_worksheet().\n",
    "\n",
    "# Dodaj nagłówki:\n",
    "    # Wprowadź nagłówki dla kolumn: 'ID', 'Name', 'Age', 'Department', 'Salary' za pomocą funkcji write().\n",
    "\n",
    "# # Generowanie danych:\n",
    "    # Utwórz listy z możliwymi wartościami dla kolumn 'Department' i 'Name'.\n",
    "    # Zdefiniuj funkcję generate_random_data(num_records), która losowo generuje dane pracowników dla podanej liczby wierszy. Dane będą obejmować ID, imię, wiek, dział i wynagrodzenie.\n",
    "    # Wygeneruj 1000 wierszy danych za pomocą funkcji generate_random_data(1000).\n",
    "    # Skorzystaj z pętli for oraz funkcji write_row(), aby zapisać dane w wierszach arkusza.\n",
    "\n",
    "# Odczytaj dane z pliku Excel za pomocą pandas:\n",
    "    # Skorzystaj z funkcji read_excel(), aby załadować dane z arkusza 'DataSheet' do obiektu DataFrame.\n",
    "\n",
    "# Wyświetl zawartość i pierwsze kilka wierszy danych:\n",
    "    # Skorzystaj z metody print(), aby wyświetlić całą zawartość DataFrame.\n",
    "    # Użyj metody head(), aby wyświetlić pierwsze 5 wierszy.\n",
    "\n",
    "# Wyświetl podstawowe statystyki opisowe:\n",
    "    # Skorzystaj z metody describe(), aby uzyskać podstawowe statystyki opisowe dla kolumn liczbowych, takich jak wiek i wynagrodzenie.\n",
    "\n",
    "# Filtrowanie danych:\n",
    "    # Wyświetl pracowników z działu 'Engineering' i wynagrodzeniem powyżej 60000. Skorzystaj z operacji logicznych i filtrowania danych.\n",
    "\n",
    "# Grupowanie danych:\n",
    "    # Pogrupuj dane według kolumny 'Department' i oblicz średnie wynagrodzenie dla każdego działu za pomocą metody groupby().\n",
    "\n",
    "# Tworzenie nowej kolumny:\n",
    "    # Utwórz nową kolumnę 'Tax', która będzie stanowić 23% wynagrodzenia (Salary * 0.23).\n",
    "\n",
    "# Zapisywanie danych do nowego pliku Excel:\n",
    "    # Zapisz przefiltrowane dane do nowego pliku Excel 'filtered_data.xlsx' za pomocą metody to_excel().\n",
    "    # Zapisz dane z nową kolumną 'Tax' do pliku 'data_with_tax.xlsx'.\n",
    "\n",
    "# Wynik:\n",
    "# Po wykonaniu powyższych kroków:\n",
    "    # Plik Excel: 'large_data_example.xlsx' zawiera 1000 wierszy losowych danych o pracownikach.\n",
    "    # Filtrowany plik Excel: 'filtered_data.xlsx' zawiera przefiltrowane dane pracowników z działu 'Engineering', których wynagrodzenie jest wyższe niż 60000.\n",
    "    # Plik z kolumną podatku: 'data_with_tax.xlsx' zawiera dane z dodatkową kolumną 'Tax', która oblicza 23% podatku od wynagrodzenia każdego pracownika.\n",
    "# Możesz teraz otworzyć te pliki Excel, aby zobaczyć wygenerowane i przetworzone dane."
   ]
  },
  {
   "cell_type": "markdown",
   "id": "95d50f6e-75aa-438a-9a31-8e5fb428adb2",
   "metadata": {},
   "source": [
    "#### Import"
   ]
  },
  {
   "cell_type": "code",
   "execution_count": null,
   "id": "4618f59d-8d81-48d8-959e-3c982480e7ee",
   "metadata": {},
   "outputs": [],
   "source": []
  },
  {
   "cell_type": "markdown",
   "id": "078e35a2-4b9e-4c48-a023-4d553e0a5ece",
   "metadata": {},
   "source": [
    "#### Przygotowanie pliku"
   ]
  },
  {
   "cell_type": "code",
   "execution_count": null,
   "id": "ff8943de-ddeb-4ec8-802b-167eb5eb6a2c",
   "metadata": {},
   "outputs": [],
   "source": [
    "# Tworzenie nowego pliku Excel\n"
   ]
  },
  {
   "cell_type": "code",
   "execution_count": null,
   "id": "e8c3e102-c51b-4ad8-b0af-284d62f9552c",
   "metadata": {},
   "outputs": [],
   "source": [
    "# Dodawanie nagłówków\n"
   ]
  },
  {
   "cell_type": "code",
   "execution_count": null,
   "id": "c7d07fb4-5df7-44b6-9a26-60f3b7ae176c",
   "metadata": {},
   "outputs": [],
   "source": [
    "# Generowanie dużej ilości danych\n",
    "import random\n",
    "import string\n",
    "\n",
    "departments = ['HR', 'Engineering', 'Marketing', 'Finance', 'IT']\n",
    "names = ['Alice', 'Bob', 'Charlie', 'David', 'Eva', 'Frank', 'Grace', 'Hank', 'Ivy', 'Jack',\n",
    "         'Kim', 'Leo', 'Mia', 'Nina', 'Oscar', 'Paul', 'Quinn', 'Rose', 'Sam', 'Tina']\n",
    "\n",
    "# Funkcja generująca losowe dane\n",
    "def generate_random_data(num_records):\n",
    "    data = []\n",
    "    for i in range(1, num_records + 1):\n",
    "        name = random.choice(names)\n",
    "        age = random.randint(20, 60)\n",
    "        department = random.choice(departments)\n",
    "        salary = random.randint(30000, 120000)\n",
    "        data.append([i, name, age, department, salary])\n",
    "    return data\n",
    "\n",
    "# Generowanie 1000 wierszy danych\n",
    "data = generate_random_data(1000)"
   ]
  },
  {
   "cell_type": "code",
   "execution_count": null,
   "id": "bba43250-5401-4890-b720-6cfcb7de8102",
   "metadata": {},
   "outputs": [],
   "source": [
    "# Dodawanie danych do arkusza\n"
   ]
  },
  {
   "cell_type": "code",
   "execution_count": null,
   "id": "1447ce39-1d99-417e-bda2-742af0478b73",
   "metadata": {},
   "outputs": [],
   "source": [
    "# Zamknięcie pliku\n"
   ]
  },
  {
   "cell_type": "markdown",
   "id": "788b318d-546f-441c-969a-b25481656719",
   "metadata": {},
   "source": [
    "#### Odczyt danych z pliku Excel w formacie xlsx"
   ]
  },
  {
   "cell_type": "code",
   "execution_count": null,
   "id": "eca01001-5c62-47ff-9b83-8a1c28e5c933",
   "metadata": {},
   "outputs": [],
   "source": [
    "# Otwieranie pliku Excel za pomocą pandas\n"
   ]
  },
  {
   "cell_type": "code",
   "execution_count": null,
   "id": "983f14f2-19f2-49e3-b700-57e201963d85",
   "metadata": {},
   "outputs": [],
   "source": [
    "# Wyświetlanie zawartości arkusza\n"
   ]
  },
  {
   "cell_type": "code",
   "execution_count": null,
   "id": "e3614357-4ec1-419f-89ff-fcdd59483466",
   "metadata": {},
   "outputs": [],
   "source": [
    "# Wyświetlanie pierwszych kilku wierszy danych\n"
   ]
  },
  {
   "cell_type": "code",
   "execution_count": null,
   "id": "9e3edd96-7fee-456d-b5ff-03d8ebfe0391",
   "metadata": {},
   "outputs": [],
   "source": [
    "# Podstawowe statystyki opisowe.\n"
   ]
  },
  {
   "cell_type": "code",
   "execution_count": null,
   "id": "92f09c84-3b03-40e7-8e95-b647c229f598",
   "metadata": {},
   "outputs": [],
   "source": [
    "# Filtrowanie pracowników w dziale 'Engineering' z wynagrodzeniem powyżej 60000.\n"
   ]
  },
  {
   "cell_type": "code",
   "execution_count": null,
   "id": "a165e72c-6642-4196-8c25-37f99b0e32b3",
   "metadata": {},
   "outputs": [],
   "source": [
    "# Grupowanie danych według działu i obliczanie średniego wynagrodzenia.\n"
   ]
  },
  {
   "cell_type": "code",
   "execution_count": null,
   "id": "2b60732a-cb4f-4712-93bb-cacbb42f6e35",
   "metadata": {},
   "outputs": [],
   "source": [
    "# Tworzenie nowej kolumny 'Tax' jako 23% wynagrodzenia.\n"
   ]
  },
  {
   "cell_type": "code",
   "execution_count": null,
   "id": "8d50dd67-2442-48a1-ac39-eaacc917a1e9",
   "metadata": {},
   "outputs": [],
   "source": [
    "# Zapisywanie przefiltrowanych danych do nowego pliku Excel.\n"
   ]
  },
  {
   "cell_type": "code",
   "execution_count": null,
   "id": "3f6a4c3a-b78a-49af-9302-464d73a5f1b3",
   "metadata": {},
   "outputs": [],
   "source": [
    "# Zapisywanie danych z nową kolumną 'Tax' do nowego pliku Excel.\n"
   ]
  }
 ],
 "metadata": {
  "kernelspec": {
   "display_name": "Python 3 (ipykernel)",
   "language": "python",
   "name": "python3"
  },
  "language_info": {
   "codemirror_mode": {
    "name": "ipython",
    "version": 3
   },
   "file_extension": ".py",
   "mimetype": "text/x-python",
   "name": "python",
   "nbconvert_exporter": "python",
   "pygments_lexer": "ipython3",
   "version": "3.11.5"
  }
 },
 "nbformat": 4,
 "nbformat_minor": 5
}
