{
 "cells": [
  {
   "cell_type": "markdown",
   "id": "1b0afb57-9954-4edd-a90f-4c9be8338cb7",
   "metadata": {},
   "source": [
    "# Wykresy"
   ]
  },
  {
   "cell_type": "markdown",
   "id": "05a5d2af-8565-4415-b496-5c185d76a719",
   "metadata": {},
   "source": [
    "## Tworzenie wykresów w openpyxl"
   ]
  },
  {
   "cell_type": "code",
   "execution_count": 118,
   "id": "7a8c78d2-f9ac-4998-8bce-48dac4e7cc72",
   "metadata": {},
   "outputs": [],
   "source": [
    "# openpyxl obsługuje różne typy wykresów w plikach .xlsx, takie jak wykresy słupkowe, liniowe, kołowe, punktowe, itp.\n"
   ]
  },
  {
   "cell_type": "markdown",
   "id": "9e67fbaf-ca71-420c-b5dc-d37aa0527c71",
   "metadata": {},
   "source": [
    "#### Tworzymy dane"
   ]
  },
  {
   "cell_type": "code",
   "execution_count": 198,
   "id": "1d5640c0-22bd-4921-980c-2e41388249a5",
   "metadata": {},
   "outputs": [],
   "source": [
    "# Dane\n",
    "from openpyxl import Workbook\n",
    "\n",
    "\n",
    "# Tworzymy nowy skoroszyt (plik Excel)\n",
    "wb = Workbook()\n",
    "\n",
    "# Aktywujemy domyślny arkusz w nowym skoroszycie\n",
    "ws = wb.active\n",
    "\n",
    "# Dodajemy przykładowe dane do arkusza\n",
    "data = [\n",
    "    ['Kategoria', 'Wartość'],  # Nagłówki kolumn\n",
    "    ['A', 10],  # Wartość dla kategorii A\n",
    "    ['B', 40],  # Wartość dla kategorii B\n",
    "    ['C', 30],  # Wartość dla kategorii C\n",
    "    ['D', 20],  # Wartość dla kategorii D\n",
    "]\n",
    "\n",
    "# Wstawiamy dane do arkusza\n",
    "for row in data:\n",
    "    ws.append(row)\n"
   ]
  },
  {
   "cell_type": "markdown",
   "id": "7e003c9f-6ffb-467e-8886-b1111e17a93c",
   "metadata": {},
   "source": [
    "#### Wykres słupkowy (BarChart)"
   ]
  },
  {
   "cell_type": "code",
   "execution_count": 201,
   "id": "6daf6946-b6de-4014-9089-ced166113f87",
   "metadata": {},
   "outputs": [],
   "source": [
    "from openpyxl.chart import BarChart, Reference\n",
    "\n",
    "# --- Tworzenie wykresu słupkowego ---\n",
    "# Tworzymy obiekt wykresu typu słupkowego\n",
    "chart = BarChart()\n",
    "\n",
    "# Ustalamy zakres danych, które będą wyświetlane na osi Y (wartości)\n",
    "# Oznacza to, że wybieramy kolumnę 2 (B) z wierszami od 2 do 5 (wartości kategorii A-D)\n",
    "data_ref = Reference(ws, min_col=2, min_row=2, max_row=5)\n",
    "\n",
    "# Dodajemy dane do wykresu z tytułem z nagłówka kolumny\n",
    "chart.add_data(data_ref, titles_from_data=True)\n",
    "\n",
    "# Kategorie dla osi X, czyli wartości w kolumnie 1 (A) - Kategoria A, B, C, D\n",
    "categories = Reference(ws, min_col=1, min_row=2, max_row=5)\n",
    "chart.set_categories(categories)\n",
    "\n",
    "# Dodanie tytułu do wykresu\n",
    "chart.title = \"Mój wykres słupkowy\"\n",
    "\n",
    "# Umieszczamy wykres w arkuszu, np. w komórce E5\n",
    "ws.add_chart(chart, \"E2\")\n",
    "\n",
    "# Zapisujemy skoroszyt do pliku\n",
    "wb.save(\"wykres_slupkowy.xlsx\")\n"
   ]
  },
  {
   "cell_type": "markdown",
   "id": "53752676-4c25-40af-b907-d431e26332c4",
   "metadata": {},
   "source": [
    "#### Wykres liniowy (LineChart)"
   ]
  },
  {
   "cell_type": "code",
   "execution_count": 203,
   "id": "77f45bc7-e0ee-4e73-958f-dcb79eb88976",
   "metadata": {},
   "outputs": [],
   "source": [
    "from openpyxl.chart import LineChart\n",
    "\n",
    "# Tworzymy nowy obiekt wykresu liniowego\n",
    "chart = LineChart()\n",
    "\n",
    "# Zakres danych dla osi Y (wartości) - dane zaczynają się od kolumny B, w wierszach 2-5\n",
    "data_ref = Reference(ws, min_col=2, min_row=2, max_row=5)\n",
    "\n",
    "# Dodajemy dane do wykresu, tytuł serii danych pobierany z nagłówka kolumny\n",
    "chart.add_data(data_ref, titles_from_data=True)\n",
    "\n",
    "# Kategorie dla osi X - np. Kategoria A, B, C, D z kolumny A (wiersze 2-5)\n",
    "categories = Reference(ws, min_col=1, min_row=2, max_row=5)\n",
    "chart.set_categories(categories)\n",
    "\n",
    "# Dodanie tytułu do wykresu\n",
    "chart.title = \"Mój wykres liniowy\"\n",
    "\n",
    "# Umieszczamy wykres w arkuszu w komórce F5\n",
    "ws.add_chart(chart, \"E2\")\n",
    "\n",
    "# Zapisujemy plik z nowym wykresem liniowym\n",
    "wb.save(\"wykres_liniowy.xlsx\")\n"
   ]
  },
  {
   "cell_type": "markdown",
   "id": "63e40b43-84b2-4e47-a125-96546ac07d27",
   "metadata": {},
   "source": [
    "#### Wykres kołowy (PieChart)"
   ]
  },
  {
   "cell_type": "code",
   "execution_count": 207,
   "id": "9c2011b8-9deb-427b-9aa3-65a24311bee4",
   "metadata": {},
   "outputs": [],
   "source": [
    "from openpyxl.chart import PieChart\n",
    "\n",
    "# Tworzymy obiekt wykresu kołowego (tzw. pie chart)\n",
    "pie_chart = PieChart()\n",
    "\n",
    "# Zakres danych dla wykresu - dane liczbowe (wartości) w kolumnie B, w wierszach 2-5\n",
    "data_ref = Reference(ws, min_col=2, min_row=2, max_row=5)\n",
    "\n",
    "# Dodajemy dane do wykresu z tytułem\n",
    "pie_chart.add_data(data_ref, titles_from_data=True)\n",
    "\n",
    "# Kategorie - nazwy kategorii w kolumnie A, w wierszach 2-5\n",
    "categories = Reference(ws, min_col=1, min_row=2, max_row=5)\n",
    "pie_chart.set_categories(categories)\n",
    "\n",
    "# Dodanie tytułu do wykresu\n",
    "pie_chart.title = \"Mój wykres kołowy\"\n",
    "\n",
    "# Umieszczamy wykres kołowy w arkuszu, np. w komórce G5\n",
    "ws.add_chart(pie_chart, \"E2\")\n",
    "\n",
    "# Zapisujemy plik z nowym wykresem kołowym\n",
    "wb.save(\"wykres_kolowy.xlsx\")\n"
   ]
  },
  {
   "cell_type": "markdown",
   "id": "53a7c99d-c43d-4fdd-840c-f50acf5800a8",
   "metadata": {},
   "source": [
    "## Tworzenie wykresów w xlsxwriter (dla plików .xlsx)"
   ]
  },
  {
   "cell_type": "markdown",
   "id": "a6e9802a-e8a7-4a2e-9114-431b265a703f",
   "metadata": {},
   "source": [
    "#### Tworzymy dane"
   ]
  },
  {
   "cell_type": "code",
   "execution_count": 129,
   "id": "68ed5735-f79d-4fdd-882e-cf7688fc052c",
   "metadata": {},
   "outputs": [],
   "source": [
    "import xlsxwriter\n",
    "\n",
    "# Tworzymy nowy skoroszyt (plik Excel)\n",
    "workbook = xlsxwriter.Workbook('wykresy_xlsxwriter.xlsx')\n",
    "\n",
    "# Dodajemy arkusz do skoroszytu\n",
    "worksheet = workbook.add_worksheet()\n",
    "\n",
    "# Przykładowe dane, które wstawimy do arkusza\n",
    "data = [\n",
    "    ['Kategoria', 'Wartość'],  # Nagłówki\n",
    "    ['A', 10],  # Dane dla kategorii A\n",
    "    ['B', 40],  # Dane dla kategorii B\n",
    "    ['C', 30],  # Dane dla kategorii C\n",
    "    ['D', 20],  # Dane dla kategorii D\n",
    "]\n",
    "\n",
    "# Wstawiamy dane do arkusza\n",
    "for row, record in enumerate(data):\n",
    "    worksheet.write_row(row, 0, record)  # Wstawiamy całą linię danych w każdym wierszu\n"
   ]
  },
  {
   "cell_type": "markdown",
   "id": "033942f6-cbee-4b3b-9148-e86750c3bed6",
   "metadata": {},
   "source": [
    "#### Wykres słupkowy (BarChart)"
   ]
  },
  {
   "cell_type": "code",
   "execution_count": 131,
   "id": "1deea7a5-e5b6-452c-8000-7be142137b25",
   "metadata": {},
   "outputs": [],
   "source": [
    "# Tworzymy obiekt wykresu słupkowego\n",
    "chart = workbook.add_chart({'type': 'column'})\n",
    "\n",
    "# Dodajemy dane do wykresu - wartości dla osi Y (kolumna B, wiersze 2-5)\n",
    "chart.add_series({\n",
    "    'categories': '=Sheet1!$A$2:$A$5',  # Kategorie na osi X (kolumna A, wiersze 2-5)\n",
    "    'values': '=Sheet1!$B$2:$B$5',  # Wartości na osi Y (kolumna B, wiersze 2-5)\n",
    "    'name': 'Wartości'  # Nazwa serii danych\n",
    "})\n",
    "\n",
    "# Dodanie tytułu do wykresu\n",
    "chart.set_title({'name': 'Mój wykres słupkowy'})\n",
    "\n",
    "# Wstawiamy wykres do arkusza, np. w komórce D2\n",
    "worksheet.insert_chart('D2', chart)\n",
    "\n",
    "# Zapisujemy plik\n",
    "workbook.close()\n"
   ]
  },
  {
   "cell_type": "markdown",
   "id": "cecd4381-6e39-429b-8427-bc2df3b13153",
   "metadata": {},
   "source": [
    "#### Wykres liniowy (LineChart)"
   ]
  },
  {
   "cell_type": "code",
   "execution_count": 133,
   "id": "3ea133fe-f5a9-4d1d-9cb1-92499801c85c",
   "metadata": {},
   "outputs": [],
   "source": [
    "# Tworzymy obiekt wykresu liniowego\n",
    "chart = workbook.add_chart({'type': 'line'})\n",
    "\n",
    "# Dodajemy dane do wykresu - wartości dla osi Y (kolumna B, wiersze 2-5)\n",
    "chart.add_series({\n",
    "    'categories': '=Sheet1!$A$2:$A$5',  # Kategorie na osi X (kolumna A, wiersze 2-5)\n",
    "    'values': '=Sheet1!$B$2:$B$5',  # Wartości na osi Y (kolumna B, wiersze 2-5)\n",
    "    'name': 'Wartości'  # Nazwa serii danych\n",
    "})\n",
    "\n",
    "# Dodanie tytułu do wykresu\n",
    "chart.set_title({'name': 'Mój wykres liniowy'})\n",
    "\n",
    "# Wstawiamy wykres do arkusza, np. w komórce E2\n",
    "worksheet.insert_chart('E2', chart)\n",
    "\n",
    "# Zapisujemy plik\n",
    "workbook.close()\n"
   ]
  },
  {
   "cell_type": "markdown",
   "id": "fb495850-1058-4e6c-ac57-6f6aea7173c5",
   "metadata": {},
   "source": [
    "#### Wykres kołowy (PieChart)"
   ]
  },
  {
   "cell_type": "code",
   "execution_count": 135,
   "id": "92204f53-91b5-474f-a3b3-1ca7da116d48",
   "metadata": {},
   "outputs": [],
   "source": [
    "# Tworzymy obiekt wykresu kołowego\n",
    "chart = workbook.add_chart({'type': 'pie'})\n",
    "\n",
    "# Dodajemy dane do wykresu - wartości dla osi Y (kolumna B, wiersze 2-5)\n",
    "chart.add_series({\n",
    "    'categories': '=Sheet1!$A$2:$A$5',  # Kategorie na osi X (kolumna A, wiersze 2-5)\n",
    "    'values': '=Sheet1!$B$2:$B$5',  # Wartości na osi Y (kolumna B, wiersze 2-5)\n",
    "    'name': 'Wartości'  # Nazwa serii danych\n",
    "})\n",
    "\n",
    "# Dodanie tytułu do wykresu\n",
    "chart.set_title({'name': 'Mój wykres kołowy'})\n",
    "\n",
    "# Wstawiamy wykres do arkusza, np. w komórce G2\n",
    "worksheet.insert_chart('G2', chart)\n",
    "\n",
    "# Zapisujemy plik\n",
    "workbook.close()\n"
   ]
  },
  {
   "cell_type": "markdown",
   "id": "d2c77768-8658-444a-afd1-f975859abf90",
   "metadata": {},
   "source": [
    "# Wykresy c.d."
   ]
  },
  {
   "cell_type": "markdown",
   "id": "fc7c2ce9-77ae-4a99-a223-9056fd67caf7",
   "metadata": {},
   "source": [
    "## openpyxl"
   ]
  },
  {
   "cell_type": "markdown",
   "id": "5f0f2248-9c54-40aa-8221-d90325273c82",
   "metadata": {},
   "source": [
    "#### Tworzymy dane"
   ]
  },
  {
   "cell_type": "code",
   "execution_count": 139,
   "id": "e4eb4d81-8e14-4a83-a882-12e075b681a2",
   "metadata": {},
   "outputs": [],
   "source": [
    "from openpyxl import Workbook\n",
    "from openpyxl.chart import ScatterChart, Reference, Series\n",
    "\n",
    "# Tworzymy nowy skoroszyt\n",
    "wb = Workbook()\n",
    "ws = wb.active\n",
    "\n",
    "# Dodajemy przykładowe dane\n",
    "data = [\n",
    "    ['X', 'Y'],\n",
    "    [1, 10],\n",
    "    [2, 40],\n",
    "    [3, 30],\n",
    "    [4, 60],\n",
    "    [5, 50],\n",
    "]\n",
    "\n",
    "# Wstawiamy dane do arkusza\n",
    "for row in data:\n",
    "    ws.append(row)\n"
   ]
  },
  {
   "cell_type": "markdown",
   "id": "9300e258-386e-4e58-8829-12a05d28fdcd",
   "metadata": {},
   "source": [
    "#### Wykres punktowy (ScatterChart)"
   ]
  },
  {
   "cell_type": "code",
   "execution_count": 141,
   "id": "2e3076a0-61f9-4fcb-9fd6-e5a125648e7b",
   "metadata": {},
   "outputs": [],
   "source": [
    "# Wykres punktowy, znany również jako wykres XY, używany jest do prezentowania zależności między dwoma zmiennymi."
   ]
  },
  {
   "cell_type": "code",
   "execution_count": 142,
   "id": "bb4eb1e2-31a0-4a30-9681-1c66804e5029",
   "metadata": {},
   "outputs": [],
   "source": [
    "# --- Tworzenie wykresu punktowego (XY) ---\n",
    "# Tworzymy obiekt wykresu punktowego\n",
    "chart = ScatterChart()\n",
    "\n",
    "# Ustalamy dane dla osi X i Y\n",
    "xvalues = Reference(ws, min_col=1, min_row=2, max_row=6)  # Wartości dla osi X\n",
    "yvalues = Reference(ws, min_col=2, min_row=2, max_row=6)  # Wartości dla osi Y\n",
    "\n",
    "# Tworzymy serię danych na podstawie wartości X i Y\n",
    "series = Series(yvalues, xvalues, title=\"Wykres XY\")\n",
    "\n",
    "# Dodajemy serię do wykresu\n",
    "chart.series.append(series)\n",
    "\n",
    "# Ustawiamy tytuły osi\n",
    "chart.x_axis.title = \"Wartości X\"\n",
    "chart.y_axis.title = \"Wartości Y\"\n",
    "\n",
    "# Ustawiamy symbol punktów na \"kółka\"\n",
    "series.marker.symbol = \"circle\"\n",
    "\n",
    "# Wyłączamy linie łączące punkty\n",
    "series.graphicalProperties.line.noFill = True\n",
    "\n",
    "# Dodanie tytułu do wykresu\n",
    "chart.title = \"Mój wykres punktowy\"\n",
    "\n",
    "# Dodajemy wykres do arkusza, np. w komórce E5\n",
    "ws.add_chart(chart, \"E2\")\n",
    "\n",
    "# Zapisujemy plik\n",
    "wb.save(\"wykres_punktowy.xlsx\")\n"
   ]
  },
  {
   "cell_type": "markdown",
   "id": "e1c6a683-ffcb-4c7c-8ffc-92a8433f99e7",
   "metadata": {},
   "source": [
    "#### Wykres obszarowy (AreaChart) "
   ]
  },
  {
   "cell_type": "code",
   "execution_count": 144,
   "id": "9816cfb9-94bb-45d6-8dcc-ebc19cb2c9f2",
   "metadata": {},
   "outputs": [],
   "source": [
    "# Wykres obszarowy jest używany do przedstawiania trendów w wartościach liczbowych w czasie, podobnie jak wykres liniowy, ale z wypełnionym obszarem."
   ]
  },
  {
   "cell_type": "code",
   "execution_count": 145,
   "id": "3129f95a-9260-447e-8103-cdb5d07870c8",
   "metadata": {},
   "outputs": [],
   "source": [
    "from openpyxl.chart import AreaChart\n",
    "\n",
    "# Tworzymy obiekt wykresu obszarowego\n",
    "chart = AreaChart()\n",
    "\n",
    "# Zakres danych dla osi Y (wartości)\n",
    "data_ref = Reference(ws, min_col=2, min_row=1, max_row=6)\n",
    "\n",
    "# Dodajemy dane do wykresu\n",
    "chart.add_data(data_ref, titles_from_data=True)\n",
    "\n",
    "# Kategorie (np. X = 1, 2, 3, 4, 5)\n",
    "categories = Reference(ws, min_col=1, min_row=2, max_row=6)\n",
    "chart.set_categories(categories)\n",
    "\n",
    "# Dodanie tytułu do wykresu\n",
    "chart.title = \"Mój wykres obszarowy\"\n",
    "\n",
    "# Dodajemy wykres do arkusza, np. w komórce E10\n",
    "ws.add_chart(chart, \"E2\")\n",
    "\n",
    "# Zapisujemy plik\n",
    "wb.save(\"wykres_obszarowy.xlsx\")\n"
   ]
  },
  {
   "cell_type": "markdown",
   "id": "51735432-b627-407c-b939-cd5bebd66637",
   "metadata": {},
   "source": [
    "#### Wykres radarowy (RadarChart)"
   ]
  },
  {
   "cell_type": "code",
   "execution_count": 147,
   "id": "c5d2f066-308e-41fb-9f28-42c6958f56f1",
   "metadata": {},
   "outputs": [],
   "source": [
    "# Wykres radarowy jest używany do porównywania wielowymiarowych danych."
   ]
  },
  {
   "cell_type": "code",
   "execution_count": 148,
   "id": "92298440-cef1-4eff-9b2f-2d04852765e6",
   "metadata": {},
   "outputs": [],
   "source": [
    "from openpyxl.chart import RadarChart\n",
    "\n",
    "# Tworzymy obiekt wykresu radarowego\n",
    "chart = RadarChart()\n",
    "\n",
    "# Zakres danych dla osi Y (wartości)\n",
    "data_ref = Reference(ws, min_col=2, min_row=1, max_row=6)\n",
    "\n",
    "# Dodajemy dane do wykresu\n",
    "chart.add_data(data_ref, titles_from_data=True)\n",
    "\n",
    "# Kategorie (np. X = 1, 2, 3, 4, 5)\n",
    "categories = Reference(ws, min_col=1, min_row=2, max_row=6)\n",
    "chart.set_categories(categories)\n",
    "\n",
    "# Dodanie tytułu do wykresu\n",
    "chart.title = \"Mój wykres radarowy\"\n",
    "\n",
    "# Dodajemy wykres do arkusza, np. w komórce E15\n",
    "ws.add_chart(chart, \"E2\")\n",
    "\n",
    "# Zapisujemy plik\n",
    "wb.save(\"wykres_radarowy.xlsx\")\n"
   ]
  },
  {
   "cell_type": "markdown",
   "id": "edf461d9-445b-4b3a-96b5-d383cf8c15da",
   "metadata": {},
   "source": [
    "#### Wykres słupkowy skumulowany (StackedBarChart)"
   ]
  },
  {
   "cell_type": "code",
   "execution_count": 150,
   "id": "9955e46c-bff3-4dac-b848-ccc0dfb68395",
   "metadata": {},
   "outputs": [],
   "source": [
    "# Wykres słupkowy skumulowany pozwala na przedstawienie danych jako części całości w słupkach."
   ]
  },
  {
   "cell_type": "code",
   "execution_count": 151,
   "id": "ea1fcb22-7544-4189-a60b-774380947adc",
   "metadata": {},
   "outputs": [],
   "source": [
    "# Dane do wykresu skumulowanego"
   ]
  },
  {
   "cell_type": "code",
   "execution_count": 152,
   "id": "81c9ca2a-effc-4cdc-83b3-ab82bba199f0",
   "metadata": {},
   "outputs": [],
   "source": [
    "from openpyxl import Workbook\n",
    "from openpyxl.chart import BarChart, Reference\n",
    "\n",
    "# Tworzymy nowy skoroszyt\n",
    "wb = Workbook()\n",
    "ws = wb.active\n",
    "\n",
    "# Dodajemy przykładowe dane\n",
    "data = [\n",
    "    ['X', 'Wartości Y1', 'Wartości Y2'],\n",
    "    [1, 10, 15],\n",
    "    [2, 40, 25],\n",
    "    [3, 30, 35],\n",
    "    [4, 60, 45],\n",
    "    [5, 50, 55],\n",
    "]\n",
    "\n",
    "# Wstawiamy dane do arkusza\n",
    "for row in data:\n",
    "    ws.append(row)"
   ]
  },
  {
   "cell_type": "code",
   "execution_count": 153,
   "id": "11e970c9-d001-402a-9912-437145ed9808",
   "metadata": {},
   "outputs": [],
   "source": [
    "# Tworzymy obiekt wykresu skumulowanego słupkowego\n",
    "chart = BarChart()\n",
    "chart.type = \"col\"  # Wybieramy typ \"kolumnowy\"\n",
    "chart.grouping = \"stacked\"  # Ustawiamy grupowanie na \"stacked\" (skumulowany)\n",
    "\n",
    "# Zakres danych dla osi Y (kolumny 2 i 3 - dwie serie)\n",
    "data_ref = Reference(ws, min_col=2, max_col=3, min_row=1, max_row=6)\n",
    "\n",
    "# Dodajemy dane do wykresu\n",
    "chart.add_data(data_ref, titles_from_data=True)\n",
    "\n",
    "# Kategorie (np. X = 1, 2, 3, 4, 5)\n",
    "categories = Reference(ws, min_col=1, min_row=2, max_row=6)\n",
    "chart.set_categories(categories)\n",
    "\n",
    "# Dodanie tytułu do wykresu\n",
    "chart.title = 'Mój wykres skumulowany'\n",
    "\n",
    "# Dodajemy wykres do arkusza, np. w komórce E2\n",
    "ws.add_chart(chart, \"E2\")\n",
    "\n",
    "# Zapisujemy plik\n",
    "wb.save(\"wykres_slupkowy_skumulowany.xlsx\")"
   ]
  },
  {
   "cell_type": "markdown",
   "id": "88718561-4ff9-4aaf-b145-39db5f90a53d",
   "metadata": {},
   "source": [
    "## xlsxwriter"
   ]
  },
  {
   "cell_type": "markdown",
   "id": "4cfc0c12-01dd-43c1-94e6-f98541eeee54",
   "metadata": {},
   "source": [
    "#### Tworzymy dane"
   ]
  },
  {
   "cell_type": "code",
   "execution_count": 156,
   "id": "03804ec0-f4d9-45d6-94a3-be6bfa6e79a8",
   "metadata": {},
   "outputs": [],
   "source": [
    "import xlsxwriter\n",
    "\n",
    "# Tworzymy nowy skoroszyt\n",
    "workbook = xlsxwriter.Workbook('wykresy_xlsxwriter.xlsx')\n",
    "worksheet = workbook.add_worksheet()\n",
    "\n",
    "# Przykładowe dane do wykresu\n",
    "data = [\n",
    "    [1, 10],\n",
    "    [1, 40],\n",
    "    [3, 40],\n",
    "    [5, 60],\n",
    "    [5, 10],\n",
    "]\n",
    "\n",
    "# Wstawiamy dane do arkusza\n",
    "row = 0\n",
    "for x, y in data:\n",
    "    worksheet.write(row, 0, x)  # Dane dla osi X\n",
    "    worksheet.write(row, 1, y)  # Dane dla osi Y\n",
    "    row += 1\n"
   ]
  },
  {
   "cell_type": "markdown",
   "id": "b0f1a46c-a421-44cb-b886-160cbb5b9879",
   "metadata": {},
   "source": [
    "#### Wykres punktowy (ScatterChart)"
   ]
  },
  {
   "cell_type": "code",
   "execution_count": 158,
   "id": "ce611dd0-fbee-42f4-8654-a1d70c888e50",
   "metadata": {},
   "outputs": [],
   "source": [
    "# Tworzymy obiekt wykresu punktowego\n",
    "chart = workbook.add_chart({'type': 'scatter'})\n",
    "\n",
    "# Dodajemy dane do wykresu\n",
    "chart.add_series({\n",
    "    'categories': '=Sheet1!$A$1:$A$5',  # Kategorie dla osi X\n",
    "    'values': '=Sheet1!$B$1:$B$5',  # Wartości dla osi Y\n",
    "    'name': 'Wartości'  # Nazwa serii danych\n",
    "})\n",
    "\n",
    "# Dodanie tytułu do wykresu\n",
    "chart.set_title({'name': 'Mój wykres punktowy'})\n",
    "\n",
    "# Wstawiamy wykres do arkusza w komórce D2\n",
    "worksheet.insert_chart('D2', chart)\n",
    "\n",
    "# Zapisujemy plik\n",
    "workbook.close()\n"
   ]
  },
  {
   "cell_type": "markdown",
   "id": "93eb5970-99cf-4e81-b058-b0ce572fc4cb",
   "metadata": {},
   "source": [
    "#### Wykres radarowy (RadarChart)"
   ]
  },
  {
   "cell_type": "code",
   "execution_count": 160,
   "id": "404a7162-d620-4940-a065-4a279e0c2c60",
   "metadata": {},
   "outputs": [],
   "source": [
    "# Tworzymy obiekt wykresu radarowego\n",
    "chart = workbook.add_chart({'type': 'radar'})\n",
    "\n",
    "# Dodajemy dane do wykresu\n",
    "chart.add_series({\n",
    "    'categories': '=Sheet1!$A$1:$A$5',  # Kategorie dla osi X\n",
    "    'values': '=Sheet1!$B$1:$B$5',  # Wartości dla osi Y\n",
    "    'name': 'Wartości'  # Nazwa serii danych\n",
    "})\n",
    "\n",
    "# Dodanie tytułu do wykresu\n",
    "chart.set_title({'name': 'Mój wykres radarowy'})\n",
    "\n",
    "# Wstawiamy wykres do arkusza w komórce G2\n",
    "worksheet.insert_chart('G2', chart)\n",
    "\n",
    "# Zapisujemy plik\n",
    "workbook.close()\n"
   ]
  },
  {
   "cell_type": "markdown",
   "id": "4cdc1f4d-1bfd-44a3-9691-a0f5fe78bc85",
   "metadata": {},
   "source": [
    "#### Wykres skumulowany (StackedBarChart)"
   ]
  },
  {
   "cell_type": "code",
   "execution_count": 162,
   "id": "6377d761-4470-42da-83aa-ae5a009000fd",
   "metadata": {},
   "outputs": [],
   "source": [
    "# Dane do wykresu skumulowanego"
   ]
  },
  {
   "cell_type": "code",
   "execution_count": 163,
   "id": "c1b44015-8d2e-4650-adaa-2d042bc3eb70",
   "metadata": {},
   "outputs": [],
   "source": [
    "import xlsxwriter\n",
    "\n",
    "# Tworzymy nowy skoroszyt\n",
    "workbook = xlsxwriter.Workbook('wykresy_xlsxwriter.xlsx')\n",
    "worksheet = workbook.add_worksheet()\n",
    "\n",
    "# Przykładowe dane do wykresu\n",
    "data = [\n",
    "    [1, 10, 20],  # Dodajemy dwie kolumny danych\n",
    "    [2, 40, 30],\n",
    "    [3, 40, 10],\n",
    "    [4, 60, 50],\n",
    "    [5, 10, 40],\n",
    "]\n",
    "\n",
    "# Wstawiamy dane do arkusza\n",
    "row = 0\n",
    "for x, y1, y2 in data:\n",
    "    worksheet.write(row, 0, x)   # Dane dla osi X\n",
    "    worksheet.write(row, 1, y1)  # Dane dla pierwszej serii Y\n",
    "    worksheet.write(row, 2, y2)  # Dane dla drugiej serii Y\n",
    "    row += 1"
   ]
  },
  {
   "cell_type": "code",
   "execution_count": 164,
   "id": "734aaff2-b7de-4853-8097-77393957e0a4",
   "metadata": {},
   "outputs": [],
   "source": [
    "# Tworzymy obiekt wykresu słupkowego skumulowanego\n",
    "chart = workbook.add_chart({'type': 'column', 'subtype': 'stacked'})\n",
    "\n",
    "# Dodajemy pierwszą serię danych\n",
    "chart.add_series({\n",
    "    'categories': '=Sheet1!$A$1:$A$5',  # Kategorie dla osi X\n",
    "    'values': '=Sheet1!$B$1:$B$5',  # Wartości dla osi Y (seria 1)\n",
    "    'name': 'Seria 1'  # Nazwa serii danych\n",
    "})\n",
    "\n",
    "# Dodajemy drugą serię danych\n",
    "chart.add_series({\n",
    "    'categories': '=Sheet1!$A$1:$A$5',  # Kategorie dla osi X\n",
    "    'values': '=Sheet1!$C$1:$C$5',  # Wartości dla osi Y (seria 2)\n",
    "    'name': 'Seria 2'  # Nazwa serii danych\n",
    "})\n",
    "\n",
    "# Dodanie tytułu do wykresu\n",
    "chart.set_title({'name': 'Mój wykres skumulowany'})\n",
    "\n",
    "# Wstawiamy wykres do arkusza w komórce D10\n",
    "worksheet.insert_chart('E2', chart)\n",
    "\n",
    "# Zapisujemy plik\n",
    "workbook.close()"
   ]
  },
  {
   "cell_type": "code",
   "execution_count": 165,
   "id": "f7e3c578-9495-4cf1-95f7-dbf23d908089",
   "metadata": {},
   "outputs": [],
   "source": [
    "# Podsumowanie\n",
    "# Zarówno openpyxl, jak i xlsxwriter obsługują szeroki zakres wykresów:\n",
    "\n",
    "# openpyxl:\n",
    "    # Wykresy słupkowe, liniowe, kołowe.\n",
    "    # Wykresy punktowe (Scatter), obszarowe (Area), radarowe (Radar), skumulowane słupkowe (StackedBar).\n",
    "\n",
    "# xlsxwriter:\n",
    "    # Wykresy słupkowe, liniowe, kołowe.\n",
    "    # Wykresy punktowe (Scatter), radarowe (Radar), skumulowane słupkowe (StackedBar).\n",
    "\n",
    "# Oba pakiety są bardzo elastyczne i pozwalają na tworzenie zaawansowanych wizualizacji w plikach Excel.\n",
    "# Dzięki szczegółowym komentarzom w kodzie, możesz teraz z łatwością tworzyć różnorodne wykresy dostosowane do Twoich potrzeb."
   ]
  },
  {
   "cell_type": "code",
   "execution_count": null,
   "id": "2d73c361-882a-4632-a5f1-816dde5b89f6",
   "metadata": {},
   "outputs": [],
   "source": []
  }
 ],
 "metadata": {
  "kernelspec": {
   "display_name": "Python 3 (ipykernel)",
   "language": "python",
   "name": "python3"
  },
  "language_info": {
   "codemirror_mode": {
    "name": "ipython",
    "version": 3
   },
   "file_extension": ".py",
   "mimetype": "text/x-python",
   "name": "python",
   "nbconvert_exporter": "python",
   "pygments_lexer": "ipython3",
   "version": "3.11.5"
  }
 },
 "nbformat": 4,
 "nbformat_minor": 5
}
