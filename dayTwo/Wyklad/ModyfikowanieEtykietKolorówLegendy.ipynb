{
 "cells": [
  {
   "cell_type": "markdown",
   "id": "9ec119b9-f4f0-47bc-bfdf-64fc19760b58",
   "metadata": {},
   "source": [
    "# Modyfikowanie etykiet, kolorów i legendy"
   ]
  },
  {
   "cell_type": "markdown",
   "id": "e84a9453-fd79-4187-818d-1efcf3544e4a",
   "metadata": {},
   "source": [
    "#### openpyxl"
   ]
  },
  {
   "cell_type": "code",
   "execution_count": 1,
   "id": "6d0bc8be-f54d-4d35-b4b6-c8f25c598d51",
   "metadata": {},
   "outputs": [],
   "source": [
    "from openpyxl import Workbook\n",
    "from openpyxl.chart import BarChart, Reference\n",
    "from openpyxl.chart.label import DataLabelList\n",
    "from openpyxl.chart.legend import Legend\n",
    "\n",
    "wb = Workbook()\n",
    "ws = wb.active\n",
    "\n",
    "# Dane\n",
    "data = [\n",
    "    ['Category', 'Value'],\n",
    "    ['A', 10],\n",
    "    ['B', 20],\n",
    "    ['C', 30],\n",
    "]\n",
    "for row in data:\n",
    "    ws.append(row)\n",
    "\n",
    "# Tworzenie wykresu\n",
    "chart = BarChart()\n",
    "values = Reference(ws, min_col=2, min_row=2, max_row=4)\n",
    "categories = Reference(ws, min_col=1, min_row=2, max_row=4)\n",
    "chart.add_data(values, titles_from_data=True)\n",
    "chart.set_categories(categories)\n",
    "chart.title = \"Styled Chart\"\n",
    "\n",
    "# Etykiety\n",
    "chart.dLbls = DataLabelList()\n",
    "chart.dLbls.showVal = True\n",
    "\n",
    "# Kolory serii\n",
    "chart.series[0].graphicalProperties.solidFill = \"FF5733\"\n",
    "\n",
    "# Legenda\n",
    "chart.legend = Legend()\n",
    "chart.legend.position = \"r\"\n",
    "chart.legend.overlay = False\n",
    "\n",
    "# Dodanie wykresu do arkusza\n",
    "ws.add_chart(chart, \"E5\")\n",
    "\n",
    "# Zapis pliku\n",
    "wb.save(\"styled_chart_labels_colors_legend_openpyxl.xlsx\")\n"
   ]
  },
  {
   "cell_type": "markdown",
   "id": "602bbb22-1b14-4426-adc0-b6d41b55f06a",
   "metadata": {},
   "source": [
    "#### xlsxwriter"
   ]
  },
  {
   "cell_type": "code",
   "execution_count": 5,
   "id": "ef7c3f79-f394-4559-b139-cf0c5e1af55e",
   "metadata": {},
   "outputs": [],
   "source": [
    "import xlsxwriter\n",
    "\n",
    "# Tworzenie pliku\n",
    "workbook = xlsxwriter.Workbook('styled_chart_labels_colors_legend_xlsxwriter.xlsx')\n",
    "worksheet = workbook.add_worksheet()\n",
    "\n",
    "# Dane\n",
    "data = [\n",
    "    ['Category', 'Value'],\n",
    "    ['A', 10],\n",
    "    ['B', 20],\n",
    "    ['C', 30],\n",
    "]\n",
    "for row_num, row in enumerate(data):\n",
    "    worksheet.write_row(row_num, 0, row)\n",
    "\n",
    "# Tworzenie wykresu\n",
    "chart = workbook.add_chart({'type': 'column'})\n",
    "\n",
    "# Dodanie serii danych z kolorami i etykietami\n",
    "chart.add_series({\n",
    "    'name': 'Values',\n",
    "    'categories': '=Sheet1!$A$2:$A$4',\n",
    "    'values': '=Sheet1!$B$2:$B$4',\n",
    "    'fill': {'color': '#FF5733'},  # Kolor serii\n",
    "    'points': [\n",
    "        {'fill': {'color': '#FF0000'}},  # Punkt 1: czerwony\n",
    "        {'fill': {'color': '#00FF00'}},  # Punkt 2: zielony\n",
    "        {'fill': {'color': '#0000FF'}},  # Punkt 3: niebieski\n",
    "    ],\n",
    "    'data_labels': {'value': True},  # Etykiety wartości\n",
    "})\n",
    "\n",
    "# Legenda\n",
    "chart.set_legend({\n",
    "    'position': 'right',  # Pozycja legendy\n",
    "    'overlay': False,\n",
    "})\n",
    "\n",
    "# Tytuł i osie\n",
    "chart.set_title({'name': 'Styled Chart'})\n",
    "chart.set_x_axis({'name': 'Categories'})\n",
    "chart.set_y_axis({'name': 'Values'})\n",
    "\n",
    "# Dodanie wykresu do arkusza\n",
    "worksheet.insert_chart('E5', chart)\n",
    "\n",
    "# Zapisanie pliku\n",
    "workbook.close()\n"
   ]
  },
  {
   "cell_type": "code",
   "execution_count": null,
   "id": "ca696333-f5ee-4b1e-9975-05ba7e12496d",
   "metadata": {},
   "outputs": [],
   "source": []
  }
 ],
 "metadata": {
  "kernelspec": {
   "display_name": "Python 3 (ipykernel)",
   "language": "python",
   "name": "python3"
  },
  "language_info": {
   "codemirror_mode": {
    "name": "ipython",
    "version": 3
   },
   "file_extension": ".py",
   "mimetype": "text/x-python",
   "name": "python",
   "nbconvert_exporter": "python",
   "pygments_lexer": "ipython3",
   "version": "3.11.5"
  }
 },
 "nbformat": 4,
 "nbformat_minor": 5
}
