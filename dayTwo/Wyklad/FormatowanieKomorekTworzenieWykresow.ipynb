{
 "cells": [
  {
   "cell_type": "markdown",
   "id": "786b6ec0-269f-4b3a-b6bc-d9059e9312a9",
   "metadata": {},
   "source": [
    "# Stylizacja"
   ]
  },
  {
   "cell_type": "code",
   "execution_count": null,
   "id": "20a7d5dd-7386-4c7a-a1c6-7c2d9db86fcf",
   "metadata": {},
   "outputs": [],
   "source": [
    "# Temat stylizowania komórek w plikach Excel jest istotny ponieważ pozwala na lepszą wizualizację i prezentację danych.\n",
    "# Stylizowanie obejmuje takie rzeczy jak ustawianie czcionek, kolorów, obramowań, wyrównania, szerokości kolumn itp."
   ]
  },
  {
   "cell_type": "markdown",
   "id": "945f298f-9c2d-4c32-b459-8174c94b3bd2",
   "metadata": {},
   "source": [
    "## Stylizowanie w openpyxl (dla plików .xlsx)"
   ]
  },
  {
   "cell_type": "code",
   "execution_count": null,
   "id": "6229250c-41f9-40c5-b92f-eaea3c8b125d",
   "metadata": {},
   "outputs": [],
   "source": [
    "# Biblioteka openpyxl oferuje bardzo szerokie możliwości stylizowania komórek w plikach Excel w formacie .xlsx. Np.:\n",
    "\n",
    "# Czcionki\n",
    "    # Możesz dostosować czcionkę dla danych w komórkach, ustawiając typ, rozmiar, kolor, pogrubienie, kursywę itp.\n",
    "\n",
    "# Kolory komórek (Tło)\n",
    "    # Możesz ustawić kolor tła dla komórek, aby wyróżnić dane.\n",
    "\n",
    "# Obramowania\n",
    "    # Można dodać obramowania wokół komórek lub grupy komórek.\n",
    "\n",
    "# Wyrównanie tekstu\n",
    "    # Tekst można wyrównać w poziomie (np. do lewej, do prawej, do środka) i w pionie (góra, środek, dół).\n",
    "\n",
    "# Zmiana szerokości kolumn i wysokości wierszy\n",
    "    # Możesz zmienić szerokość kolumn i wysokość wierszy, aby lepiej dopasować dane do komórek\n",
    "\n",
    "# Stylizowanie wielu komórek jednocześnie\n",
    "    # Możesz stylizować całe wiersze lub kolumny, albo zaznaczyć konkretne zakresy komórek do stylizacji.\n",
    "\n",
    "# Tworzenie stylów niestandardowych\n",
    "    # Zamiast definiować stylizację każdej komórki osobno, możesz utworzyć niestandardowe style i przypisać je do wybranych komórek.\n"
   ]
  },
  {
   "cell_type": "markdown",
   "id": "143b4dcd-962f-46d4-86e6-c2cd984f3675",
   "metadata": {},
   "source": [
    "#### Czcionki"
   ]
  },
  {
   "cell_type": "code",
   "execution_count": null,
   "id": "dd359e03-a221-4a65-a1ab-24c08e309833",
   "metadata": {},
   "outputs": [],
   "source": [
    "from openpyxl import Workbook\n",
    "from openpyxl.styles import Font, PatternFill, Border, Side, Alignment\n",
    "\n",
    "# Tworzymy nowy skoroszyt (Workbook) - czyli plik Excel.\n",
    "wb = Workbook()\n",
    "\n",
    "# Aktywujemy domyślny arkusz (worksheet), który jest automatycznie tworzony.\n",
    "ws = wb.active\n",
    "\n",
    "# --- Stylizowanie czcionki ---\n",
    "# Definiujemy obiekt Font, który pozwala nam ustawić różne parametry czcionki.\n",
    "bold_font = Font(bold=True, size=12, color=\"FF0000\")  # Pogrubiona, rozmiar 12, kolor czerwony\n",
    "\n",
    "# Wstawiamy dane do komórek i przypisujemy styl czcionki.\n",
    "ws['A1'] = \"Imię\"  # Nagłówek \"Imię\"\n",
    "ws['A1'].font = bold_font  # Pogrubiona czcionka dla komórki A1\n",
    "ws['B1'] = \"Wynagrodzenie\"  # Nagłówek \"Wynagrodzenie\"\n",
    "ws['B1'].font = bold_font  # Pogrubiona czcionka dla komórki B1\n"
   ]
  },
  {
   "cell_type": "markdown",
   "id": "8068d2a7-f364-4e6f-9e09-54970272c759",
   "metadata": {},
   "source": [
    "#### Kolory komórek (Tło)"
   ]
  },
  {
   "cell_type": "code",
   "execution_count": null,
   "id": "34b147d1-a20d-4acd-b929-312693af60ca",
   "metadata": {},
   "outputs": [],
   "source": [
    "# Definiujemy obiekt PatternFill, który ustawia kolor tła.\n",
    "fill = PatternFill(start_color=\"FFFF00\", end_color=\"FFFF00\", fill_type=\"solid\")  # Żółte tło\n",
    "\n",
    "# Zastosowanie koloru tła do komórek A1 i B1\n",
    "ws['A1'].fill = fill\n",
    "ws['B1'].fill = fill\n"
   ]
  },
  {
   "cell_type": "markdown",
   "id": "78738767-3d20-4c31-97ba-8b27a5b71e98",
   "metadata": {},
   "source": [
    "#### Obramowania"
   ]
  },
  {
   "cell_type": "code",
   "execution_count": null,
   "id": "a5b4d0d4-e921-43ce-95a7-819a8132a149",
   "metadata": {},
   "outputs": [],
   "source": [
    "# Definiujemy styl obramowania dla komórek.\n",
    "thin_border = Border(left=Side(style='thin'),\n",
    "                     right=Side(style='thin'),\n",
    "                     top=Side(style='thin'),\n",
    "                     bottom=Side(style='thin'))\n",
    "\n",
    "# Zastosowanie obramowania do komórek A1 i B1\n",
    "ws['A1'].border = thin_border\n",
    "ws['B1'].border = thin_border"
   ]
  },
  {
   "cell_type": "markdown",
   "id": "8912bc9a-3a61-4ae0-bff7-657caa59d5c3",
   "metadata": {},
   "source": [
    "#### Wyrównanie tekstu"
   ]
  },
  {
   "cell_type": "code",
   "execution_count": null,
   "id": "b2b35d61-df81-4a7b-867b-65bf016dc8cf",
   "metadata": {},
   "outputs": [],
   "source": [
    "# Ustawiamy wyrównanie tekstu w komórkach do środka (poziome i pionowe wyrównanie).\n",
    "center_alignment = Alignment(horizontal=\"center\", vertical=\"center\")\n",
    "\n",
    "# Zastosowanie wyrównania do komórek\n",
    "ws['A1'].alignment = center_alignment\n",
    "ws['B1'].alignment = center_alignment\n"
   ]
  },
  {
   "cell_type": "markdown",
   "id": "e82a5f4b-a872-47b7-9751-e5b5347ef912",
   "metadata": {},
   "source": [
    "#### Zmiana szerokości kolumn i wysokości wierszy"
   ]
  },
  {
   "cell_type": "code",
   "execution_count": null,
   "id": "65a527a4-6d4a-472b-89f5-4196db705307",
   "metadata": {},
   "outputs": [],
   "source": [
    "# Ustawiamy szerokość kolumny A na 20 jednostek\n",
    "ws.column_dimensions['A'].width = 20\n",
    "\n",
    "# Ustawiamy wysokość wiersza 1 na 25 jednostek\n",
    "ws.row_dimensions[1].height = 25\n"
   ]
  },
  {
   "cell_type": "markdown",
   "id": "423d4657-fe62-4705-a870-002b7b3993ca",
   "metadata": {},
   "source": [
    "#### Stylizowanie wielu komórek jednocześnie"
   ]
  },
  {
   "cell_type": "code",
   "execution_count": null,
   "id": "3aac6553-c7b3-444c-91d8-0f34d5e869d7",
   "metadata": {},
   "outputs": [],
   "source": [
    "# Zastosowanie stylizacji do zakresu komórek (np. A1:B2)\n",
    "for row in ws['A1:B2']: # Tworzymy pętlę dla zakresu A1:B2 w Excelu\n",
    "    for cell in row: # Tworzymy pętlę w pętli gdzie dla każdej komórki w naszym zakresie wykonujemy następujące operacje:\n",
    "        cell.font = Font(bold=True) # Ustawienie czcionki pogrubionej\n",
    "        cell.fill = PatternFill(start_color=\"FFFF00\", fill_type=\"solid\")  # Żółte tło\n",
    "        cell.alignment = Alignment(horizontal=\"center\") # Wyrównanie\n"
   ]
  },
  {
   "cell_type": "markdown",
   "id": "60e452c2-231c-4148-ad72-03585e046e0d",
   "metadata": {},
   "source": [
    "#### Tworzenie stylów niestandardowych"
   ]
  },
  {
   "cell_type": "code",
   "execution_count": null,
   "id": "db205ce0-22e7-4569-9539-f21d042bef1d",
   "metadata": {},
   "outputs": [],
   "source": [
    "# Niestandardowy styl czcionki\n",
    "\n",
    "# Wybieramy nazwę czcionki, rozmiar, pogrubienie (Bolean True/False), Kursywa (Bolean True/False), Zielona czcionka\n",
    "custom_font = Font(name=\"Arial\", size=10, bold=True, italic=True, color=\"00FF00\")\n",
    "\n",
    "# Przypisanie stylu do komórki\n",
    "ws['A2'].font = custom_font\n",
    "ws['B2'].font = custom_font\n"
   ]
  },
  {
   "cell_type": "code",
   "execution_count": null,
   "id": "b94f7d15-3d8c-44ef-a996-3efa863fb873",
   "metadata": {},
   "outputs": [],
   "source": [
    "# Zapisujemy plik jako 'stylizowanie.xlsx'\n",
    "wb.save(\"stylizowanie.xlsx\n"
   ]
  },
  {
   "cell_type": "markdown",
   "id": "2a1dbafa-98d2-4a6d-aa0f-d6d56c878ba8",
   "metadata": {},
   "source": [
    "## Stylizowanie w xlwt (dla plików .xls)"
   ]
  },
  {
   "cell_type": "code",
   "execution_count": null,
   "id": "f0e2259c-4a6d-4e50-8a43-9afd1d30b548",
   "metadata": {},
   "outputs": [],
   "source": [
    "# W przypadku plików .xls używamy biblioteki xlwt.\n",
    "# Oferuje ona bardziej ograniczone możliwości stylizowania niż openpyxl, ale nadal można ustawić podstawowe elementy, takie jak czcionki i wyrównanie."
   ]
  },
  {
   "cell_type": "markdown",
   "id": "38fd77f9-5022-48cb-b4ef-d1f8e3813060",
   "metadata": {},
   "source": [
    "#### Czcionki"
   ]
  },
  {
   "cell_type": "code",
   "execution_count": null,
   "id": "e15b98c4-c0b2-4484-a08b-ee431c2111cf",
   "metadata": {},
   "outputs": [],
   "source": [
    "import xlwt\n",
    "\n",
    "# Tworzymy nowy skoroszyt (Workbook) - czyli plik Excel.\n",
    "wb = xlwt.Workbook()\n",
    "\n",
    "# Dodajemy nowy arkusz (Worksheet) do pliku Excel.\n",
    "ws = wb.add_sheet('Arkusz1')\n",
    "\n",
    "# --- Stylizowanie czcionki ---\n",
    "# Definiujemy styl czcionki (Font).\n",
    "font_style = xlwt.XFStyle()  # Tworzymy styl komórki.\n",
    "font = xlwt.Font()  # Tworzymy obiekt czcionki.\n",
    "font.bold = True  # Ustawiamy czcionkę jako pogrubioną.\n",
    "font.colour_index = 2  # Ustawiamy kolor czcionki (2 = czerwony).\n",
    "font.height = 240  # Ustawiamy rozmiar czcionki (240 = 12 punktów).\n",
    "font_style.font = font  # Przypisujemy obiekt czcionki do stylu komórki.\n",
    "\n",
    "# Wstawiamy dane do komórek z zastosowaniem stylu czcionki.\n",
    "ws.write(0, 0, 'Imię', font_style)  # Wstawiamy \"Imię\" do komórki A1\n",
    "ws.write(0, 1, 'Wynagrodzenie', font_style)  # Wstawiamy \"Wynagrodzenie\" do komórki B1\n"
   ]
  },
  {
   "cell_type": "markdown",
   "id": "b81ab3c4-b261-4da4-a828-61d9ff13093d",
   "metadata": {},
   "source": [
    "#### Wyrównanie tekstu"
   ]
  },
  {
   "cell_type": "code",
   "execution_count": null,
   "id": "01a818b4-fc0c-4d56-9f0e-79e71f2a532a",
   "metadata": {},
   "outputs": [],
   "source": [
    "# --- Wyrównanie tekstu ---\n",
    "# Definiujemy styl wyrównania.\n",
    "alignment_style = xlwt.XFStyle()  # Tworzymy nowy styl komórki.\n",
    "alignment = xlwt.Alignment()  # Tworzymy obiekt wyrównania.\n",
    "alignment.horz = xlwt.Alignment.HORZ_CENTER  # Ustawiamy wyrównanie poziome do środka.\n",
    "alignment.vert = xlwt.Alignment.VERT_CENTER  # Ustawiamy wyrównanie pionowe do środka.\n",
    "alignment_style.alignment = alignment  # Przypisujemy wyrównanie do stylu komórki.\n",
    "\n",
    "# Wstawiamy dane do komórek z zastosowaniem wyrównania.\n",
    "ws.write(1, 0, 'Anna', alignment_style)  # Wstawiamy \"Anna\" do komórki A2\n",
    "ws.write(1, 1, 5000, alignment_style)  # Wstawiamy 5000 do komórki B2\n"
   ]
  },
  {
   "cell_type": "markdown",
   "id": "6b0d076a-e83f-481d-b92d-a7b783d0970c",
   "metadata": {},
   "source": [
    "#### Kolory i wypełnienie"
   ]
  },
  {
   "cell_type": "code",
   "execution_count": null,
   "id": "bcc0360a-1136-4bc4-a5db-553290c86f34",
   "metadata": {},
   "outputs": [],
   "source": [
    "# --- Stylizowanie tła (kolor komórki) ---\n",
    "# Definiujemy styl z kolorem tła.\n",
    "bg_style = xlwt.XFStyle()  # Tworzymy styl komórki.\n",
    "pattern = xlwt.Pattern()  # Tworzymy obiekt wzoru (Pattern).\n",
    "pattern.pattern = xlwt.Pattern.SOLID_PATTERN  # Ustawiamy tło na jednolity kolor.\n",
    "pattern.pattern_fore_colour = 5  # Ustawiamy kolor tła (5 = niebieski).\n",
    "bg_style.pattern = pattern  # Przypisujemy kolor tła do stylu komórki.\n",
    "\n",
    "# Wstawiamy dane do komórek z zastosowaniem koloru tła.\n",
    "ws.write(2, 0, 'Karol', bg_style)  # Wstawiamy \"Karol\" do komórki A3\n",
    "ws.write(2, 1, 6000, bg_style)  # Wstawiamy 6000 do komórki B3\n"
   ]
  },
  {
   "cell_type": "markdown",
   "id": "025e5875-2292-4e8f-bebe-2016e4359870",
   "metadata": {},
   "source": [
    "#### Obramowania"
   ]
  },
  {
   "cell_type": "code",
   "execution_count": null,
   "id": "9045f493-5891-4aaf-87eb-e0fe60958fdf",
   "metadata": {},
   "outputs": [],
   "source": [
    "# --- Obramowanie ---\n",
    "# Definiujemy styl obramowania.\n",
    "border_style = xlwt.XFStyle()  # Tworzymy nowy styl komórki.\n",
    "borders = xlwt.Borders()  # Tworzymy obiekt obramowania.\n",
    "borders.left = xlwt.Borders.THIN  # Ustawiamy cienkie obramowanie po lewej.\n",
    "borders.right = xlwt.Borders.THIN  # Ustawiamy cienkie obramowanie po prawej.\n",
    "borders.top = xlwt.Borders.THIN  # Ustawiamy cienkie obramowanie u góry.\n",
    "borders.bottom = xlwt.Borders.THIN  # Ustawiamy cienkie obramowanie na dole.\n",
    "border_style.borders = borders  # Przypisujemy obramowanie do stylu komórki.\n",
    "\n",
    "# Wstawiamy dane do komórki z zastosowaniem obramowania.\n",
    "ws.write(3, 0, 'Wojtek', border_style)  # Wstawiamy \"Wojtek\" do komórki A4\n",
    "ws.write(3, 1, 7000, border_style)  # Wstawiamy 7000 do komórki B4\n"
   ]
  },
  {
   "cell_type": "code",
   "execution_count": null,
   "id": "4405fb63-2b38-4648-b24a-5a3a8c875dde",
   "metadata": {},
   "outputs": [],
   "source": [
    "# Zapisujemy plik jako 'stylizowanie_xlwt.xls'\n",
    "wb.save('stylizowanie_xlwt.xls')\n"
   ]
  },
  {
   "cell_type": "markdown",
   "id": "214a370a-9deb-4074-87cb-1f18337cd2e0",
   "metadata": {},
   "source": [
    "## Stylizowanie xlsxwriter (dla plików .xlsx)"
   ]
  },
  {
   "cell_type": "code",
   "execution_count": null,
   "id": "0f3a8d02-4d69-4a9d-9e25-cf4323ebb1c4",
   "metadata": {},
   "outputs": [],
   "source": [
    "# xlsxwriter oferuje bardzo bogate możliwości stylizowania komórek, podobnie jak openpyxl.\n",
    "# Jednakże, xlsxwriter służy wyłącznie do tworzenia i zapisywania nowych plików .xlsx, nie wspiera odczytu ani modyfikacji istniejących plików.\n",
    "# Oto, co można zrobić w kontekście stylizowania."
   ]
  },
  {
   "cell_type": "markdown",
   "id": "aa2413e2-83bf-4f06-9e87-b1b492c0339e",
   "metadata": {},
   "source": [
    "#### Stylizowanie czcionki"
   ]
  },
  {
   "cell_type": "code",
   "execution_count": null,
   "id": "5c427e04-095c-4af4-9358-6161ef855ffa",
   "metadata": {},
   "outputs": [],
   "source": [
    "import xlsxwriter\n",
    "\n",
    "# Tworzymy nowy skoroszyt\n",
    "workbook = xlsxwriter.Workbook('stylizowanie_xlsxwriter.xlsx')\n",
    "worksheet = workbook.add_worksheet()\n",
    "\n",
    "# Definiujemy styl czcionki (np. pogrubiona, kursywa, kolor niebieski)\n",
    "cell_format = workbook.add_format({\n",
    "    'bold': True,             # Pogrubiona\n",
    "    'italic': True,           # Kursywa\n",
    "    'font_color': 'blue',     # Niebieski kolor\n",
    "    'font_size': 12,          # Rozmiar czcionki\n",
    "    'font_name': 'Arial',     # Nazwa czcionki\n",
    "})\n",
    "\n",
    "# Zastosowanie formatu do komórki\n",
    "worksheet.write('A1', 'Imię', cell_format)\n",
    "worksheet.write('B1', 'Wynagrodzenie', cell_format)\n",
    "\n",
    "# Zapisujemy plik\n",
    "workbook.close()\n"
   ]
  },
  {
   "cell_type": "markdown",
   "id": "dde14e6a-9a65-4564-b43b-a044e58f6afe",
   "metadata": {},
   "source": [
    "#### Kolory tła i obramowania"
   ]
  },
  {
   "cell_type": "code",
   "execution_count": null,
   "id": "da77e8ab-e932-420f-b7fe-32e5096409df",
   "metadata": {},
   "outputs": [],
   "source": [
    "# Definiujemy styl komórki z kolorem tła i obramowaniem\n",
    "cell_format = workbook.add_format({\n",
    "    'bg_color': 'yellow',     # Żółte tło\n",
    "    'border': 1,              # Obramowanie wokół komórki\n",
    "    'border_color': 'black',  # Czarny kolor obramowania\n",
    "})\n",
    "\n",
    "# Zastosowanie stylu do komórki\n",
    "worksheet.write('A2', 'Anna', cell_format)\n",
    "worksheet.write('B2', 5000, cell_format)\n"
   ]
  },
  {
   "cell_type": "markdown",
   "id": "74b9d063-c5eb-4655-9250-12eb0822b6db",
   "metadata": {},
   "source": [
    "#### Wyrównanie tekstu"
   ]
  },
  {
   "cell_type": "code",
   "execution_count": null,
   "id": "d063e9d1-1ea8-4776-a451-8eee5d7f88f9",
   "metadata": {},
   "outputs": [],
   "source": [
    "# Definiujemy styl wyrównania do środka\n",
    "cell_format = workbook.add_format({\n",
    "    'align': 'center',        # Wyrównanie poziome do środka\n",
    "    'valign': 'vcenter',      # Wyrównanie pionowe do środka\n",
    "})\n",
    "\n",
    "# Zastosowanie stylu do komórek\n",
    "worksheet.write('A3', 'Karol', cell_format)\n",
    "worksheet.write('B3', 6000, cell_format)\n"
   ]
  },
  {
   "cell_type": "markdown",
   "id": "47158288-39db-4478-b66d-d6a18dee082c",
   "metadata": {},
   "source": [
    "#### Ustawianie szerokości kolumn i wysokości wierszy"
   ]
  },
  {
   "cell_type": "code",
   "execution_count": null,
   "id": "9eb82667-7633-466c-b9c2-66c2e9f6d8e0",
   "metadata": {},
   "outputs": [],
   "source": [
    "# Ustawiamy szerokość kolumny A na 20\n",
    "worksheet.set_column('A:A', 20)\n",
    "\n",
    "# Ustawiamy wysokość wiersza 1 na 30\n",
    "worksheet.set_row(1, 30)\n"
   ]
  },
  {
   "cell_type": "code",
   "execution_count": null,
   "id": "eac909b5-52e3-4bbd-b06b-2487b11d6ff2",
   "metadata": {},
   "outputs": [],
   "source": [
    "# Zapisujemy plik jako 'stylizowanie_xlsxwriter.xlsx'\n",
    "workbook.close()\n"
   ]
  }
 ],
 "metadata": {
  "kernelspec": {
   "display_name": "Python 3 (ipykernel)",
   "language": "python",
   "name": "python3"
  },
  "language_info": {
   "codemirror_mode": {
    "name": "ipython",
    "version": 3
   },
   "file_extension": ".py",
   "mimetype": "text/x-python",
   "name": "python",
   "nbconvert_exporter": "python",
   "pygments_lexer": "ipython3",
   "version": "3.11.5"
  }
 },
 "nbformat": 4,
 "nbformat_minor": 5
}
