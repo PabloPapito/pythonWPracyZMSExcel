{
 "cells": [
  {
   "cell_type": "markdown",
   "id": "04ee53cc-c38e-45b3-aaf7-1554955223b0",
   "metadata": {},
   "source": [
    "# Dodawanie danych - wykład"
   ]
  },
  {
   "cell_type": "markdown",
   "id": "7cc132ae-6107-4d01-a3f5-7a6886fe5285",
   "metadata": {},
   "source": [
    "#### openpyxl"
   ]
  },
  {
   "cell_type": "code",
   "execution_count": null,
   "id": "82157447-a421-46fd-8603-28af27b59262",
   "metadata": {},
   "outputs": [],
   "source": [
    "# openpyxl to biblioteka pozwalająca na tworzenie i modyfikowanie plików Excel w formacie .xlsx.\n",
    "# W przypadku dodawania danych do istniejącego pliku, musisz najpierw załadować plik, a następnie dodać do niego nowe dane."
   ]
  },
  {
   "cell_type": "code",
   "execution_count": null,
   "id": "1ba94e0e-fcfa-4357-b1a7-836b839b3578",
   "metadata": {},
   "outputs": [],
   "source": [
    "from openpyxl import Workbook\n",
    "\n",
    "# Tworzymy nowy obiekt Workbook - jest to \"skoroszyt\" w Excelu.\n",
    "wb = Workbook()\n",
    "\n",
    "# Aktywujemy domyślny arkusz (worksheet), który jest tworzony automatycznie w nowym skoroszycie.\n",
    "ws = wb.active\n",
    "\n",
    "# Dodajemy dane do komórek, podobnie jak w Excelu, ws['A1'] oznacza komórkę A1.\n",
    "ws['A1'] = 'Imię'          # Nagłówek kolumny A\n",
    "ws['B1'] = 'Wynagrodzenie'  # Nagłówek kolumny B\n",
    "\n",
    "# Dodajemy kolejne wiersze za pomocą metody `append`, która automatycznie przechodzi do kolejnych wierszy.\n",
    "ws.append(['Anna', 5000])   # Wiersz z danymi\n",
    "ws.append(['Piotr', 6000])  # Kolejny wiersz z danymi\n",
    "\n",
    "# Pętla zaczynająca od wiersza 3, aby nie nadpisać wierszy z \"Anna\" i \"Piotr\"\n",
    "for row in range(3, 10):  # Zaczynamy od wiersza 3\n",
    "    ws[f'A{row}'] = f'Imię {row}'          # Wypełniamy kolumnę A imionami\n",
    "    ws[f'B{row}'] = 5000 + row * 100       # W kolumnie B dodajemy wynagrodzenia\n",
    "\n",
    "# Zapisujemy plik jako 'przyklad.xlsx' - zapisuje cały skoroszyt na dysk.\n",
    "wb.save(\"przyklad.xlsx\")\n"
   ]
  },
  {
   "cell_type": "code",
   "execution_count": null,
   "id": "1de4b346-d180-466f-951c-a02348a58f3b",
   "metadata": {},
   "outputs": [],
   "source": [
    "# W tym przykładzie:\n",
    "\n",
    "# Utworzono nowy skoroszyt w Excelu.\n",
    "# Dodano nagłówki oraz dwa wiersze danych za pomocą metody .append().\n",
    "# W pętli dodano kolejne wiersze z danymi.\n",
    "# Zapisano plik jako przyklad.xlsx.\n"
   ]
  },
  {
   "cell_type": "markdown",
   "id": "d07d6902-dbc6-4f3e-b564-4191e795d19e",
   "metadata": {},
   "source": [
    "#### xlsxwriter"
   ]
  },
  {
   "cell_type": "code",
   "execution_count": null,
   "id": "b41e6e50-3d29-48c3-a0ff-db2dc79d0d29",
   "metadata": {},
   "outputs": [],
   "source": [
    "# xlsxwriter to kolejna popularna biblioteka służąca do tworzenia plików Excel w formacie .xlsx,\n",
    "# oferująca zaawansowane funkcje formatowania, takie jak style, wykresy, tabele, ale jest ograniczona do zapisu (nie wspiera odczytu plików)."
   ]
  },
  {
   "cell_type": "code",
   "execution_count": null,
   "id": "13a1325a-3c62-42b6-a3b9-60b42730d740",
   "metadata": {},
   "outputs": [],
   "source": [
    "import xlsxwriter\n",
    "\n",
    "# Tworzymy nowy obiekt Workbook, co odpowiada skoroszytowi w Excelu.\n",
    "workbook = xlsxwriter.Workbook('przyklad.xlsx')\n",
    "\n",
    "# Dodajemy nowy arkusz do skoroszytu. \n",
    "worksheet = workbook.add_worksheet()\n",
    "\n",
    "# Wstawiamy nagłówki do komórek. Metoda write() pozwala dodawać dane do konkretnych komórek.\n",
    "worksheet.write('A1', 'Imię')             # Nagłówek w kolumnie A\n",
    "worksheet.write('B1', 'Wynagrodzenie')    # Nagłówek w kolumnie B\n",
    "\n",
    "# Dodajemy dane do poszczególnych wierszy.\n",
    "worksheet.write('A2', 'Anna')    # Imię w wierszu 2\n",
    "worksheet.write('B2', 5000)      # Wynagrodzenie w wierszu 2\n",
    "\n",
    "# Podobnie jak w openpyxl, możemy dodawać dane w pętli dla większej ilości danych.\n",
    "for row in range(3, 10):\n",
    "    worksheet.write(row, 0, f'Imię {row}')  # Wstawiamy dane do kolumny A\n",
    "    worksheet.write(row, 1, 5000 + row * 100)  # Wstawiamy dane do kolumny B\n",
    "\n",
    "# Zapisujemy skoroszyt jako 'przyklad.xlsx'.\n",
    "workbook.close()\n"
   ]
  },
  {
   "cell_type": "markdown",
   "id": "5ab2fee9-a3f8-4472-955e-dbafabd29b03",
   "metadata": {},
   "source": [
    "#### xlrd i xlwt"
   ]
  },
  {
   "cell_type": "code",
   "execution_count": null,
   "id": "35b8cc26-ead8-4490-b5cb-5ba1300af44b",
   "metadata": {},
   "outputs": [],
   "source": [
    "# xlrd służy do odczytywania danych z plików Excel w formacie .xls,\n",
    "# natomiast xlwt jest używany do tworzenia i zapisywania tychże plików.\n",
    "\n",
    "# Obie biblioteki są już przestarzałe i zaleca się korzystanie z nowocześniejszych rozwiązań jak openpyxl dla plików .xlsx. \n",
    "# Jednak jeśli musisz pracować z plikami .xls, oto krótki przykład:\n"
   ]
  },
  {
   "cell_type": "markdown",
   "id": "d1d4d909-83ac-42f4-9169-de08cb147ecd",
   "metadata": {},
   "source": [
    "#### xlwt - dodawanie danych"
   ]
  },
  {
   "cell_type": "code",
   "execution_count": null,
   "id": "c4cc3fa1-1925-430e-8a04-b0ddeca7a4da",
   "metadata": {},
   "outputs": [],
   "source": [
    "import xlwt\n",
    "\n",
    "# Tworzymy nowy skoroszyt.\n",
    "wb = xlwt.Workbook()\n",
    "\n",
    "# Dodajemy nowy arkusz do skoroszytu.\n",
    "ws = wb.add_sheet('Arkusz1')\n",
    "\n",
    "# Wstawiamy nagłówki do pierwszego wiersza.\n",
    "ws.write(0, 0, 'Imię')           # Kolumna A\n",
    "ws.write(0, 1, 'Wynagrodzenie')   # Kolumna B\n",
    "\n",
    "# Dodajemy dane do kolejnych wierszy.\n",
    "ws.write(1, 0, 'Anna')   # Imię w kolumnie A\n",
    "ws.write(1, 1, 5000)     # Wynagrodzenie w kolumnie B\n",
    "\n",
    "# Pętla do wstawiania danych w wielu wierszach.\n",
    "for row in range(1, 10):\n",
    "    ws.write(row, 0, f'Imię {row}')   # Kolumna A\n",
    "    ws.write(row, 1, 5000 + row * 100)  # Kolumna B\n",
    "\n",
    "# Zapisujemy skoroszyt w formacie .xls.\n",
    "wb.save('przyklad.xls')\n"
   ]
  },
  {
   "cell_type": "markdown",
   "id": "a9c6707a-9726-4860-9586-650a75b4a757",
   "metadata": {},
   "source": [
    "#### xlrd - odczyt danych (tylko dla plików .xls)"
   ]
  },
  {
   "cell_type": "code",
   "execution_count": null,
   "id": "4af20f05-72e5-4b4b-b69d-c94b913b29a3",
   "metadata": {},
   "outputs": [],
   "source": [
    "import xlrd\n",
    "\n",
    "# Otwieramy istniejący plik .xls do odczytu.\n",
    "wb = xlrd.open_workbook('przyklad.xls')\n",
    "\n",
    "# Wybieramy pierwszy arkusz z pliku.\n",
    "sheet = wb.sheet_by_index(0)\n",
    "\n",
    "# Pobieramy dane z konkretnej komórki (wiersz 0, kolumna 0).\n",
    "cell_value = sheet.cell_value(0, 0)\n",
    "print(f'Zawartość komórki A1: {cell_value}')\n",
    "\n",
    "# Możemy iterować przez wszystkie wiersze i kolumny.\n",
    "for row in range(sheet.nrows):\n",
    "    for col in range(sheet.ncols):\n",
    "        print(sheet.cell_value(row, col))\n"
   ]
  }
 ],
 "metadata": {
  "kernelspec": {
   "display_name": "Python 3 (ipykernel)",
   "language": "python",
   "name": "python3"
  },
  "language_info": {
   "codemirror_mode": {
    "name": "ipython",
    "version": 3
   },
   "file_extension": ".py",
   "mimetype": "text/x-python",
   "name": "python",
   "nbconvert_exporter": "python",
   "pygments_lexer": "ipython3",
   "version": "3.11.5"
  }
 },
 "nbformat": 4,
 "nbformat_minor": 5
}
