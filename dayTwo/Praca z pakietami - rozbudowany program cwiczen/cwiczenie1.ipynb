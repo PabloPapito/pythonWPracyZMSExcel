{
 "cells": [
  {
   "cell_type": "markdown",
   "id": "320b8cac-c202-41ef-97f8-45d9e5184884",
   "metadata": {},
   "source": [
    "# Ćwiczenie 1: Tworzenie i modyfikowanie pliku Excel za pomocą openpyxl"
   ]
  },
  {
   "cell_type": "markdown",
   "id": "1ceac7c2-0468-4acc-ad3a-049d7ba19e1a",
   "metadata": {},
   "source": [
    "#### Tworzenie nowego pliku Excel"
   ]
  },
  {
   "cell_type": "code",
   "execution_count": 4,
   "id": "dec57bc5-fa04-4ded-a3ac-0c8ba40ce1e9",
   "metadata": {},
   "outputs": [],
   "source": [
    "# Utwórz nowy plik Excel, dodaj arkusz, wpisz dane do kilku komórek i zapisz plik.\n",
    "\n",
    "from openpyxl import Workbook\n",
    "\n",
    "wb = Workbook()\n",
    "ws = wb.active\n",
    "ws.title = \"Dane\"\n",
    "ws['A1'] = \"ID\"\n",
    "ws['B1'] = \"Name\"\n",
    "ws['C1'] = \"Age\"\n",
    "ws.append([1, \"Alice\", 30])\n",
    "ws.append([2, \"Bob\", 24])\n",
    "wb.save('openpyxl_cw1.xlsx')\n"
   ]
  },
  {
   "cell_type": "markdown",
   "id": "86781e92-69e8-40b8-a258-53f3704e31fa",
   "metadata": {},
   "source": [
    "#### Odczyt i modyfikacja istniejącego pliku Excel"
   ]
  },
  {
   "cell_type": "code",
   "execution_count": 9,
   "id": "e3de6716-1293-43ec-9f89-b5af5d89c3d9",
   "metadata": {},
   "outputs": [],
   "source": [
    "# Otwórz istniejący plik Excel, wprowadź zmiany do danych, zapisz zmodyfikowany plik pod nową nazwą.\n",
    "\n",
    "from openpyxl import load_workbook\n",
    "\n",
    "wb = load_workbook('openpyxl_cw1.xlsx')\n",
    "ws = wb['Dane']\n",
    "ws['C2'] = 31  # Zmiana wieku Alice na 31\n",
    "wb.save('openpyxl_cw1_modified.xlsx')\n"
   ]
  },
  {
   "cell_type": "markdown",
   "id": "e5e0a5ab-5493-4412-9945-a785e385b5d7",
   "metadata": {},
   "source": [
    "#### Stylizacja komórek"
   ]
  },
  {
   "cell_type": "code",
   "execution_count": 14,
   "id": "820a37b0-098c-40bf-8d9e-1090bc5d245d",
   "metadata": {},
   "outputs": [],
   "source": [
    "# Zastosuj formatowanie komórek, takie jak czcionka, kolor tła, obramowanie.\n",
    "\n",
    "from openpyxl.styles import Font, Color, Alignment, PatternFill\n",
    "\n",
    "wb = load_workbook('openpyxl_cw1_modified.xlsx')\n",
    "ws = wb['Dane']\n",
    "header_font = Font(bold=True, color=\"FFFFFF\")\n",
    "header_fill = PatternFill(\"solid\", fgColor=\"000000\")\n",
    "for cell in ws[1]:\n",
    "    cell.font = header_font\n",
    "    cell.fill = header_fill\n",
    "wb.save('openpyxl_cw1_styled.xlsx')\n"
   ]
  },
  {
   "cell_type": "code",
   "execution_count": 21,
   "id": "0e2a34af-3d74-45b2-8bfd-ebe2edec5d3e",
   "metadata": {},
   "outputs": [
    {
     "data": {
      "text/html": [
       "<div>\n",
       "<style scoped>\n",
       "    .dataframe tbody tr th:only-of-type {\n",
       "        vertical-align: middle;\n",
       "    }\n",
       "\n",
       "    .dataframe tbody tr th {\n",
       "        vertical-align: top;\n",
       "    }\n",
       "\n",
       "    .dataframe thead th {\n",
       "        text-align: right;\n",
       "    }\n",
       "</style>\n",
       "<table border=\"1\" class=\"dataframe\">\n",
       "  <thead>\n",
       "    <tr style=\"text-align: right;\">\n",
       "      <th></th>\n",
       "      <th>ID</th>\n",
       "      <th>Name</th>\n",
       "      <th>Age</th>\n",
       "    </tr>\n",
       "  </thead>\n",
       "  <tbody>\n",
       "    <tr>\n",
       "      <th>0</th>\n",
       "      <td>1</td>\n",
       "      <td>Alice</td>\n",
       "      <td>31</td>\n",
       "    </tr>\n",
       "    <tr>\n",
       "      <th>1</th>\n",
       "      <td>2</td>\n",
       "      <td>Bob</td>\n",
       "      <td>24</td>\n",
       "    </tr>\n",
       "  </tbody>\n",
       "</table>\n",
       "</div>"
      ],
      "text/plain": [
       "   ID   Name  Age\n",
       "0   1  Alice   31\n",
       "1   2    Bob   24"
      ]
     },
     "execution_count": 21,
     "metadata": {},
     "output_type": "execute_result"
    }
   ],
   "source": [
    "# Przykład, że nie sprawdzimy całości modyfikacji w pythonie. Należy pobrać plik i wtedy sprawdzić.\n",
    "import pandas as pd\n",
    "\n",
    "wbCheck = pd.read_excel('openpyxl_cw1_styled.xlsx')\n",
    "wbCheck"
   ]
  },
  {
   "cell_type": "markdown",
   "id": "a2e10f5f-657d-43fd-af5e-90561d6cdf65",
   "metadata": {},
   "source": [
    "#### Dodawanie wykresów"
   ]
  },
  {
   "cell_type": "code",
   "execution_count": 17,
   "id": "ff397c1b-febe-4b6c-bbaf-31b6740fce1e",
   "metadata": {},
   "outputs": [],
   "source": [
    "# Dodaj wykres do arkusza z danymi.\n",
    "\n",
    "from openpyxl.chart import BarChart, Reference\n",
    "\n",
    "wb = load_workbook('openpyxl_cw1_styled.xlsx')\n",
    "ws = wb['Dane']\n",
    "chart = BarChart()\n",
    "data = Reference(ws, min_col=3, min_row=1, max_col=3, max_row=3)\n",
    "categories = Reference(ws, min_col=2, min_row=2, max_row=3)\n",
    "chart.add_data(data, titles_from_data=True)\n",
    "chart.set_categories(categories)\n",
    "chart.title = \"Age Distribution\"\n",
    "ws.add_chart(chart, \"E5\")\n",
    "wb.save('openpyxl_cw1_with_chart.xlsx')\n"
   ]
  },
  {
   "cell_type": "code",
   "execution_count": null,
   "id": "9647595e-d24e-430a-84f0-7d9f240225bd",
   "metadata": {},
   "outputs": [],
   "source": []
  }
 ],
 "metadata": {
  "kernelspec": {
   "display_name": "Python 3 (ipykernel)",
   "language": "python",
   "name": "python3"
  },
  "language_info": {
   "codemirror_mode": {
    "name": "ipython",
    "version": 3
   },
   "file_extension": ".py",
   "mimetype": "text/x-python",
   "name": "python",
   "nbconvert_exporter": "python",
   "pygments_lexer": "ipython3",
   "version": "3.11.5"
  }
 },
 "nbformat": 4,
 "nbformat_minor": 5
}
