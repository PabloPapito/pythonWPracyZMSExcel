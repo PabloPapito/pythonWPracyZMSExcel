{
 "cells": [
  {
   "cell_type": "markdown",
   "id": "04e7ff38-bcc0-44ef-aa7c-d7d26396bef8",
   "metadata": {},
   "source": [
    "# Ćwiczenie 4: Tworzenie nowego pliku Excel za pomocą xlwt i stylizacja komórek"
   ]
  },
  {
   "cell_type": "markdown",
   "id": "31a15458-7859-4655-a9cd-afba8091d9e5",
   "metadata": {},
   "source": [
    "#### Tworzenie nowego pliku Excel z wieloma arkuszami"
   ]
  },
  {
   "cell_type": "raw",
   "id": "11aaf16d-2fad-4a99-b157-3e30a76b53e0",
   "metadata": {},
   "source": [
    "Podstawowe atrybuty xlwt.easyxf:\n",
    "Font (Czcionka):\n",
    "\n",
    "font: bold 1; - pogrubiona czcionka.\n",
    "font: italic 1; - kursywa.\n",
    "font: underline single; - podkreślenie.\n",
    "font: height 240; - rozmiar czcionki (w twips, 1/20 punktu).\n",
    "font: color red; - kolor czcionki.\n",
    "\n",
    "Pattern (Wzór):\n",
    "\n",
    "pattern: pattern solid, fore_color yellow; - solidne tło o żółtym kolorze.\n",
    "pattern: pattern fine_dots, fore_color yellow, back_color green; - drobne kropki na żółtym tle z zielonym tłem.\n",
    "\n",
    "Alignment (Wyrównanie):\n",
    "\n",
    "align: horiz center; - wyrównanie poziome do środka.\n",
    "align: vert center; - wyrównanie pionowe do środka.\n",
    "align: wrap on; - zawijanie tekstu w komórce.\n",
    "\n",
    "Borders (Ramki):\n",
    "\n",
    "borders: left thick, right thick, top thick, bottom thick; - grube ramki po lewej, prawej, górnej i dolnej stronie.\n",
    "borders: left_colour red, right_colour green, top_colour blue, bottom_colour yellow; - kolor ramek."
   ]
  },
  {
   "cell_type": "code",
   "execution_count": 14,
   "id": "8d912aff-a7aa-4454-b285-ea1ab710273a",
   "metadata": {},
   "outputs": [],
   "source": [
    "import xlwt\n",
    "\n",
    "# Tworzenie nowego pliku Excel\n",
    "workbook = xlwt.Workbook()\n",
    "sheet1 = workbook.add_sheet('Sheet1')\n",
    "\n",
    "# Stylizacja nagłówków\n",
    "header_style = xlwt.easyxf('font: bold 1, color white; pattern: pattern solid, fore_color blue;')\n",
    "\n",
    "# Stylizacja komórek z wyrównaniem i zawijaniem tekstu\n",
    "cell_style = xlwt.easyxf('align: horiz center, vert center, wrap on; font: bold 1;')\n",
    "\n",
    "# Stylizacja komórek z obramowaniem i kolorem tła\n",
    "border_style = xlwt.easyxf('borders: left thick, right thick, top thick, bottom thick; pattern: pattern solid, fore_color yellow;')\n",
    "\n",
    "# Stylizacja komórek z formatowaniem liczbowym\n",
    "number_style = xlwt.XFStyle()\n",
    "number_style.num_format_str = '0.00'\n",
    "\n",
    "# Dodawanie nagłówków do Sheet1\n",
    "sheet1.write(0, 0, 'ID', header_style)\n",
    "sheet1.write(0, 1, 'Name', header_style)\n",
    "sheet1.write(0, 2, 'Age', header_style)\n",
    "sheet1.write(0, 3, 'Department', header_style)\n",
    "sheet1.write(0, 4, 'Salary', header_style)\n",
    "\n",
    "# Dodawanie danych do Sheet1\n",
    "data_sheet1 = [\n",
    "    [1, 'Alice', 30, 'HR', 50000],\n",
    "    [2, 'Bob', 24, 'Engineering', 55000],\n",
    "    [3, 'Charlie', 29, 'Marketing', 60000],\n",
    "    [4, 'David', 35, 'Finance', 70000],\n",
    "    [5, 'Eva', 28, 'IT', 65000],\n",
    "]\n",
    "\n",
    "for row, entry in enumerate(data_sheet1, start=1):\n",
    "    sheet1.write(row, 0, entry[0], cell_style)\n",
    "    sheet1.write(row, 1, entry[1], cell_style)\n",
    "    sheet1.write(row, 2, entry[2], border_style)\n",
    "    sheet1.write(row, 3, entry[3], border_style)\n",
    "    sheet1.write(row, 4, entry[4], number_style)\n",
    "\n",
    "# Zapisanie pliku\n",
    "workbook.save('xlwt_cw4_styles.xls')\n"
   ]
  },
  {
   "cell_type": "code",
   "execution_count": null,
   "id": "bca57f1a-ac72-4e5f-b0b6-e673dcfaa7af",
   "metadata": {},
   "outputs": [],
   "source": []
  }
 ],
 "metadata": {
  "kernelspec": {
   "display_name": "Python 3 (ipykernel)",
   "language": "python",
   "name": "python3"
  },
  "language_info": {
   "codemirror_mode": {
    "name": "ipython",
    "version": 3
   },
   "file_extension": ".py",
   "mimetype": "text/x-python",
   "name": "python",
   "nbconvert_exporter": "python",
   "pygments_lexer": "ipython3",
   "version": "3.11.5"
  }
 },
 "nbformat": 4,
 "nbformat_minor": 5
}
