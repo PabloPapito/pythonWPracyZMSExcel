{
 "cells": [
  {
   "cell_type": "markdown",
   "id": "17e571c1-1a5e-4075-b09f-9016c41a643f",
   "metadata": {},
   "source": [
    "# Praca z pakietami openpyxl, xlsxwriter, xlrd i xlwt"
   ]
  },
  {
   "cell_type": "code",
   "execution_count": null,
   "id": "b9ba1aa5-7aff-4c3e-8e9b-e96b51c72f5a",
   "metadata": {},
   "outputs": [],
   "source": [
    "pip install openpyxl xlsxwriter xlrd xlwt"
   ]
  },
  {
   "cell_type": "markdown",
   "id": "518b52ca-826a-4da1-b0bb-b4c24ea6535d",
   "metadata": {},
   "source": [
    "#### Ćwiczenie 1"
   ]
  },
  {
   "cell_type": "code",
   "execution_count": null,
   "id": "ef137da8-8049-448f-b6e3-aa28412ee1d4",
   "metadata": {},
   "outputs": [],
   "source": [
    "# Zaimportuj niezbędne moduły:\n",
    "    # Skorzystaj z modułu Workbook z pakietu openpyxl do tworzenia nowego pliku Excel.\n",
    "    # Skorzystaj z modułu load_workbook z pakietu openpyxl do odczytu danych z istniejącego pliku Excel.\n",
    "\n",
    "# Tworzenie nowego pliku Excel:\n",
    "    # Stwórz nowy plik Excel za pomocą obiektu Workbook().\n",
    "    # Skorzystaj z atrybutu active, aby uzyskać dostęp do aktywnego arkusza roboczego.\n",
    "    # Umieść tekst \"Hello, Openpyxl!\" w komórce A1.\n",
    "    # Zapisz plik pod nazwą 'openpyxl_example_reminder.xlsx'.\n",
    "\n",
    "# Odczyt danych z pliku Excel:\n",
    "    # Załaduj istniejący plik Excel za pomocą funkcji load_workbook().\n",
    "    # Uzyskaj dostęp do aktywnego arkusza roboczego.\n",
    "    # Odczytaj wartość z komórki A1 i wydrukuj ją na ekranie.\n",
    "\n",
    "# Wyświetl wynik:\n",
    "    # Skrypt po odczytaniu danych z komórki A1 wyświetli na ekranie tekst \"Hello, Openpyxl!\"."
   ]
  },
  {
   "cell_type": "code",
   "execution_count": null,
   "id": "0dd69c61-2174-4422-a516-c211ee5f96b2",
   "metadata": {},
   "outputs": [],
   "source": []
  },
  {
   "cell_type": "markdown",
   "id": "6da8b4a0-8f26-4314-a732-054fc666d046",
   "metadata": {},
   "source": [
    "#### Ćwiczenie 2"
   ]
  },
  {
   "cell_type": "code",
   "execution_count": null,
   "id": "8476ee1b-3b17-4566-8c4a-a2b4ed1ec5d8",
   "metadata": {},
   "outputs": [],
   "source": [
    "# Zaimportuj moduł xlsxwriter:\n",
    "    # Użyj modułu xlsxwriter do tworzenia pliku Excel oraz formatowania komórek.\n",
    "\n",
    "# Utwórz nowy plik Excel:\n",
    "    # Skorzystaj z funkcji Workbook() z pakietu xlsxwriter, aby utworzyć nowy plik Excel o nazwie 'xlsxwriter_example_reminder.xlsx'.\n",
    "    # Stwórz nowy arkusz roboczy za pomocą metody add_worksheet().\n",
    "\n",
    "# Zapisz dane do komórek:\n",
    "    # Wpisz tekst \"Hello, XlsxWriter!\" do komórki A1 za pomocą funkcji write().\n",
    "\n",
    "# Dodaj formatowanie:\n",
    "    # Skorzystaj z metody add_format(), aby utworzyć format z opcjami {'bold': True, 'font_color': 'red'} (pogrubiona czcionka i kolor czerwony).\n",
    "    # Wpisz tekst \"Formatted text\" do komórki A2 z zastosowaniem utworzonego formatu.\n",
    "\n",
    "# Zamknij i zapisz plik Excel:\n",
    "    # Skorzystaj z metody close(), aby zamknąć skoroszyt i zapisać zmiany.\n",
    "\n",
    "# Wynik:\n",
    "# Po uruchomieniu tego kodu, w pliku Excel 'xlsxwriter_example_reminder.xlsx' zobaczysz:\n",
    "    # W komórce A1: tekst \"Hello, XlsxWriter!\".\n",
    "    # W komórce A2: sformatowany tekst \"Formatted text\", który będzie pogrubiony i w kolorze czerwonym."
   ]
  },
  {
   "cell_type": "code",
   "execution_count": null,
   "id": "7d3eb4fe-72c2-417c-bd93-2f9e4d3591dd",
   "metadata": {},
   "outputs": [],
   "source": []
  },
  {
   "cell_type": "markdown",
   "id": "a4857f06-1ae1-4e3d-ac7c-0d3ace199cbe",
   "metadata": {},
   "source": [
    "#### Ćwiczenie 3"
   ]
  },
  {
   "cell_type": "code",
   "execution_count": null,
   "id": "df84795c-96c5-420e-80e6-098a91a6208e",
   "metadata": {},
   "outputs": [],
   "source": [
    "# Zaimportuj moduł xlrd:\n",
    "    # Skorzystaj z modułu xlrd, aby otworzyć i odczytać dane z pliku Excel.\n",
    "\n",
    "# Użyj funkcji open_workbook() z pakietu xlrd, aby otworzyć plik Excel.\n",
    "    # Wprowadź pełną ścieżkę do pliku popbranego z folderu dayTwo/Cwiczenia z GitHub, zlokalizuj go na swoim dysku i dodaj jak w przykładzie: r'C:\\Users\\PabloPapito\\Downloads\\jobsInData\\jobsInDataXLS.xls'.\n",
    "    # Przypisz wynik do zmiennej workbook.\n",
    "\n",
    "# Uzyskaj dostęp do arkusza:\n",
    "    # Skorzystaj z metody sheet_by_index(0), aby uzyskać dostęp do pierwszego arkusza (indeks 0).\n",
    "    # Przypisz wynik do zmiennej sheet.\n",
    "\n",
    "# Odczytaj wartość z komórki:\n",
    "    # Skorzystaj z metody cell_value(row, column), aby odczytać wartość z określonej komórki. W tym przykładzie, odczytujemy wartość z pierwszej komórki (wiersz 0, kolumna 0).\n",
    "    # Wydrukuj wynik za pomocą funkcji print().\n",
    "\n",
    "# Wynik:\n",
    "# Po uruchomieniu kodu zostanie odczytana i wyświetlona na ekranie wartość z komórki w pierwszym wierszu i pierwszej kolumnie pliku Excel (jobsInDataXLS.xls)."
   ]
  },
  {
   "cell_type": "code",
   "execution_count": null,
   "id": "66fdb937-8999-478d-8548-b00184fa16aa",
   "metadata": {},
   "outputs": [],
   "source": []
  },
  {
   "cell_type": "markdown",
   "id": "5b95c43f-f663-4e67-b93b-f837e15b8670",
   "metadata": {},
   "source": [
    "#### Ćwiczenie 4"
   ]
  },
  {
   "cell_type": "code",
   "execution_count": null,
   "id": "a0b89fe3-f244-4a39-90c7-cb6d5f7d10d7",
   "metadata": {},
   "outputs": [],
   "source": [
    "# Zaimportuj moduł xlwt:\n",
    "    # Skorzystaj z modułu xlwt, aby utworzyć i zapisać nowy plik Excel.\n",
    "\n",
    "# Utwórz nowy skoroszyt Excel:\n",
    "    # Skorzystaj z metody Workbook(), aby stworzyć nowy plik Excel.\n",
    "    # Wynik przypisz do zmiennej workbook.\n",
    "\n",
    "# Dodaj arkusz do skoroszytu:\n",
    "    # Skorzystaj z metody add_sheet(), aby dodać nowy arkusz o nazwie 'Sheet 1' do skoroszytu.\n",
    "    # Wynik przypisz do zmiennej sheet.\n",
    "\n",
    "# Zapisz dane do komórki:\n",
    "    # Skorzystaj z metody write(), aby wpisać tekst \"Hello, Xlwt!\" do komórki w pierwszym wierszu i pierwszej kolumnie (wiersz 0, kolumna 0).\n",
    "\n",
    "# Zapisz i zamknij plik Excel:\n",
    "    # Skorzystaj z metody save(), aby zapisać plik pod nazwą 'xlwt_example_reminder.xls'.\n",
    "\n",
    "# Wynik:\n",
    "# Po uruchomieniu tego kodu zostanie utworzony plik Excel o nazwie 'xlwt_example_reminder.xls' z arkuszem o nazwie 'Sheet 1'. W komórce A1 (wiersz 0, kolumna 0) znajdziesz tekst \"Hello, Xlwt!\"."
   ]
  },
  {
   "cell_type": "code",
   "execution_count": null,
   "id": "83a7cc25-332b-4858-946c-b988d1bbd415",
   "metadata": {},
   "outputs": [],
   "source": []
  },
  {
   "cell_type": "markdown",
   "id": "88d963ec-8ea8-451e-8a2b-b0425130f479",
   "metadata": {},
   "source": [
    "#### Ćwiczenie 5"
   ]
  },
  {
   "cell_type": "code",
   "execution_count": null,
   "id": "97c276c8-9165-4007-92be-2a74df8cb8f3",
   "metadata": {},
   "outputs": [],
   "source": [
    "# Zaimportuj moduł openpyxl:\n",
    "    # Użyj pakietu openpyxl, aby tworzyć, zapisywać oraz odczytywać pliki Excel.\n",
    "\n",
    "# Utwórz nowy plik Excel:\n",
    "    # Skorzystaj z klasy Workbook(), aby utworzyć nowy skoroszyt Excel.\n",
    "    # Użyj atrybutu active, aby uzyskać dostęp do aktywnego arkusza roboczego.\n",
    "\n",
    "# Zapisz dane do komórek:\n",
    "    # Wpisz tekst \"Hello, Openpyxl!\" do komórki A1.\n",
    "    # Wpisz tekst \"This is a test.\" do komórki A2.\n",
    "\n",
    "# Zapisz plik Excel:\n",
    "    # Skorzystaj z metody save(), aby zapisać plik Excel pod nazwą 'openpyxl_example_3rd.xlsx'.\n",
    "\n",
    "# Odczytaj dane z pliku Excel:\n",
    "    # Użyj funkcji load_workbook(), aby załadować plik Excel.\n",
    "    # Uzyskaj dostęp do aktywnego arkusza i odczytaj wartości z komórek A1 i A2.\n",
    "\n",
    "# Wyświetl wynik:\n",
    "    # Skrypt wyświetli zawartość komórek A1 oraz A2 po ich odczytaniu z pliku Excel.\n",
    "\n",
    "# Wynik:\n",
    "# Po uruchomieniu tego kodu w pliku 'openpyxl_example_3rd.xlsx' znajdziesz:\n",
    "    # W komórce A1: tekst \"Hello, Openpyxl!\".\n",
    "    # W komórce A2: tekst \"This is a test.\"."
   ]
  },
  {
   "cell_type": "code",
   "execution_count": null,
   "id": "0d410bde-9565-4cfe-b1a7-31f105bc3849",
   "metadata": {},
   "outputs": [],
   "source": []
  }
 ],
 "metadata": {
  "kernelspec": {
   "display_name": "Python 3 (ipykernel)",
   "language": "python",
   "name": "python3"
  },
  "language_info": {
   "codemirror_mode": {
    "name": "ipython",
    "version": 3
   },
   "file_extension": ".py",
   "mimetype": "text/x-python",
   "name": "python",
   "nbconvert_exporter": "python",
   "pygments_lexer": "ipython3",
   "version": "3.11.5"
  }
 },
 "nbformat": 4,
 "nbformat_minor": 5
}
