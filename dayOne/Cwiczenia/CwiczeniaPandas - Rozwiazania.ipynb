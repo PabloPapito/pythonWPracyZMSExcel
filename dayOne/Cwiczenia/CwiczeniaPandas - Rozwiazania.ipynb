{
 "cells": [
  {
   "cell_type": "markdown",
   "id": "c23fa5c5",
   "metadata": {},
   "source": [
    "# Ćwiczenia Pandas - Rozwiązania"
   ]
  },
  {
   "cell_type": "markdown",
   "id": "f4069b68",
   "metadata": {},
   "source": [
    "## Ćwiczenie 1. - Pandas"
   ]
  },
  {
   "cell_type": "raw",
   "id": "497c91c0",
   "metadata": {},
   "source": [
    "import pandas as pd\n",
    "import numpy as np\n",
    "\n",
    "# Ćwiczenie: Stworzenie DataFrame z danymi losowymi\n",
    "df_cw = pd.DataFrame(np.random.randint(0, 100, size=(5, 3)), columns=['A', 'B', 'C'])\n",
    "\n",
    "# Zadanie: Wyświetlenie informacji o danych w DataFrame\n",
    "info_dane_cw = # Tu dodaj kod\n",
    "\n",
    "# Zadanie: Wyświetlenie trzech pierwszych wierszy DataFrame\n",
    "pierwsze_wiersze_cw = # Tu dodaj kod\n",
    "\n",
    "# Wyświetlenie wyników\n",
    "print(\"Informacje o danych:\", info_dane_cw)\n",
    "print(\"Trzy pierwsze wiersze DataFrame:\\n\", pierwsze_wiersze_cw)"
   ]
  },
  {
   "cell_type": "markdown",
   "id": "6fd2ba60",
   "metadata": {},
   "source": [
    "#### Rozwiązanie:"
   ]
  },
  {
   "cell_type": "code",
   "execution_count": 2,
   "id": "baed8b4b",
   "metadata": {},
   "outputs": [
    {
     "name": "stdout",
     "output_type": "stream",
     "text": [
      "<class 'pandas.core.frame.DataFrame'>\n",
      "RangeIndex: 5 entries, 0 to 4\n",
      "Data columns (total 3 columns):\n",
      " #   Column  Non-Null Count  Dtype\n",
      "---  ------  --------------  -----\n",
      " 0   A       5 non-null      int32\n",
      " 1   B       5 non-null      int32\n",
      " 2   C       5 non-null      int32\n",
      "dtypes: int32(3)\n",
      "memory usage: 192.0 bytes\n",
      "Informacje o danych: None\n",
      "Trzy pierwsze wiersze DataFrame:\n",
      "     A   B   C\n",
      "0  37  94  36\n",
      "1  10  22  55\n",
      "2  60  81  21\n"
     ]
    }
   ],
   "source": [
    "import pandas as pd\n",
    "import numpy as np\n",
    "\n",
    "# Stworzenie DataFrame z danymi losowymi\n",
    "df_cw = pd.DataFrame(np.random.randint(0, 100, size=(5, 3)), columns=['A', 'B', 'C'])\n",
    "\n",
    "# Wyświetlenie informacji o danych w DataFrame\n",
    "info_dane_cw = df_cw.info()\n",
    "\n",
    "# Wyświetlenie trzech pierwszych wierszy DataFrame\n",
    "pierwsze_wiersze_cw = df_cw.head(3)\n",
    "\n",
    "# Wyświetlenie wyników\n",
    "print(\"Informacje o danych:\", info_dane_cw)\n",
    "print(\"Trzy pierwsze wiersze DataFrame:\\n\", pierwsze_wiersze_cw)"
   ]
  },
  {
   "cell_type": "markdown",
   "id": "781af381",
   "metadata": {},
   "source": [
    "#### Omówienie"
   ]
  },
  {
   "cell_type": "raw",
   "id": "4ff1a437",
   "metadata": {},
   "source": [
    "df_cw.info() dostarcza informacji o strukturze danych, typach kolumn i ilości niepustych wartości.\n",
    "df_cw.head(3) wyświetla pierwsze trzy wiersze DataFrame.\n",
    "Te funkcje są przydatne podczas analizy danych i pozwalają uzyskać szybki podgląd na strukturę i zawartość DataFrame."
   ]
  },
  {
   "cell_type": "markdown",
   "id": "91a21539",
   "metadata": {},
   "source": [
    "## Ćwiczenie 2. - Wczytywanie i zapis danych"
   ]
  },
  {
   "cell_type": "raw",
   "id": "1492e07d",
   "metadata": {},
   "source": [
    "import pandas as pd\n",
    "\n",
    "# Ćwiczenie: Wczytanie danych z pliku CSV\n",
    "df_wczytane_cw = # Tu dodaj kod\n",
    "\n",
    "# Zadanie: Wyświetlenie pięciu pierwszych wierszy wczytanych danych\n",
    "pierwsze_wiersze_wczytane_cw = # Tu dodaj kod\n",
    "\n",
    "# Zadanie: Zapisanie wczytanych danych do pliku Excel\n",
    "# (Uwaga: Dla potrzeb ćwiczenia, możesz użyć tych samych wczytanych danych)\n",
    "df_wczytane_cw.to_excel('dane_wczytane.xlsx', index=False)\n",
    "\n",
    "# Wyświetlenie wyników\n",
    "print(\"Pięć pierwszych wierszy wczytanych danych:\\n\", pierwsze_wiersze_wczytane_cw)\n",
    "print(\"Dane zostały zapisane do pliku Excel.\")"
   ]
  },
  {
   "cell_type": "markdown",
   "id": "58c5df1d",
   "metadata": {},
   "source": [
    "#### Rozwiązanie"
   ]
  },
  {
   "cell_type": "code",
   "execution_count": 3,
   "id": "fb72b02d",
   "metadata": {},
   "outputs": [],
   "source": [
    "import pandas as pd\n",
    "\n",
    "# Wczytanie danych z pliku CSV\n",
    "df_wczytane_cw = pd.read_csv('../DayTwo/top_100_world_university_2024_new.csv')\n",
    "\n",
    "# Wyświetlenie pięciu pierwszych wierszy wczytanych danych\n",
    "pierwsze_wiersze_wczytane_cw = df_wczytane_cw.head()\n",
    "\n",
    "# Zapisanie wczytanych danych do pliku Excel\n",
    "df_wczytane_cw.to_excel('dane_wczytane_top_universities.xlsx', index=False)"
   ]
  },
  {
   "cell_type": "markdown",
   "id": "41497c32",
   "metadata": {},
   "source": [
    "#### Omówienie"
   ]
  },
  {
   "cell_type": "raw",
   "id": "1d0603bc",
   "metadata": {},
   "source": [
    "Warto zauważyć, że w kodzie używamy funkcji read_csv do wczytania danych z pliku CSV. W przypadku plików Excel, moglibyśmy użyć pd.read_excel. Następnie używamy metody head() do wyświetlenia pierwszych pięciu wierszy wczytanych danych. Ostatecznie dane są zapisywane do pliku Excel za pomocą to_excel, gdzie parametr index=False oznacza, że nie chcemy zapisywać indeksu do pliku."
   ]
  },
  {
   "cell_type": "markdown",
   "id": "8dcd11bd",
   "metadata": {},
   "source": [
    "## Ćwiczenie 3. - Atrybuty DataFrame w Pandas"
   ]
  },
  {
   "cell_type": "raw",
   "id": "ce457e25",
   "metadata": {},
   "source": [
    "import pandas as pd\n",
    "\n",
    "# Ćwiczenie: Sprawdzenie kształtu i struktury DataFrame\n",
    "df_cw = pd.DataFrame({'A': [1, 2, 3], 'B': [4, 5, 6]})\n",
    "\n",
    "# Zadanie: Wyświetlenie kształtu DataFrame\n",
    "ksztalt_cw = # Tu dodaj kod\n",
    "\n",
    "# Zadanie: Wyświetlenie indeksów wierszy DataFrame\n",
    "indeksy_cw = # Tu dodaj kod\n",
    "\n",
    "# Zadanie: Wyświetlenie etykiet kolumn DataFrame\n",
    "etykiety_kolumn_cw = # Tu dodaj kod\n",
    "\n",
    "# Zadanie: Wyświetlenie typów danych kolumn DataFrame\n",
    "typy_danych_cw = # Tu dodaj kod\n",
    "\n",
    "# Wyświetlenie wyników\n",
    "print(\"Kształt DataFrame:\", ksztalt_cw)\n",
    "print(\"Indeksy wierszy DataFrame:\", indeksy_cw)\n",
    "print(\"Etykiety kolumn DataFrame:\", etykiety_kolumn_cw)\n",
    "print(\"Typy danych kolumn DataFrame:\\n\", typy_danych_cw)"
   ]
  },
  {
   "cell_type": "markdown",
   "id": "f32163d9",
   "metadata": {},
   "source": [
    "#### Rozwiązanie"
   ]
  },
  {
   "cell_type": "code",
   "execution_count": 4,
   "id": "a76ed0c7",
   "metadata": {},
   "outputs": [
    {
     "name": "stdout",
     "output_type": "stream",
     "text": [
      "Kształt DataFrame: (3, 2)\n",
      "Indeksy wierszy DataFrame: RangeIndex(start=0, stop=3, step=1)\n",
      "Etykiety kolumn DataFrame: Index(['A', 'B'], dtype='object')\n",
      "Typy danych kolumn DataFrame:\n",
      " A    int64\n",
      "B    int64\n",
      "dtype: object\n"
     ]
    }
   ],
   "source": [
    "import pandas as pd\n",
    "\n",
    "# Ćwiczenie: Sprawdzenie kształtu i struktury DataFrame\n",
    "df_cw = pd.DataFrame({'A': [1, 2, 3], 'B': [4, 5, 6]})\n",
    "\n",
    "# Zadanie: Wyświetlenie kształtu DataFrame\n",
    "ksztalt_cw = df_cw.shape\n",
    "\n",
    "# Zadanie: Wyświetlenie indeksów wierszy DataFrame\n",
    "indeksy_cw = df_cw.index\n",
    "\n",
    "# Zadanie: Wyświetlenie etykiet kolumn DataFrame\n",
    "etykiety_kolumn_cw = df_cw.columns\n",
    "\n",
    "# Zadanie: Wyświetlenie typów danych kolumn DataFrame\n",
    "typy_danych_cw = df_cw.dtypes\n",
    "\n",
    "# Wyświetlenie wyników\n",
    "print(\"Kształt DataFrame:\", ksztalt_cw)\n",
    "print(\"Indeksy wierszy DataFrame:\", indeksy_cw)\n",
    "print(\"Etykiety kolumn DataFrame:\", etykiety_kolumn_cw)\n",
    "print(\"Typy danych kolumn DataFrame:\\n\", typy_danych_cw)"
   ]
  },
  {
   "cell_type": "markdown",
   "id": "684e3e2f",
   "metadata": {},
   "source": [
    "## Ćwiczenie 4. - Przydatne funkcje w Pandas"
   ]
  },
  {
   "cell_type": "raw",
   "id": "0ec00002",
   "metadata": {},
   "source": [
    "# Ćwiczenie: Użycie funkcji describe, info, head, tail, sample\n",
    "df_cw = pd.DataFrame({'A': [1, 2, 3, 4, 5],\n",
    "                      'B': ['a', 'b', 'c', 'd', 'e'],\n",
    "                      'C': [0.1, 0.5, 0.8, 0.3, 0.9]})\n",
    "\n",
    "# Zadanie: Uzyskanie opisu statystycznego dla DataFrame\n",
    "opis_statystyczny_cw = # Tu dodaj kod\n",
    "\n",
    "# Zadanie: Wyświetlenie informacji o danych w DataFrame\n",
    "informacje_o_danych_cw = # Tu dodaj kod\n",
    "\n",
    "# Zadanie: Wyświetlenie trzech pierwszych wierszy DataFrame\n",
    "pierwsze_wiersze_cw = # Tu dodaj kod\n",
    "\n",
    "# Zadanie: Wyświetlenie trzech ostatnich wierszy DataFrame\n",
    "ostatnie_wiersze_cw = # Tu dodaj kod\n",
    "\n",
    "# Zadanie: Wyświetlenie trzech losowych wierszy DataFrame\n",
    "losowe_wiersze_cw = # Tu dodaj kod\n",
    "\n",
    "# Wyświetlenie wyników\n",
    "print(\"Opis statystyczny DataFrame:\\n\", opis_statystyczny_cw)\n",
    "print(\"Informacje o danych w DataFrame:\\n\", informacje_o_danych_cw)\n",
    "print(\"Trzy pierwsze wiersze DataFrame:\\n\", pierwsze_wiersze_cw)\n",
    "print(\"Trzy ostatnie wiersze DataFrame:\\n\", ostatnie_wiersze_cw)\n",
    "print(\"Trzy losowe wiersze DataFrame:\\n\", losowe_wiersze_cw)"
   ]
  },
  {
   "cell_type": "markdown",
   "id": "457b4717",
   "metadata": {},
   "source": [
    "#### Rozwiązanie"
   ]
  },
  {
   "cell_type": "code",
   "execution_count": 5,
   "id": "acd3ec9a",
   "metadata": {},
   "outputs": [
    {
     "name": "stdout",
     "output_type": "stream",
     "text": [
      "<class 'pandas.core.frame.DataFrame'>\n",
      "RangeIndex: 5 entries, 0 to 4\n",
      "Data columns (total 3 columns):\n",
      " #   Column  Non-Null Count  Dtype  \n",
      "---  ------  --------------  -----  \n",
      " 0   A       5 non-null      int64  \n",
      " 1   B       5 non-null      object \n",
      " 2   C       5 non-null      float64\n",
      "dtypes: float64(1), int64(1), object(1)\n",
      "memory usage: 252.0+ bytes\n",
      "Opis statystyczny DataFrame:\n",
      "               A         C\n",
      "count  5.000000  5.000000\n",
      "mean   3.000000  0.520000\n",
      "std    1.581139  0.334664\n",
      "min    1.000000  0.100000\n",
      "25%    2.000000  0.300000\n",
      "50%    3.000000  0.500000\n",
      "75%    4.000000  0.800000\n",
      "max    5.000000  0.900000\n",
      "\n",
      "Informacje o danych w DataFrame:\n",
      " None\n",
      "\n",
      "Trzy pierwsze wiersze DataFrame:\n",
      "    A  B    C\n",
      "0  1  a  0.1\n",
      "1  2  b  0.5\n",
      "2  3  c  0.8\n",
      "\n",
      "Trzy ostatnie wiersze DataFrame:\n",
      "    A  B    C\n",
      "2  3  c  0.8\n",
      "3  4  d  0.3\n",
      "4  5  e  0.9\n",
      "\n",
      "Trzy losowe wiersze DataFrame:\n",
      "    A  B    C\n",
      "4  5  e  0.9\n",
      "1  2  b  0.5\n",
      "3  4  d  0.3\n"
     ]
    }
   ],
   "source": [
    "# Rozwiązanie: Użycie funkcji describe, info, head, tail, sample\n",
    "df_cw = pd.DataFrame({'A': [1, 2, 3, 4, 5],\n",
    "                      'B': ['a', 'b', 'c', 'd', 'e'],\n",
    "                      'C': [0.1, 0.5, 0.8, 0.3, 0.9]})\n",
    "\n",
    "# Opis statystyczny dla DataFrame\n",
    "opis_statystyczny_cw = df_cw.describe()\n",
    "\n",
    "# Informacje o danych w DataFrame\n",
    "informacje_o_danych_cw = df_cw.info()\n",
    "\n",
    "# Trzy pierwsze wiersze DataFrame\n",
    "pierwsze_wiersze_cw = df_cw.head(3)\n",
    "\n",
    "# Trzy ostatnie wiersze DataFrame\n",
    "ostatnie_wiersze_cw = df_cw.tail(3)\n",
    "\n",
    "# Trzy losowe wiersze DataFrame\n",
    "losowe_wiersze_cw = df_cw.sample(3)\n",
    "\n",
    "# Wyświetlenie wyników\n",
    "print(\"Opis statystyczny DataFrame:\\n\", opis_statystyczny_cw)\n",
    "print(\"\\nInformacje o danych w DataFrame:\\n\", informacje_o_danych_cw)\n",
    "print(\"\\nTrzy pierwsze wiersze DataFrame:\\n\", pierwsze_wiersze_cw)\n",
    "print(\"\\nTrzy ostatnie wiersze DataFrame:\\n\", ostatnie_wiersze_cw)\n",
    "print(\"\\nTrzy losowe wiersze DataFrame:\\n\", losowe_wiersze_cw)"
   ]
  },
  {
   "cell_type": "markdown",
   "id": "2dfda2ac",
   "metadata": {},
   "source": [
    "## Ćwiczenie 5. - Sortowanie Danych w Pandas"
   ]
  },
  {
   "cell_type": "raw",
   "id": "0b7f0ee7",
   "metadata": {},
   "source": [
    "# Ćwiczenie: Sortowanie danych w Pandas\n",
    "df_cw = pd.DataFrame({'A': [3, 1, 4, 2],\n",
    "                      'B': ['c', 'a', 'd', 'b']})\n",
    "\n",
    "# Zadanie: Sortowanie wierszy według kolumny 'A'\n",
    "df_posortowany_cw = # Tu dodaj kod\n",
    "\n",
    "# Zadanie: Sortowanie kolumn według etykiet\n",
    "df_kolumny_posortowane_cw = # Tu dodaj kod\n",
    "\n",
    "# Zadanie: Sortowanie wierszy malejąco według kolumny 'A'\n",
    "df_posortowany_malejaco_cw = # Tu dodaj kod\n",
    "\n",
    "# Wyświetlenie wyników\n",
    "print(\"DataFrame po posortowaniu wierszy według kolumny 'A':\\n\", df_posortowany_cw)\n",
    "print(\"DataFrame po posortowaniu kolumn według etykiet:\\n\", df_kolumny_posortowane_cw)\n",
    "print(\"DataFrame po posortowaniu malejąco według kolumny 'A':\\n\", df_posortowany_malejaco_cw)"
   ]
  },
  {
   "cell_type": "markdown",
   "id": "0cf6f202",
   "metadata": {},
   "source": [
    "#### Rozwiązanie"
   ]
  },
  {
   "cell_type": "code",
   "execution_count": 9,
   "id": "592a59b2",
   "metadata": {},
   "outputs": [
    {
     "name": "stdout",
     "output_type": "stream",
     "text": [
      "DataFrame po posortowaniu wierszy według kolumny 'A':\n",
      "    A  B\n",
      "1  1  a\n",
      "3  2  b\n",
      "0  3  c\n",
      "2  4  d\n",
      "DataFrame po posortowaniu kolumn według etykiet:\n",
      "    A  B\n",
      "0  3  c\n",
      "1  1  a\n",
      "2  4  d\n",
      "3  2  b\n",
      "DataFrame po posortowaniu malejąco według kolumny 'A':\n",
      "    A  B\n",
      "2  4  d\n",
      "0  3  c\n",
      "3  2  b\n",
      "1  1  a\n"
     ]
    }
   ],
   "source": [
    "# Rozwiązanie Ćwiczenia: Sortowanie danych w Pandas\n",
    "df_cw = pd.DataFrame({'A': [3, 1, 4, 2],\n",
    "                      'B': ['c', 'a', 'd', 'b']})\n",
    "\n",
    "# Zadanie: Sortowanie wierszy według kolumny 'A'\n",
    "df_posortowany_cw = df_cw.sort_values(by='A')\n",
    "\n",
    "# Zadanie: Sortowanie kolumn według etykiet\n",
    "df_kolumny_posortowane_cw = df_cw.sort_index(axis=1)\n",
    "\n",
    "# Zadanie: Sortowanie wierszy malejąco według kolumny 'A'\n",
    "df_posortowany_malejaco_cw = df_cw.sort_values(by='A', ascending=False)\n",
    "\n",
    "# Wyświetlenie wyników\n",
    "print(\"DataFrame po posortowaniu wierszy według kolumny 'A':\\n\", df_posortowany_cw)\n",
    "print(\"DataFrame po posortowaniu kolumn według etykiet:\\n\", df_kolumny_posortowane_cw)\n",
    "print(\"DataFrame po posortowaniu malejąco według kolumny 'A':\\n\", df_posortowany_malejaco_cw)"
   ]
  },
  {
   "cell_type": "markdown",
   "id": "efffc2de",
   "metadata": {},
   "source": [
    "## Ćwiczenie 6. - Filtrowanie Danych w Pandas"
   ]
  },
  {
   "cell_type": "raw",
   "id": "29ed5e85",
   "metadata": {},
   "source": [
    "# Ćwiczenie: Filtrowanie danych w Pandas\n",
    "df_cw = pd.DataFrame({'A': [1, 2, 3, 4],\n",
    "                      'B': ['a', 'b', 'c', 'd']}, index=['x', 'y', 'z', 'w'])\n",
    "\n",
    "# Zadanie: Filtrowanie wierszy o indeksach 'x' i 'y' oraz kolumny 'A'\n",
    "df_filtr_loc_cw = # Tu dodaj kod\n",
    "\n",
    "# Zadanie: Filtrowanie pierwszych dwóch wierszy oraz pierwszej kolumny za pomocą iloc\n",
    "df_filtr_iloc_cw = # Tu dodaj kod\n",
    "\n",
    "# Zadanie: Filtrowanie wierszy, gdzie wartość w kolumnie 'A' jest większa niż 2 za pomocą query\n",
    "df_filtr_query_cw = # Tu dodaj kod\n",
    "\n",
    "# Zadanie: Filtrowanie, zwracając nowy DataFrame z wartościami, które spełniają warunek, a reszta to NaN za pomocą where\n",
    "df_filtr_where_cw = # Tu dodaj kod\n",
    "\n",
    "# Zadanie: Filtrowanie wierszy, gdzie wartość w kolumnie 'B' jest jedną z określonych wartości za pomocą isin\n",
    "df_filtr_isin_cw = # Tu dodaj kod\n",
    "\n",
    "# Zadanie: Filtrowanie wierszy, gdzie wartość w kolumnie 'A' jest NaN za pomocą isnull\n",
    "df_filtr_isnull_cw = # Tu dodaj kod\n",
    "\n",
    "# Zadanie: Filtrowanie wierszy, gdzie wartość w kolumnie 'A' nie jest NaN za pomocą notnull\n",
    "df_filtr_notnull_cw = # Tu dodaj kod\n",
    "\n",
    "# Wyświetlenie wyników\n",
    "print(\"Wynik filtrowania za pomocą loc:\\n\", df_filtr_loc_cw)\n",
    "print(\"Wynik filtrowania za pomocą iloc:\\n\", df_filtr_iloc_cw)\n",
    "print(\"Wynik filtrowania za pomocą query:\\n\", df_filtr_query_cw)\n",
    "print(\"Wynik filtrowania za pomocą where:\\n\", df_filtr_where_cw)\n",
    "print(\"Wynik filtrowania za pomocą isin:\\n\", df_filtr_isin_cw)\n",
    "print(\"Wynik filtrowania za pomocą isnull:\\n\", df_filtr_isnull_cw)\n",
    "print(\"Wynik filtrowania za pomocą notnull:\\n\", df_filtr_notnull_cw)"
   ]
  },
  {
   "cell_type": "markdown",
   "id": "b3734913",
   "metadata": {},
   "source": [
    "#### Rozwiązanie"
   ]
  },
  {
   "cell_type": "code",
   "execution_count": 10,
   "id": "cd4f176a",
   "metadata": {},
   "outputs": [
    {
     "name": "stdout",
     "output_type": "stream",
     "text": [
      "Wynik filtrowania za pomocą loc:\n",
      " x    1\n",
      "y    2\n",
      "Name: A, dtype: int64 \n",
      "\n",
      "----------------------\n",
      "\n",
      "Wynik filtrowania za pomocą iloc:\n",
      " x    1\n",
      "y    2\n",
      "Name: A, dtype: int64 \n",
      "\n",
      "----------------------\n",
      "\n",
      "Wynik filtrowania za pomocą query:\n",
      "    A  B\n",
      "z  3  c\n",
      "w  4  d \n",
      "\n",
      "----------------------\n",
      "\n",
      "Wynik filtrowania za pomocą where:\n",
      "      A    B\n",
      "x  NaN  NaN\n",
      "y  NaN  NaN\n",
      "z  3.0    c\n",
      "w  4.0    d \n",
      "\n",
      "----------------------\n",
      "\n",
      "Wynik filtrowania za pomocą isin:\n",
      "    A  B\n",
      "x  1  a\n",
      "z  3  c \n",
      "\n",
      "----------------------\n",
      "\n",
      "Wynik filtrowania za pomocą isnull:\n",
      " Empty DataFrame\n",
      "Columns: [A, B]\n",
      "Index: [] \n",
      "\n",
      "----------------------\n",
      "\n",
      "Wynik filtrowania za pomocą notnull:\n",
      "    A  B\n",
      "x  1  a\n",
      "y  2  b\n",
      "z  3  c\n",
      "w  4  d \n",
      "\n",
      "----------------------\n",
      "\n"
     ]
    }
   ],
   "source": [
    "# Rozwiązanie: Filtrowanie danych w Pandas\n",
    "df_cw = pd.DataFrame({'A': [1, 2, 3, 4],\n",
    "                      'B': ['a', 'b', 'c', 'd']}, index=['x', 'y', 'z', 'w'])\n",
    "\n",
    "# Filtrowanie wierszy o indeksach 'x' i 'y' oraz kolumny 'A'\n",
    "df_filtr_loc_cw = df_cw.loc[['x', 'y'], 'A']\n",
    "\n",
    "# Filtrowanie pierwszych dwóch wierszy oraz pierwszej kolumny za pomocą ilocdf_cw\n",
    "df_filtr_iloc_cw = df_cw.iloc[:2, 0]\n",
    "\n",
    "# Filtrowanie wierszy, gdzie wartość w kolumnie 'A' jest większa niż 2 za pomocą query\n",
    "df_filtr_query_cw = df_cw.query('A > 2')\n",
    "\n",
    "# Filtrowanie, zwracając nowy DataFrame z wartościami, które spełniają warunek, a reszta to NaN za pomocą where\n",
    "df_filtr_where_cw = df_cw.where(df_cw['A'] > 2)\n",
    "\n",
    "# Filtrowanie wierszy, gdzie wartość w kolumnie 'B' jest jedną z określonych wartości za pomocą isin\n",
    "df_filtr_isin_cw = df_cw[df_cw['B'].isin(['a', 'c'])]\n",
    "\n",
    "# Filtrowanie wierszy, gdzie wartość w kolumnie 'A' jest NaN za pomocą isnull\n",
    "df_filtr_isnull_cw = df_cw[df_cw['A'].isnull()]\n",
    "\n",
    "# Filtrowanie wierszy, gdzie wartość w kolumnie 'A' nie jest NaN za pomocą notnull\n",
    "df_filtr_notnull_cw = df_cw[df_cw['A'].notnull()]\n",
    "\n",
    "# Wyświetlenie wyników\n",
    "print(\"Wynik filtrowania za pomocą loc:\\n\", df_filtr_loc_cw, '\\n\\n----------------------\\n')\n",
    "print(\"Wynik filtrowania za pomocą iloc:\\n\", df_filtr_iloc_cw, '\\n\\n----------------------\\n')\n",
    "print(\"Wynik filtrowania za pomocą query:\\n\", df_filtr_query_cw, '\\n\\n----------------------\\n')\n",
    "print(\"Wynik filtrowania za pomocą where:\\n\", df_filtr_where_cw, '\\n\\n----------------------\\n')\n",
    "print(\"Wynik filtrowania za pomocą isin:\\n\", df_filtr_isin_cw, '\\n\\n----------------------\\n')\n",
    "print(\"Wynik filtrowania za pomocą isnull:\\n\", df_filtr_isnull_cw, '\\n\\n----------------------\\n')\n",
    "print(\"Wynik filtrowania za pomocą notnull:\\n\", df_filtr_notnull_cw, '\\n\\n----------------------\\n')"
   ]
  },
  {
   "cell_type": "markdown",
   "id": "fe83e229",
   "metadata": {},
   "source": [
    "## Ćwiczenie 7. - Grupowanie Danych w Pandas"
   ]
  },
  {
   "cell_type": "raw",
   "id": "a9f4d111",
   "metadata": {},
   "source": [
    "# Ćwiczenie: Grupowanie danych w Pandas\n",
    "df_cw = pd.DataFrame({'Category': ['A', 'B', 'A', 'B', 'A', 'B'],\n",
    "                      'Value': [10, 20, 30, 40, 50, 60]})\n",
    "\n",
    "# Zadanie: Grupowanie na podstawie kolumny 'Category' i obliczanie sumy dla każdej grupy\n",
    "grupowanie_jedna_kolumna_cw = # Tu dodaj kod\n",
    "\n",
    "# Zadanie: Grupowanie na podstawie wielu kolumn i obliczanie sumy dla każdej grupy\n",
    "grupowanie_wiele_kolumn_cw = # Tu dodaj kod\n",
    "\n",
    "# Zadanie: Grupowanie i obliczanie różnych statystyk dla każdej grupy\n",
    "grupowanie_statystyki_cw = # Tu dodaj kod\n",
    "\n",
    "# Wyświetlenie wyników\n",
    "print(\"Wynik grupowania na podstawie jednej kolumny:\\n\", grupowanie_jedna_kolumna_cw)\n",
    "print(\"Wynik grupowania na podstawie wielu kolumn:\\n\", grupowanie_wiele_kolumn_cw)\n",
    "print(\"Wynik grupowania z różnymi operacjami dla każdej grupy:\\n\", grupowanie_statystyki_cw)"
   ]
  },
  {
   "cell_type": "markdown",
   "id": "f0f8368d",
   "metadata": {},
   "source": [
    "#### Rozwiązanie"
   ]
  },
  {
   "cell_type": "code",
   "execution_count": 12,
   "id": "6c1a285c",
   "metadata": {},
   "outputs": [
    {
     "name": "stdout",
     "output_type": "stream",
     "text": [
      "Wynik grupowania na podstawie jednej kolumny:\n",
      "           Value\n",
      "Category       \n",
      "A            90\n",
      "B           120 \n",
      "\n",
      "----------------------\n",
      "\n",
      "Wynik grupowania na podstawie wielu kolumn:\n",
      "   Category  Value  Count\n",
      "0        A     10      1\n",
      "1        A     30      1\n",
      "2        A     50      1\n",
      "3        B     20      1\n",
      "4        B     40      1\n",
      "5        B     60      1 \n",
      "\n",
      "----------------------\n",
      "\n",
      "Wynik grupowania z różnymi operacjami dla każdej grupy:\n",
      "          Value            \n",
      "           sum  mean count\n",
      "Category                  \n",
      "A           90  30.0     3\n",
      "B          120  40.0     3 \n",
      "\n",
      "----------------------\n",
      "\n"
     ]
    }
   ],
   "source": [
    "# Rozwiązanie Ćwiczenia: Grupowanie danych w Pandas\n",
    "df_cw = pd.DataFrame({'Category': ['A', 'B', 'A', 'B', 'A', 'B'],\n",
    "                      'Value': [10, 20, 30, 40, 50, 60]})\n",
    "\n",
    "# Zadanie: Grupowanie na podstawie kolumny 'Category' i obliczanie sumy dla każdej grupy\n",
    "grupowanie_jedna_kolumna_cw = df_cw.groupby('Category').sum()\n",
    "\n",
    "# Zadanie: Grupowanie na podstawie wielu kolumn i obliczanie sumy dla każdej grupy\n",
    "grupowanie_wiele_kolumn_cw = df_cw.groupby(['Category', 'Value']).size().reset_index(name='Count')\n",
    "\n",
    "# Zadanie: Grupowanie i obliczanie różnych statystyk dla każdej grupy\n",
    "grupowanie_statystyki_cw = df_cw.groupby('Category').agg({'Value': ['sum', 'mean', 'count']})\n",
    "\n",
    "# Wyświetlenie wyników\n",
    "print(\"Wynik grupowania na podstawie jednej kolumny:\\n\", grupowanie_jedna_kolumna_cw, '\\n\\n----------------------\\n')\n",
    "print(\"Wynik grupowania na podstawie wielu kolumn:\\n\", grupowanie_wiele_kolumn_cw, '\\n\\n----------------------\\n')\n",
    "print(\"Wynik grupowania z różnymi operacjami dla każdej grupy:\\n\", grupowanie_statystyki_cw, '\\n\\n----------------------\\n')"
   ]
  }
 ],
 "metadata": {
  "kernelspec": {
   "display_name": "Python 3 (ipykernel)",
   "language": "python",
   "name": "python3"
  },
  "language_info": {
   "codemirror_mode": {
    "name": "ipython",
    "version": 3
   },
   "file_extension": ".py",
   "mimetype": "text/x-python",
   "name": "python",
   "nbconvert_exporter": "python",
   "pygments_lexer": "ipython3",
   "version": "3.11.5"
  }
 },
 "nbformat": 4,
 "nbformat_minor": 5
}
