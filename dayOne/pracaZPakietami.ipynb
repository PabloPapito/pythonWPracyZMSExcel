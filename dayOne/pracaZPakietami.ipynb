{
 "cells": [
  {
   "attachments": {},
   "cell_type": "markdown",
   "id": "5cbc35b9-1cc9-4a22-a566-dc998eaad4c5",
   "metadata": {},
   "source": [
    "# Praca z pakietami openpyxl, xlsxwriter, xlrd i xlwt"
   ]
  },
  {
   "cell_type": "code",
   "execution_count": 31,
   "id": "9eb804b6-16e2-4d28-9091-86279542dccd",
   "metadata": {},
   "outputs": [
    {
     "name": "stdout",
     "output_type": "stream",
     "text": [
      "Requirement already satisfied: openpyxl in c:\\users\\pablopapito\\anaconda3\\lib\\site-packages (3.0.10)\n",
      "Requirement already satisfied: xlsxwriter in c:\\users\\pablopapito\\anaconda3\\lib\\site-packages (3.2.0)\n",
      "Requirement already satisfied: xlrd in c:\\users\\pablopapito\\anaconda3\\lib\\site-packages (2.0.1)\n",
      "Requirement already satisfied: xlwt in c:\\users\\pablopapito\\anaconda3\\lib\\site-packages (1.3.0)\n",
      "Requirement already satisfied: et_xmlfile in c:\\users\\pablopapito\\anaconda3\\lib\\site-packages (from openpyxl) (1.1.0)\n",
      "Note: you may need to restart the kernel to use updated packages.\n"
     ]
    }
   ],
   "source": [
    "pip install openpyxl xlsxwriter xlrd xlwt"
   ]
  },
  {
   "cell_type": "markdown",
   "id": "740e7a59-a95e-42fa-b222-2355fba0c893",
   "metadata": {},
   "source": [
    "#### Ćwiczenie 1"
   ]
  },
  {
   "cell_type": "code",
   "execution_count": 2,
   "id": "dae9905b-66d5-4403-bfa5-ecbb233ee6cd",
   "metadata": {},
   "outputs": [],
   "source": [
    "# openpyxl: Tworzenie nowego pliku Excel, odczyt danych\n",
    "\n",
    "from openpyxl import Workbook\n",
    "wb = Workbook()\n",
    "ws = wb.active\n",
    "ws['A1'] = \"Hello, Openpyxl!\"\n",
    "wb.save('openpyxl_example_reminder.xlsx')"
   ]
  },
  {
   "cell_type": "code",
   "execution_count": 5,
   "id": "380d5cdc-afe4-4a89-93e6-d7f184407576",
   "metadata": {},
   "outputs": [
    {
     "name": "stdout",
     "output_type": "stream",
     "text": [
      "Hello, Openpyxl!\n"
     ]
    }
   ],
   "source": [
    "# odczyt danych\n",
    "\n",
    "from openpyxl import load_workbook\n",
    "wb = load_workbook('openpyxl_example_reminder.xlsx')\n",
    "ws = wb.active\n",
    "print(ws['A1'].value)\n"
   ]
  },
  {
   "cell_type": "markdown",
   "id": "e5abb1db-9d00-449d-b4ae-c37bf1e84583",
   "metadata": {},
   "source": [
    "#### Ćwiczenie 2"
   ]
  },
  {
   "cell_type": "code",
   "execution_count": 9,
   "id": "b972801c-68e2-415f-b354-f11fea52e6d2",
   "metadata": {},
   "outputs": [],
   "source": [
    "# xlsxwriter: Tworzenie nowego pliku Excel z formatowaniem\n",
    "\n",
    "import xlsxwriter\n",
    "workbook = xlsxwriter.Workbook('xlsxwriter_example_reminder.xlsx')\n",
    "worksheet = workbook.add_worksheet()\n",
    "worksheet.write('A1', 'Hello, XlsxWriter!')\n",
    "format = workbook.add_format({'bold': True, 'font_color': 'red'})\n",
    "worksheet.write('A2', 'Formatted text', format)\n",
    "workbook.close()\n"
   ]
  },
  {
   "cell_type": "markdown",
   "id": "48286195-4d36-44f6-ab16-cf90196714aa",
   "metadata": {},
   "source": [
    "#### Ćwiczenie 3"
   ]
  },
  {
   "cell_type": "code",
   "execution_count": 13,
   "id": "360b41a6-0685-4d1b-905e-c993bd9f3843",
   "metadata": {},
   "outputs": [
    {
     "name": "stdout",
     "output_type": "stream",
     "text": [
      "work_year\n"
     ]
    }
   ],
   "source": [
    "# xlrd: Odczyt danych z pliku Excel\n",
    "\n",
    "import xlrd\n",
    "workbook = xlrd.open_workbook(r'C:\\Users\\PabloPapito\\Downloads\\jobsInData\\jobsInDataXLS.xls')\n",
    "sheet = workbook.sheet_by_index(0)\n",
    "print(sheet.cell_value(0, 0))\n"
   ]
  },
  {
   "cell_type": "markdown",
   "id": "465ff0b8-5340-47f3-ae1c-a07b821024bc",
   "metadata": {},
   "source": [
    "#### Ćwiczenie 4"
   ]
  },
  {
   "cell_type": "code",
   "execution_count": 17,
   "id": "479878ab-0cda-4c80-922c-9c97aba29195",
   "metadata": {},
   "outputs": [],
   "source": [
    "# xlwt: Tworzenie nowego pliku Excel\n",
    "\n",
    "import xlwt\n",
    "workbook = xlwt.Workbook()\n",
    "sheet = workbook.add_sheet('Sheet 1')\n",
    "sheet.write(0, 0, 'Hello, Xlwt!')\n",
    "workbook.save('xlwt_example_reminder.xls')\n"
   ]
  },
  {
   "cell_type": "markdown",
   "id": "3001c3a8-ae9f-4a0e-a1fe-1e356a723fba",
   "metadata": {},
   "source": [
    "#### Ćwiczenie 5"
   ]
  },
  {
   "cell_type": "code",
   "execution_count": 20,
   "id": "59c1fbc7-2448-4680-8655-c752b8bea7b6",
   "metadata": {},
   "outputs": [
    {
     "name": "stdout",
     "output_type": "stream",
     "text": [
      "Hello, Openpyxl!\n",
      "This is a test.\n"
     ]
    }
   ],
   "source": [
    "# Tworzenie nowego pliku Excel za pomocą openpyxl\n",
    "\n",
    "from openpyxl import Workbook\n",
    "\n",
    "wb = Workbook()\n",
    "ws = wb.active\n",
    "ws['A1'] = \"Hello, Openpyxl!\"\n",
    "ws['A2'] = \"This is a test.\"\n",
    "wb.save('openpyxl_example_3rd.xlsx')\n",
    "\n",
    "from openpyxl import load_workbook\n",
    "wb = load_workbook('openpyxl_example_3rd.xlsx')\n",
    "ws = wb.active\n",
    "print(ws['A1'].value)\n",
    "print(ws['A2'].value)\n"
   ]
  },
  {
   "cell_type": "markdown",
   "id": "96798faa-b6ad-417e-84d7-ca6069a42808",
   "metadata": {},
   "source": [
    "#### Ćwiczenie 6"
   ]
  },
  {
   "cell_type": "code",
   "execution_count": 55,
   "id": "b29b174b-b83a-4954-a151-eca9c40508f3",
   "metadata": {},
   "outputs": [],
   "source": [
    "import xlsxwriter\n",
    "\n",
    "# Tworzenie nowego pliku Excel\n",
    "workbook = xlsxwriter.Workbook('xlsxwriter_example_chart.xlsx')\n",
    "worksheet = workbook.add_worksheet()\n",
    "\n",
    "# Dodawanie danych do arkusza\n",
    "data = [\n",
    "    ['Category', 'Value1', 'Value2', 'Value3'],\n",
    "    ['A', 10, 20, 30],\n",
    "    ['B', 40, 30, 20],\n",
    "    ['C', 50, 60, 70],\n",
    "    ['D', 20, 40, 60]\n",
    "]\n",
    "\n",
    "# Zapis danych do komórek\n",
    "row = 0\n",
    "col = 0\n",
    "for category, value1, value2, value3 in data:\n",
    "    worksheet.write(row, col, category)\n",
    "    worksheet.write(row, col + 1, value1)\n",
    "    worksheet.write(row, col + 2, value2)\n",
    "    worksheet.write(row, col + 3, value3)\n",
    "    row += 1\n",
    "\n",
    "# Tworzenie wykresu kolumnowego\n",
    "chart = workbook.add_chart({'type': 'column'})\n",
    "\n",
    "# Konfiguracja serii danych\n",
    "for i in range(1, 4):\n",
    "    chart.add_series({\n",
    "        'name':       f'=Sheet1!${chr(65 + i)}$1',\n",
    "        'categories': '=Sheet1!$A$2:$A$5',\n",
    "        'values':     f'=Sheet1!${chr(65 + i)}$2:${chr(65 + i)}$5',\n",
    "        'data_labels': {'value': True},\n",
    "    })\n",
    "\n",
    "# Dodawanie tytułów i osi\n",
    "chart.set_title({'name': 'Sample Column Chart'})\n",
    "chart.set_x_axis({'name': 'Category'})\n",
    "chart.set_y_axis({'name': 'Values'})\n",
    "\n",
    "# Formatowanie wykresu\n",
    "chart.set_style(11)\n",
    "\n",
    "# Wstawianie wykresu do arkusza\n",
    "worksheet.insert_chart('E2', chart)\n",
    "\n",
    "# Zamknięcie pliku\n",
    "workbook.close()\n"
   ]
  },
  {
   "cell_type": "markdown",
   "id": "d3b8dfba-a73e-4f7b-9679-8dc1f6017126",
   "metadata": {},
   "source": [
    "#### Ćwiczenie 7"
   ]
  },
  {
   "cell_type": "code",
   "execution_count": 57,
   "id": "7674c204-4070-42fe-b6c2-070c1606d374",
   "metadata": {},
   "outputs": [
    {
     "name": "stdout",
     "output_type": "stream",
     "text": [
      "('Category', 'Value1', 'Value2', 'Value3')\n",
      "('A', 10, 20, 30)\n",
      "('B', 40, 30, 20)\n",
      "('C', 50, 60, 70)\n",
      "('D', 20, 40, 60)\n",
      "Chart type: col\n",
      "Series: <openpyxl.chart.series.Series object>\n",
      "Parameters:\n",
      "\n",
      "Series: <openpyxl.chart.series.Series object>\n",
      "Parameters:\n",
      "\n",
      "Series: <openpyxl.chart.series.Series object>\n",
      "Parameters:\n",
      "\n"
     ]
    }
   ],
   "source": [
    "# Odczyt danych\n",
    "\n",
    "from openpyxl import load_workbook\n",
    "\n",
    "# Wczytywanie pliku Excel\n",
    "workbook = load_workbook('xlsxwriter_example_chart.xlsx')\n",
    "worksheet = workbook.active\n",
    "\n",
    "# Wyświetlanie zawartości wszystkich komórek\n",
    "for row in worksheet.iter_rows(values_only=True):\n",
    "    print(row)\n",
    "\n",
    "# Wyświetlanie informacji o wykresach\n",
    "for chart in worksheet._charts:\n",
    "    print(f\"Chart type: {chart.type}\")\n",
    "    for series in chart.series:\n",
    "        print(f\"Series: {series}\")\n"
   ]
  },
  {
   "cell_type": "code",
   "execution_count": 59,
   "id": "cb02afb3-ddff-47a1-bb63-ceb103cf6d49",
   "metadata": {},
   "outputs": [
    {
     "name": "stdout",
     "output_type": "stream",
     "text": [
      "dict_keys(['Sheet1'])\n",
      "  Category  Value1  Value2  Value3\n",
      "0        A      10      20      30\n",
      "1        B      40      30      20\n",
      "2        C      50      60      70\n",
      "3        D      20      40      60\n"
     ]
    }
   ],
   "source": [
    "# odczyt danych z pandas\n",
    "\n",
    "import pandas as pd\n",
    "\n",
    "# Wczytywanie pliku Excel za pomocą pandas\n",
    "df = pd.read_excel('xlsxwriter_example_chart.xlsx', sheet_name=None)\n",
    "\n",
    "# Wyświetlanie nazw arkuszy\n",
    "print(df.keys())\n",
    "\n",
    "# Wyświetlanie zawartości pierwszego arkusza\n",
    "print(df['Sheet1'])\n"
   ]
  },
  {
   "cell_type": "code",
   "execution_count": 64,
   "id": "275cce46-cb4b-4235-9a15-6c9a66badce7",
   "metadata": {},
   "outputs": [
    {
     "data": {
      "image/png": "[encoded data removed]",
      "text/plain": [
       "<Figure size 640x480 with 1 Axes>"
      ]
     },
     "metadata": {},
     "output_type": "display_data"
    }
   ],
   "source": [
    "# odczyt danych i stworzenie wykresu w pythonie\n",
    "\n",
    "import pandas as pd\n",
    "import matplotlib.pyplot as plt\n",
    "import numpy as np\n",
    "\n",
    "# Wczytywanie pliku Excel za pomocą pandas\n",
    "df = pd.read_excel('xlsxwriter_example_chart.xlsx', sheet_name='Sheet1')\n",
    "\n",
    "# Tworzenie wykresu w Pythonie\n",
    "fig, ax = plt.subplots()\n",
    "\n",
    "# Dane\n",
    "categories = df['Category']\n",
    "values1 = df['Value1']\n",
    "values2 = df['Value2']\n",
    "values3 = df['Value3']\n",
    "\n",
    "# Szerokość słupków\n",
    "bar_width = 0.2\n",
    "index = np.arange(len(categories))\n",
    "\n",
    "# Tworzenie słupków\n",
    "bar1 = plt.bar(index, values1, bar_width, label='Value1')\n",
    "bar2 = plt.bar(index + bar_width, values2, bar_width, label='Value2')\n",
    "bar3 = plt.bar(index + 2 * bar_width, values3, bar_width, label='Value3')\n",
    "\n",
    "# Dodanie etykiet do osi\n",
    "plt.xlabel('Category')\n",
    "plt.ylabel('Values')\n",
    "plt.title('Sample Column Chart')\n",
    "plt.xticks(index + bar_width, categories)\n",
    "plt.legend()\n",
    "\n",
    "# Dodanie wartości na słupkach\n",
    "def add_labels(bars):\n",
    "    for bar in bars:\n",
    "        height = bar.get_height()\n",
    "        plt.text(bar.get_x() + bar.get_width() / 2.0, height, f'{height}', ha='center', va='bottom')\n",
    "\n",
    "add_labels(bar1)\n",
    "add_labels(bar2)\n",
    "add_labels(bar3)\n",
    "\n",
    "# Wyświetlenie wykresu\n",
    "plt.show()\n"
   ]
  },
  {
   "cell_type": "code",
   "execution_count": null,
   "id": "a45f110a-424f-4d44-99b1-e3ef30938d1f",
   "metadata": {},
   "outputs": [],
   "source": []
  }
 ],
 "metadata": {
  "kernelspec": {
   "display_name": "Python 3 (ipykernel)",
   "language": "python",
   "name": "python3"
  },
  "language_info": {
   "codemirror_mode": {
    "name": "ipython",
    "version": 3
   },
   "file_extension": ".py",
   "mimetype": "text/x-python",
   "name": "python",
   "nbconvert_exporter": "python",
   "pygments_lexer": "ipython3",
   "version": "3.11.5"
  }
 },
 "nbformat": 4,
 "nbformat_minor": 5
}
