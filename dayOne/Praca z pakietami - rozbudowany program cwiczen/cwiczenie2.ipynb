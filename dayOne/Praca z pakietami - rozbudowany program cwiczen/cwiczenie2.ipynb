{
 "cells": [
  {
   "cell_type": "markdown",
   "id": "01d55231-f67e-4bc4-9dbc-2730b517cc30",
   "metadata": {},
   "source": [
    "# Ćwiczenie 2: Tworzenie zaawansowanego pliku Excel za pomocą xlsxwriter"
   ]
  },
  {
   "cell_type": "markdown",
   "id": "98d44edc-eb8a-4e07-95ad-48913939ca00",
   "metadata": {},
   "source": [
    "#### Tworzenie nowego pliku z wieloma arkuszami"
   ]
  },
  {
   "cell_type": "code",
   "execution_count": 41,
   "id": "a7c4d0c1-bd50-4bfb-8333-1717c84ae621",
   "metadata": {},
   "outputs": [],
   "source": [
    "# Utwórz plik Excel z wieloma arkuszami, dodaj dane do każdego arkusza i zastosuj formatowanie.\n",
    "\n",
    "import xlsxwriter\n",
    "\n",
    "# Tworzenie nowego pliku Excel\n",
    "workbook = xlsxwriter.Workbook('xlsxwriter_cw2.xlsx')\n",
    "worksheet1 = workbook.add_worksheet('Sheet1')\n",
    "worksheet2 = workbook.add_worksheet('Sheet2')\n",
    "\n",
    "# Dodawanie nagłówków do Sheet1\n",
    "worksheet1.write('A1', 'ID')\n",
    "worksheet1.write('B1', 'Name')\n",
    "worksheet1.write('C1', 'Age')\n",
    "worksheet1.write('D1', 'Department')\n",
    "worksheet1.write('E1', 'Salary')\n",
    "\n",
    "# Dodawanie większej ilości danych do Sheet1\n",
    "data_sheet1 = [\n",
    "    [1, 'Alice', 30, 'HR', 50000],\n",
    "    [2, 'Bob', 24, 'Engineering', 55000],\n",
    "    [3, 'Charlie', 29, 'Marketing', 60000],\n",
    "    [4, 'David', 35, 'Finance', 70000],\n",
    "    [5, 'Eva', 28, 'IT', 65000],\n",
    "    [6, 'Frank', 33, 'HR', 52000],\n",
    "    [7, 'Grace', 26, 'Engineering', 58000],\n",
    "    [8, 'Hank', 31, 'Marketing', 61000],\n",
    "    [9, 'Ivy', 38, 'Finance', 72000],\n",
    "    [10, 'Jack', 27, 'IT', 66000],\n",
    "    [11, 'Kim', 34, 'HR', 53000],\n",
    "    [12, 'Leo', 25, 'Engineering', 59000],\n",
    "    [13, 'Mia', 32, 'Marketing', 62000],\n",
    "    [14, 'Nina', 39, 'Finance', 73000],\n",
    "    [15, 'Oscar', 29, 'IT', 67000],\n",
    "    [16, 'Paul', 36, 'HR', 54000],\n",
    "    [17, 'Quinn', 28, 'Engineering', 60000],\n",
    "    [18, 'Rose', 37, 'Marketing', 63000],\n",
    "    [19, 'Sam', 40, 'Finance', 74000],\n",
    "    [20, 'Tina', 26, 'IT', 68000]\n",
    "]\n",
    "\n",
    "# Pętla for do zapisu danych do Sheet1\n",
    "row = 1\n",
    "for entry in data_sheet1:\n",
    "    worksheet1.write_row(row, 0, entry)\n",
    "    row += 1\n",
    "\n",
    "# Dodawanie nagłówków do Sheet2\n",
    "bold = workbook.add_format({'bold': True})\n",
    "worksheet2.write('A1', 'Product', bold)\n",
    "worksheet2.write('B1', 'Price', bold)\n",
    "worksheet2.write('C1', 'Quantity', bold)\n",
    "worksheet2.write('D1', 'Category', bold)\n",
    "\n",
    "# Dodawanie większej ilości danych do Sheet2\n",
    "data_sheet2 = [\n",
    "    ['Apple', 0.5, 150, 'Fruit'],\n",
    "    ['Banana', 0.3, 200, 'Fruit'],\n",
    "    ['Carrot', 0.4, 100, 'Vegetable'],\n",
    "    ['Dairy Milk', 1.5, 50, 'Dairy'],\n",
    "    ['Eggs', 2.0, 75, 'Dairy'],\n",
    "    ['Fish', 5.0, 40, 'Meat'],\n",
    "    ['Grapes', 2.5, 60, 'Fruit'],\n",
    "    ['Honey', 3.0, 30, 'Dairy'],\n",
    "    ['Ice Cream', 4.0, 80, 'Dairy'],\n",
    "    ['Juice', 2.2, 90, 'Beverage'],\n",
    "    ['Kiwi', 1.2, 100, 'Fruit'],\n",
    "    ['Lettuce', 0.8, 120, 'Vegetable'],\n",
    "    ['Mango', 1.5, 85, 'Fruit'],\n",
    "    ['Nuts', 3.5, 45, 'Snack'],\n",
    "    ['Orange', 0.6, 160, 'Fruit'],\n",
    "    ['Papaya', 1.8, 70, 'Fruit'],\n",
    "    ['Quinoa', 4.0, 40, 'Grain'],\n",
    "    ['Rice', 1.0, 200, 'Grain'],\n",
    "    ['Spinach', 0.9, 110, 'Vegetable'],\n",
    "    ['Tomato', 0.7, 140, 'Vegetable']\n",
    "]\n",
    "\n",
    "# Pętla for do zapisu danych do Sheet2\n",
    "row = 1\n",
    "for entry in data_sheet2:\n",
    "    worksheet2.write_row(row, 0, entry)\n",
    "    row += 1\n",
    "\n",
    "# Zamknięcie pliku\n",
    "workbook.close()\n"
   ]
  },
  {
   "cell_type": "code",
   "execution_count": 43,
   "id": "4e4502e4-17f5-4c2c-8e3f-823b0a6edd97",
   "metadata": {},
   "outputs": [
    {
     "name": "stdout",
     "output_type": "stream",
     "text": [
      "dict_keys(['Sheet1', 'Sheet2'])\n"
     ]
    }
   ],
   "source": [
    "# Podgląd pliku.\n",
    "\n",
    "import pandas as pd\n",
    "\n",
    "wbCheck = pd.read_excel('xlsxwriter_cw2.xlsx', sheet_name=None)\n",
    "\n",
    "print(wbCheck.keys())"
   ]
  },
  {
   "cell_type": "code",
   "execution_count": 45,
   "id": "2b6f66c1-d292-4a8e-a4b0-9d2a3aea574a",
   "metadata": {},
   "outputs": [
    {
     "name": "stdout",
     "output_type": "stream",
     "text": [
      "    ID     Name  Age   Department  Salary\n",
      "0    1    Alice   30           HR   50000\n",
      "1    2      Bob   24  Engineering   55000\n",
      "2    3  Charlie   29    Marketing   60000\n",
      "3    4    David   35      Finance   70000\n",
      "4    5      Eva   28           IT   65000\n",
      "5    6    Frank   33           HR   52000\n",
      "6    7    Grace   26  Engineering   58000\n",
      "7    8     Hank   31    Marketing   61000\n",
      "8    9      Ivy   38      Finance   72000\n",
      "9   10     Jack   27           IT   66000\n",
      "10  11      Kim   34           HR   53000\n",
      "11  12      Leo   25  Engineering   59000\n",
      "12  13      Mia   32    Marketing   62000\n",
      "13  14     Nina   39      Finance   73000\n",
      "14  15    Oscar   29           IT   67000\n",
      "15  16     Paul   36           HR   54000\n",
      "16  17    Quinn   28  Engineering   60000\n",
      "17  18     Rose   37    Marketing   63000\n",
      "18  19      Sam   40      Finance   74000\n",
      "19  20     Tina   26           IT   68000\n"
     ]
    }
   ],
   "source": [
    "print(wbCheck['Sheet1'])"
   ]
  },
  {
   "cell_type": "code",
   "execution_count": 47,
   "id": "8b5833e9-fdb3-4ee7-a30d-5762398c4c2a",
   "metadata": {},
   "outputs": [
    {
     "name": "stdout",
     "output_type": "stream",
     "text": [
      "       Product  Price  Quantity   Category\n",
      "0        Apple    0.5       150      Fruit\n",
      "1       Banana    0.3       200      Fruit\n",
      "2       Carrot    0.4       100  Vegetable\n",
      "3   Dairy Milk    1.5        50      Dairy\n",
      "4         Eggs    2.0        75      Dairy\n",
      "5         Fish    5.0        40       Meat\n",
      "6       Grapes    2.5        60      Fruit\n",
      "7        Honey    3.0        30      Dairy\n",
      "8    Ice Cream    4.0        80      Dairy\n",
      "9        Juice    2.2        90   Beverage\n",
      "10        Kiwi    1.2       100      Fruit\n",
      "11     Lettuce    0.8       120  Vegetable\n",
      "12       Mango    1.5        85      Fruit\n",
      "13        Nuts    3.5        45      Snack\n",
      "14      Orange    0.6       160      Fruit\n",
      "15      Papaya    1.8        70      Fruit\n",
      "16      Quinoa    4.0        40      Grain\n",
      "17        Rice    1.0       200      Grain\n",
      "18     Spinach    0.9       110  Vegetable\n",
      "19      Tomato    0.7       140  Vegetable\n"
     ]
    }
   ],
   "source": [
    "print(wbCheck['Sheet2'])"
   ]
  },
  {
   "cell_type": "markdown",
   "id": "10473d25-dabb-4e01-b69f-742a2fc45535",
   "metadata": {},
   "source": [
    "#### Dodaj wykresy do arkusza, aby wizualizować dane."
   ]
  },
  {
   "cell_type": "code",
   "execution_count": 54,
   "id": "140a1196-8373-408c-87f0-d83a45d0a997",
   "metadata": {},
   "outputs": [],
   "source": [
    "from openpyxl import load_workbook\n",
    "from openpyxl.drawing.image import Image\n",
    "from openpyxl.chart import BarChart, Reference\n",
    "\n",
    "# Ponowne otwarcie pliku za pomocą openpyxl\n",
    "wb = load_workbook('xlsxwriter_cw2.xlsx')\n",
    "ws1 = wb['Sheet1']\n",
    "ws2 = wb['Sheet2']\n",
    "\n",
    "# Dodawanie wykresu do Sheet1\n",
    "chart1 = BarChart()\n",
    "data1 = Reference(ws1, min_col=5, min_row=1, max_row=21)  # Salary data\n",
    "categories1 = Reference(ws1, min_col=2, min_row=2, max_row=21)  # Employee names\n",
    "chart1.add_data(data1, titles_from_data=True)\n",
    "chart1.set_categories(categories1)\n",
    "chart1.title = \"Employee Salaries\"\n",
    "chart1.x_axis.title = \"Employee\"\n",
    "chart1.y_axis.title = \"Salary\"\n",
    "ws1.add_chart(chart1, \"G2\")\n",
    "\n",
    "# Dodawanie wykresu do Sheet2\n",
    "chart2 = BarChart()\n",
    "data2 = Reference(ws2, min_col=2, min_row=1, max_row=21)  # Price data\n",
    "categories2 = Reference(ws2, min_col=1, min_row=2, max_row=21)  # Product names\n",
    "chart2.add_data(data2, titles_from_data=True)\n",
    "chart2.set_categories(categories2)\n",
    "chart2.title = \"Product Prices\"\n",
    "chart2.x_axis.title = \"Product\"\n",
    "chart2.y_axis.title = \"Price\"\n",
    "ws2.add_chart(chart2, \"F2\")\n",
    "\n",
    "# Zapisanie pliku z wykresami\n",
    "wb.save('xlsxwriter_cw2_with_charts.xlsx')\n"
   ]
  },
  {
   "cell_type": "code",
   "execution_count": null,
   "id": "12b6396a-3161-4e74-8021-f9688bd30cf3",
   "metadata": {},
   "outputs": [],
   "source": []
  }
 ],
 "metadata": {
  "kernelspec": {
   "display_name": "Python 3 (ipykernel)",
   "language": "python",
   "name": "python3"
  },
  "language_info": {
   "codemirror_mode": {
    "name": "ipython",
    "version": 3
   },
   "file_extension": ".py",
   "mimetype": "text/x-python",
   "name": "python",
   "nbconvert_exporter": "python",
   "pygments_lexer": "ipython3",
   "version": "3.11.5"
  }
 },
 "nbformat": 4,
 "nbformat_minor": 5
}
