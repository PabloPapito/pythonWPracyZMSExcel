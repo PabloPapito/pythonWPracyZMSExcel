{
 "cells": [
  {
   "cell_type": "markdown",
   "id": "549bd4b9-5a71-46b3-ba6c-ae68de135fb5",
   "metadata": {},
   "source": [
    "# Ćwiczenie 3: Odczyt danych z pliku Excel i podstawowa analiza danych"
   ]
  },
  {
   "cell_type": "markdown",
   "id": "d084f04b-b375-4a03-98e1-fff58ed343e6",
   "metadata": {},
   "source": [
    "#### Przygotowanie pliku"
   ]
  },
  {
   "cell_type": "code",
   "execution_count": 3,
   "id": "535f990c-d03a-4245-aed6-23d4f85c1a91",
   "metadata": {},
   "outputs": [],
   "source": [
    "# Przygotowanie pliku.\n",
    "\n",
    "import xlsxwriter\n",
    "\n",
    "# Tworzenie nowego pliku Excel\n",
    "workbook = xlsxwriter.Workbook('large_data_example.xlsx')\n",
    "worksheet = workbook.add_worksheet('DataSheet')\n",
    "\n",
    "# Dodawanie nagłówków\n",
    "worksheet.write('A1', 'ID')\n",
    "worksheet.write('B1', 'Name')\n",
    "worksheet.write('C1', 'Age')\n",
    "worksheet.write('D1', 'Department')\n",
    "worksheet.write('E1', 'Salary')\n",
    "\n",
    "# Generowanie dużej ilości danych\n",
    "import random\n",
    "import string\n",
    "\n",
    "departments = ['HR', 'Engineering', 'Marketing', 'Finance', 'IT']\n",
    "names = ['Alice', 'Bob', 'Charlie', 'David', 'Eva', 'Frank', 'Grace', 'Hank', 'Ivy', 'Jack',\n",
    "         'Kim', 'Leo', 'Mia', 'Nina', 'Oscar', 'Paul', 'Quinn', 'Rose', 'Sam', 'Tina']\n",
    "\n",
    "# Funkcja generująca losowe dane\n",
    "def generate_random_data(num_records):\n",
    "    data = []\n",
    "    for i in range(1, num_records + 1):\n",
    "        name = random.choice(names)\n",
    "        age = random.randint(20, 60)\n",
    "        department = random.choice(departments)\n",
    "        salary = random.randint(30000, 120000)\n",
    "        data.append([i, name, age, department, salary])\n",
    "    return data\n",
    "\n",
    "# Generowanie 1000 wierszy danych\n",
    "data = generate_random_data(1000)\n",
    "\n",
    "# Dodawanie danych do arkusza\n",
    "row = 1\n",
    "for entry in data:\n",
    "    worksheet.write_row(row, 0, entry)\n",
    "    row += 1\n",
    "\n",
    "# Zamknięcie pliku\n",
    "workbook.close()\n"
   ]
  },
  {
   "cell_type": "markdown",
   "id": "a269b7e3-dbfa-4aa7-993e-01cd952646ef",
   "metadata": {},
   "source": [
    "#### Odczyt danych z pliku Excel w formacie xlsx"
   ]
  },
  {
   "cell_type": "code",
   "execution_count": 15,
   "id": "4550d5d7-f49b-48a3-a23c-c75897b2d703",
   "metadata": {},
   "outputs": [
    {
     "name": "stdout",
     "output_type": "stream",
     "text": [
      "       ID   Name  Age   Department  Salary\n",
      "0       1  Oscar   50           IT   31256\n",
      "1       2    Sam   22  Engineering  107537\n",
      "2       3  Alice   55    Marketing   31158\n",
      "3       4   Paul   28      Finance   98345\n",
      "4       5  Frank   52           HR   56963\n",
      "..    ...    ...  ...          ...     ...\n",
      "995   996   Paul   36    Marketing   58767\n",
      "996   997  Alice   56  Engineering   34442\n",
      "997   998    Ivy   20    Marketing   38686\n",
      "998   999    Kim   28           HR   40667\n",
      "999  1000  Frank   54           IT   99111\n",
      "\n",
      "[1000 rows x 5 columns]\n"
     ]
    }
   ],
   "source": [
    "import pandas as pd\n",
    "\n",
    "# Otwieranie pliku Excel za pomocą pandas\n",
    "df = pd.read_excel('large_data_example.xlsx', sheet_name='DataSheet')\n",
    "\n",
    "# Wyświetlanie zawartości arkusza\n",
    "print(df)"
   ]
  },
  {
   "cell_type": "code",
   "execution_count": 52,
   "id": "7eded209-5498-4710-bf21-e17fd711295c",
   "metadata": {},
   "outputs": [
    {
     "name": "stdout",
     "output_type": "stream",
     "text": [
      "   ID   Name  Age   Department  Salary       Tax\n",
      "0   1  Oscar   50           IT   31256   7188.88\n",
      "1   2    Sam   22  Engineering  107537  24733.51\n",
      "2   3  Alice   55    Marketing   31158   7166.34\n",
      "3   4   Paul   28      Finance   98345  22619.35\n",
      "4   5  Frank   52           HR   56963  13101.49\n"
     ]
    }
   ],
   "source": [
    "# Wyświetlanie pierwszych kilku wierszy danych\n",
    "print(df.head())"
   ]
  },
  {
   "cell_type": "code",
   "execution_count": 25,
   "id": "cdab3f9c-1640-4380-8d5b-ee4c3bf2e80c",
   "metadata": {},
   "outputs": [
    {
     "name": "stdout",
     "output_type": "stream",
     "text": [
      "                ID          Age         Salary\n",
      "count  1000.000000  1000.000000    1000.000000\n",
      "mean    500.500000    39.861000   74269.605000\n",
      "std     288.819436    12.038962   25367.157229\n",
      "min       1.000000    20.000000   30012.000000\n",
      "25%     250.750000    29.000000   52746.000000\n",
      "50%     500.500000    40.000000   73050.000000\n",
      "75%     750.250000    50.000000   95403.750000\n",
      "max    1000.000000    60.000000  119787.000000\n"
     ]
    }
   ],
   "source": [
    "# Podstawowe statystyki opisowe.\n",
    "\n",
    "print(df.describe())"
   ]
  },
  {
   "cell_type": "code",
   "execution_count": 27,
   "id": "8dcf5412-c62d-4c1f-854d-abcdddb588f2",
   "metadata": {},
   "outputs": [
    {
     "name": "stdout",
     "output_type": "stream",
     "text": [
      "      ID   Name  Age   Department  Salary\n",
      "1      2    Sam   22  Engineering  107537\n",
      "9     10   Nina   35  Engineering   93463\n",
      "12    13   Nina   42  Engineering   67414\n",
      "13    14    Leo   55  Engineering   85534\n",
      "15    16    Ivy   48  Engineering   93330\n",
      "..   ...    ...  ...          ...     ...\n",
      "961  962    Ivy   51  Engineering   66799\n",
      "964  965   Paul   60  Engineering   91241\n",
      "969  970  David   58  Engineering   63072\n",
      "973  974   Hank   39  Engineering   62639\n",
      "978  979  Oscar   21  Engineering   86485\n",
      "\n",
      "[131 rows x 5 columns]\n"
     ]
    }
   ],
   "source": [
    "# Filtrowanie pracowników w dziale 'Engineering' z wynagrodzeniem powyżej 60000.\n",
    "\n",
    "filtered_df = df[(df['Department'] == 'Engineering') & (df['Salary'] > 60000)]\n",
    "print(filtered_df)\n"
   ]
  },
  {
   "cell_type": "code",
   "execution_count": 54,
   "id": "5a30bb51-ed08-40cd-a0f8-11deaa7a18d9",
   "metadata": {},
   "outputs": [
    {
     "name": "stdout",
     "output_type": "stream",
     "text": [
      "    Department    Salary\n",
      "0  Engineering  73448.42\n",
      "1      Finance  74557.06\n",
      "2           HR  73261.24\n",
      "3           IT  74413.85\n",
      "4    Marketing  75532.53\n"
     ]
    }
   ],
   "source": [
    "# Grupowanie danych według działu i obliczanie średniego wynagrodzenia.\n",
    "\n",
    "grouped_df = df.groupby('Department')['Salary'].mean().reset_index()\n",
    "print(round(grouped_df, 2))\n"
   ]
  },
  {
   "cell_type": "code",
   "execution_count": 56,
   "id": "528767d8-06d0-48ed-a9b8-9953d8a124c2",
   "metadata": {},
   "outputs": [
    {
     "name": "stdout",
     "output_type": "stream",
     "text": [
      "   ID   Name  Age   Department  Salary       Tax\n",
      "0   1  Oscar   50           IT   31256   7188.88\n",
      "1   2    Sam   22  Engineering  107537  24733.51\n",
      "2   3  Alice   55    Marketing   31158   7166.34\n",
      "3   4   Paul   28      Finance   98345  22619.35\n",
      "4   5  Frank   52           HR   56963  13101.49\n"
     ]
    }
   ],
   "source": [
    "# Tworzenie nowej kolumny 'Tax' jako 23% wynagrodzenia.\n",
    "\n",
    "df['Tax'] = df['Salary'] * 0.23\n",
    "print(df.head())\n"
   ]
  },
  {
   "cell_type": "code",
   "execution_count": 37,
   "id": "f88775e1-9cbf-4907-b1bd-66d0ac1d4b27",
   "metadata": {},
   "outputs": [],
   "source": [
    "# Zapisywanie przefiltrowanych danych do nowego pliku Excel.\n",
    "\n",
    "filtered_df.to_excel('filtered_data.xlsx', index=False)\n",
    "\n",
    "# Zapisywanie danych z nową kolumną 'Tax' do nowego pliku Excel.\n",
    "\n",
    "df.to_excel('data_with_tax.xlsx', index=False)\n"
   ]
  },
  {
   "cell_type": "markdown",
   "id": "80f19887-86c4-4272-af00-49f657e4e40e",
   "metadata": {},
   "source": [
    "#### Out of Topic"
   ]
  },
  {
   "cell_type": "code",
   "execution_count": 46,
   "id": "33f3fd9a-114d-401b-bf03-eea2f1a0d235",
   "metadata": {},
   "outputs": [
    {
     "name": "stdout",
     "output_type": "stream",
     "text": [
      "Tutaj Department jest indeksem, a Salary wartościami w Series.\n",
      "\n",
      "Department\n",
      "Engineering    73448.422886\n",
      "Finance        74557.056872\n",
      "HR             73261.243094\n",
      "IT             74413.852217\n",
      "Marketing      75532.529412\n",
      "Name: Salary, dtype: float64\n"
     ]
    }
   ],
   "source": [
    "# Co robi reset_index\n",
    "\n",
    "# Ten kod grupuje dane według kolumny Department i oblicza średnie wynagrodzenie (Salary) w każdej grupie.\n",
    "# Wynik jest obiektem typu Series, gdzie indeks stanowią wartości z kolumny Department.\n",
    "\n",
    "grouped_df = df.groupby('Department')['Salary'].mean()\n",
    "print(f'Tutaj Department jest indeksem, a Salary wartościami w Series.\\n\\n{grouped_df}')"
   ]
  },
  {
   "cell_type": "code",
   "execution_count": 48,
   "id": "3a18f8bd-a321-4d1c-8678-89312cad69ae",
   "metadata": {},
   "outputs": [
    {
     "name": "stdout",
     "output_type": "stream",
     "text": [
      "Kolumna Department, która była indeksem, zostaje przywrócona jako zwykła kolumna.\n",
      "\n",
      "    Department        Salary\n",
      "0  Engineering  73448.422886\n",
      "1      Finance  74557.056872\n",
      "2           HR  73261.243094\n",
      "3           IT  74413.852217\n",
      "4    Marketing  75532.529412\n"
     ]
    }
   ],
   "source": [
    "# reset_index() przekształca wynik z obiektu Series do obiektu DataFrame.\n",
    "\n",
    "grouped_df = df.groupby('Department')['Salary'].mean().reset_index()\n",
    "print(f'Kolumna Department, która była indeksem, zostaje przywrócona jako zwykła kolumna.\\n\\n{grouped_df}')"
   ]
  },
  {
   "cell_type": "markdown",
   "id": "aceaf2fc-85fa-46bb-9f1a-a882c33d265e",
   "metadata": {},
   "source": [
    "#### Korzyści z resetowania indeksu:"
   ]
  },
  {
   "cell_type": "raw",
   "id": "3781b16a-f96a-4de7-9b85-1208c388670a",
   "metadata": {},
   "source": [
    "Łatwość manipulacji: Wynik jest obiektem DataFrame z numerowanym indeksem, co ułatwia dalszą manipulację i analizy.\n",
    "\n",
    "Spójność: Przekształca wynik do formatu spójnego z typowym DataFrame, co jest bardziej intuicyjne i łatwe do pracy.\n",
    "\n",
    "Czytelność: Przywrócenie kolumny Department jako kolumny, a nie indeksu, może poprawić czytelność, szczególnie gdy chcemy wyświetlić dane lub je eksportować."
   ]
  },
  {
   "cell_type": "markdown",
   "id": "cedd0565-ead2-41a8-9f05-3ddf5e5cee40",
   "metadata": {},
   "source": [
    "#### Podsumowanie:"
   ]
  },
  {
   "cell_type": "raw",
   "id": "ce4ecbd7-01e0-4875-a041-08a7bb34f25f",
   "metadata": {},
   "source": [
    "Użycie reset_index po grupowaniu i agregacji pozwala na przekształcenie wynikowego Series z niestandardowym indeksem z powrotem do DataFrame z domyślnym numerycznym indeksem.\n",
    "Dzięki temu wynik jest bardziej spójny z typową strukturą danych w pandas i łatwiejszy do dalszej pracy."
   ]
  },
  {
   "cell_type": "code",
   "execution_count": null,
   "id": "d551a6e1-1454-47a8-a6c9-d56e208e7fa7",
   "metadata": {},
   "outputs": [],
   "source": []
  }
 ],
 "metadata": {
  "kernelspec": {
   "display_name": "Python 3 (ipykernel)",
   "language": "python",
   "name": "python3"
  },
  "language_info": {
   "codemirror_mode": {
    "name": "ipython",
    "version": 3
   },
   "file_extension": ".py",
   "mimetype": "text/x-python",
   "name": "python",
   "nbconvert_exporter": "python",
   "pygments_lexer": "ipython3",
   "version": "3.11.5"
  }
 },
 "nbformat": 4,
 "nbformat_minor": 5
}
