{
 "cells": [
  {
   "cell_type": "markdown",
   "id": "be836974-1d4d-4e72-a22f-19fbcf8cbdbd",
   "metadata": {},
   "source": [
    "# Wprowadzenie do Pythona w kontekście pracy z plikami Excela"
   ]
  },
  {
   "attachments": {},
   "cell_type": "markdown",
   "id": "7efcdbf7-2246-4012-b98c-581cea165e5f",
   "metadata": {},
   "source": [
    "#Instalacja pakietów"
   ]
  },
  {
   "cell_type": "code",
   "execution_count": 43,
   "id": "32831d2c-b20a-45bb-af91-39c55496ce10",
   "metadata": {},
   "outputs": [
    {
     "name": "stdout",
     "output_type": "stream",
     "text": [
      "Requirement already satisfied: pandas in c:\\users\\pablopapito\\anaconda3\\lib\\site-packages (2.0.3)\n",
      "Requirement already satisfied: openpyxl in c:\\users\\pablopapito\\anaconda3\\lib\\site-packages (3.0.10)\n",
      "Requirement already satisfied: xlsxwriter in c:\\users\\pablopapito\\anaconda3\\lib\\site-packages (3.2.0)\n",
      "Requirement already satisfied: xlrd in c:\\users\\pablopapito\\anaconda3\\lib\\site-packages (2.0.1)\n",
      "Requirement already satisfied: xlwt in c:\\users\\pablopapito\\anaconda3\\lib\\site-packages (1.3.0)\n",
      "Requirement already satisfied: xlutils in c:\\users\\pablopapito\\anaconda3\\lib\\site-packages (2.0.0)\n",
      "Requirement already satisfied: pyexcel in c:\\users\\pablopapito\\anaconda3\\lib\\site-packages (0.7.0)\n",
      "Requirement already satisfied: pyexcel-xls in c:\\users\\pablopapito\\anaconda3\\lib\\site-packages (0.7.0)\n",
      "Requirement already satisfied: pyexcel-xlsx in c:\\users\\pablopapito\\anaconda3\\lib\\site-packages (0.6.0)\n",
      "Requirement already satisfied: python-dateutil>=2.8.2 in c:\\users\\pablopapito\\anaconda3\\lib\\site-packages (from pandas) (2.8.2)\n",
      "Requirement already satisfied: pytz>=2020.1 in c:\\users\\pablopapito\\anaconda3\\lib\\site-packages (from pandas) (2023.3.post1)\n",
      "Requirement already satisfied: tzdata>=2022.1 in c:\\users\\pablopapito\\anaconda3\\lib\\site-packages (from pandas) (2023.3)\n",
      "Requirement already satisfied: numpy>=1.21.0 in c:\\users\\pablopapito\\anaconda3\\lib\\site-packages (from pandas) (1.24.3)\n",
      "Requirement already satisfied: et_xmlfile in c:\\users\\pablopapito\\anaconda3\\lib\\site-packages (from openpyxl) (1.1.0)\n",
      "Requirement already satisfied: chardet in c:\\users\\pablopapito\\anaconda3\\lib\\site-packages (from pyexcel) (4.0.0)\n",
      "Requirement already satisfied: lml>=0.0.4 in c:\\users\\pablopapito\\anaconda3\\lib\\site-packages (from pyexcel) (0.1.0)\n",
      "Requirement already satisfied: pyexcel-io>=0.6.2 in c:\\users\\pablopapito\\anaconda3\\lib\\site-packages (from pyexcel) (0.6.6)\n",
      "Requirement already satisfied: texttable>=0.8.2 in c:\\users\\pablopapito\\anaconda3\\lib\\site-packages (from pyexcel) (1.7.0)\n",
      "Requirement already satisfied: six>=1.5 in c:\\users\\pablopapito\\anaconda3\\lib\\site-packages (from python-dateutil>=2.8.2->pandas) (1.16.0)\n"
     ]
    }
   ],
   "source": [
    "!pip install pandas openpyxl xlsxwriter xlrd xlwt xlutils pyexcel pyexcel-xls pyexcel-xlsx"
   ]
  },
  {
   "attachments": {},
   "cell_type": "markdown",
   "id": "436dc2f5-c162-4fd9-96bc-449d6bea6b17",
   "metadata": {},
   "source": [
    "# Krótkie przykłady użycia każdego pakietu"
   ]
  },
  {
   "cell_type": "markdown",
   "id": "fccff5b6-db1f-4b61-b1c8-4894c41205c9",
   "metadata": {},
   "source": [
    "#### Przykład 1: Wczytanie pliku Excel do DataFrame"
   ]
  },
  {
   "cell_type": "code",
   "execution_count": 9,
   "id": "25ffe280-e306-4fd3-a78b-f22a138172d1",
   "metadata": {},
   "outputs": [
    {
     "name": "stdout",
     "output_type": "stream",
     "text": [
      "   work_year             job_title                    job_category  \\\n",
      "0       2023  Data DevOps Engineer                Data Engineering   \n",
      "1       2023        Data Architect  Data Architecture and Modeling   \n",
      "2       2023        Data Architect  Data Architecture and Modeling   \n",
      "3       2023        Data Scientist       Data Science and Research   \n",
      "4       2023        Data Scientist       Data Science and Research   \n",
      "\n",
      "  salary_currency  salary  salary_in_usd employee_residence experience_level  \\\n",
      "0             EUR   88000          95012            Germany        Mid-level   \n",
      "1             USD  186000         186000      United States           Senior   \n",
      "2             USD   81800          81800      United States           Senior   \n",
      "3             USD  212000         212000      United States           Senior   \n",
      "4             USD   93300          93300      United States           Senior   \n",
      "\n",
      "  employment_type work_setting company_location company_size  \n",
      "0       Full-time       Hybrid          Germany            L  \n",
      "1       Full-time    In-person    United States            M  \n",
      "2       Full-time    In-person    United States            M  \n",
      "3       Full-time    In-person    United States            M  \n",
      "4       Full-time    In-person    United States            M  \n"
     ]
    }
   ],
   "source": [
    "# Wczytanie pliku Excel do DataFrame\n",
    "\n",
    "import pandas as pd\n",
    "df = pd.read_excel(r'C:\\Users\\PabloPapito\\Downloads\\jobsInData\\jobsInData.xlsx') # Przykładowa ścieżka\n",
    "print(df.head())\n"
   ]
  },
  {
   "cell_type": "markdown",
   "id": "e53d9f63-095b-4875-b205-e88f2edb50ad",
   "metadata": {},
   "source": [
    "#### Przykład 2: Eksportowanie DataFrame do pliku Excel"
   ]
  },
  {
   "cell_type": "code",
   "execution_count": 11,
   "id": "38468bbd-9e1e-4936-80af-4a2c3c73ca6e",
   "metadata": {},
   "outputs": [],
   "source": [
    "# Eksportowanie DataFrame do pliku Excel\n",
    "\n",
    "df.to_excel(r'C:\\Users\\PabloPapito\\Downloads\\jobsInData\\exampleExport.xlsx', index=False) # Przykładowa ścieżka"
   ]
  },
  {
   "cell_type": "markdown",
   "id": "3475d5b5-eefb-4616-bad7-ff5698292c7b",
   "metadata": {},
   "source": [
    "#### Przykład 3: Openpyxl: Tworzenie nowego pliku Excel"
   ]
  },
  {
   "cell_type": "code",
   "execution_count": 17,
   "id": "2079320b-6601-4949-a04d-1cba43627734",
   "metadata": {},
   "outputs": [],
   "source": [
    "# Openpyxl: Tworzenie nowego pliku Excel\n",
    "\n",
    "from openpyxl import Workbook\n",
    "wb = Workbook()\n",
    "ws = wb.active\n",
    "ws['A1'] = \"Hello, Openpyxl!\"\n",
    "wb.save('openpyxl_example.xlsx')\n",
    "wb.save(r'C:\\Users\\PabloPapito\\Downloads\\jobsInData\\openpyxl_example.xlsx') # Przykładowa ścieżka"
   ]
  },
  {
   "cell_type": "markdown",
   "id": "46dc8b36-5398-4306-9ce0-f43ce7b28f76",
   "metadata": {},
   "source": [
    "#### Przykład 4: xlsxwriter: Tworzenie nowego pliku Excel z formatowaniem"
   ]
  },
  {
   "cell_type": "code",
   "execution_count": 19,
   "id": "61a8640c-aa1e-4c1f-982c-771f88995cbe",
   "metadata": {},
   "outputs": [],
   "source": [
    "# xlsxwriter: Tworzenie nowego pliku Excel z formatowaniem\n",
    "\n",
    "import xlsxwriter\n",
    "workbook = xlsxwriter.Workbook('xlsxwriter_example_reminder.xlsx')\n",
    "worksheet = workbook.add_worksheet()\n",
    "worksheet.write('A1', 'Hello, XlsxWriter!')\n",
    "format = workbook.add_format({'bold': True, 'font_color': 'red'})\n",
    "worksheet.write('A2', 'Formatted text', format)\n",
    "workbook.close()"
   ]
  },
  {
   "cell_type": "markdown",
   "id": "b2e9c283-d977-489f-8eae-e944e7e85a12",
   "metadata": {},
   "source": [
    "#### Przykład 5: xlrd: Odczytywanie danych z pliku Excel"
   ]
  },
  {
   "cell_type": "code",
   "execution_count": 7,
   "id": "b689d7d1-c006-401e-9aa5-7fa19fde61e4",
   "metadata": {},
   "outputs": [
    {
     "name": "stdout",
     "output_type": "stream",
     "text": [
      "work_year\n"
     ]
    }
   ],
   "source": [
    "# xlrd: Odczytywanie danych z pliku Excel\n",
    "\n",
    "import xlrd\n",
    "workbook = xlrd.open_workbook(r'C:\\Users\\PabloPapito\\Downloads\\jobsInData\\jobsInDataXLS.xls') # Przykładowa ścieżka\n",
    "sheet = workbook.sheet_by_index(0)\n",
    "print(sheet.cell_value(0, 0))\n"
   ]
  },
  {
   "cell_type": "markdown",
   "id": "4af5d2d4-dbbf-44c7-bf84-298a0e008583",
   "metadata": {},
   "source": [
    "#### Przykład 6: xlwt: Tworzenie nowego pliku Excel"
   ]
  },
  {
   "cell_type": "code",
   "execution_count": 27,
   "id": "eecbd702-9bca-4b48-9be3-d68cd2867a20",
   "metadata": {},
   "outputs": [],
   "source": [
    "# xlwt: Tworzenie nowego pliku Excel\n",
    "\n",
    "import xlwt\n",
    "workbook = xlwt.Workbook()\n",
    "sheet = workbook.add_sheet('Sheet 1')\n",
    "sheet.write(0, 0, 'Hello, Xlwt!')\n",
    "workbook.save('xlwt_example.xls')\n"
   ]
  },
  {
   "cell_type": "markdown",
   "id": "152a8a19-1e49-425e-948d-0bbca4dd65ab",
   "metadata": {},
   "source": [
    "#### Przykład 7: # xlutils: Kopiowanie arkusza"
   ]
  },
  {
   "cell_type": "code",
   "execution_count": 33,
   "id": "2f03a338-d712-4594-9130-fcef03dc25a9",
   "metadata": {},
   "outputs": [],
   "source": [
    "# xlutils: Kopiowanie arkusza\n",
    "\n",
    "from xlrd import open_workbook\n",
    "from xlutils.copy import copy\n",
    "rb = open_workbook(r'C:\\Users\\PabloPapito\\Downloads\\jobsInData\\jobsInDataXLS.xls') # Przykładowa ścieżka\n",
    "wb = copy(rb)\n",
    "ws = wb.get_sheet(0)\n",
    "ws.write(0, 1, 'Modified by xlutils')\n",
    "wb.save(r'C:\\Users\\PabloPapito\\Downloads\\jobsInData\\xlutils_example.xls') # Przykładowa ścieżka\n"
   ]
  },
  {
   "cell_type": "markdown",
   "id": "4077db0f-97e3-47a7-9dde-05cd9974504a",
   "metadata": {},
   "source": [
    "#### Przykład 8: pyexcel: Wczytywanie pliku Excel"
   ]
  },
  {
   "cell_type": "code",
   "execution_count": null,
   "id": "4f4775d7-b7b4-4999-83c9-e365708d318e",
   "metadata": {},
   "outputs": [],
   "source": [
    "# pyexcel: Wczytywanie pliku Excel\n",
    "\n",
    "import pyexcel_xlsx as p\n",
    "sheet = p.get_data(r'C:\\Users\\PabloPapito\\Downloads\\jobsInData\\jobsInData.xlsx') # Przykładowa ścieżka\n",
    "# print(sheet) - zwróci bardzo duży output\n"
   ]
  },
  {
   "cell_type": "markdown",
   "id": "ddfd8d52-5eae-4b69-bc4a-fb2d636a702e",
   "metadata": {},
   "source": [
    "#### Przykład 9: pyexcel: Zapisanie pliku Excel ze stworzonego zakresu danych"
   ]
  },
  {
   "cell_type": "code",
   "execution_count": 75,
   "id": "f30e3d9a-ec55-466f-8ab6-f57662237866",
   "metadata": {},
   "outputs": [],
   "source": [
    "# pyexcel: Zapisanie pliku Excel\n",
    "\n",
    "import pyexcel as py\n",
    "data = [[1, 2, 3], [4, 5, 6]]\n",
    "py.save_as(array=data, dest_file_name='pyexcel_example.xlsx')\n"
   ]
  },
  {
   "cell_type": "markdown",
   "id": "100a5c95-f61c-4f6b-bf0f-ee4b887e6641",
   "metadata": {},
   "source": [
    "#### Przykład 10: pyexcel: Wczytanie arkusza z wcześniej zapisanego pliku Excel"
   ]
  },
  {
   "cell_type": "code",
   "execution_count": 71,
   "id": "3ee452c8-2b7d-4709-962f-fab09f7b647e",
   "metadata": {},
   "outputs": [
    {
     "data": {
      "text/plain": [
       "pyexcel_sheet1:\n",
       "+---+---+---+\n",
       "| 1 | 2 | 3 |\n",
       "+---+---+---+\n",
       "| 4 | 5 | 6 |\n",
       "+---+---+---+"
      ]
     },
     "execution_count": 71,
     "metadata": {},
     "output_type": "execute_result"
    }
   ],
   "source": [
    "# pyexcel: Wczytanie arkusza\n",
    "\n",
    "py.get_sheet(file_name='pyexcel_example.xlsx')"
   ]
  },
  {
   "cell_type": "code",
   "execution_count": null,
   "id": "931b5398-62e4-4caa-a54c-7642793ed293",
   "metadata": {},
   "outputs": [],
   "source": []
  }
 ],
 "metadata": {
  "kernelspec": {
   "display_name": "Python 3 (ipykernel)",
   "language": "python",
   "name": "python3"
  },
  "language_info": {
   "codemirror_mode": {
    "name": "ipython",
    "version": 3
   },
   "file_extension": ".py",
   "mimetype": "text/x-python",
   "name": "python",
   "nbconvert_exporter": "python",
   "pygments_lexer": "ipython3",
   "version": "3.11.5"
  }
 },
 "nbformat": 4,
 "nbformat_minor": 5
}
